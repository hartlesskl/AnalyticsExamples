{
    "metadata": {
        "kernelspec": {
            "name": "python3",
            "display_name": "Python 3"
        },
        "language_info": {
            "name": "python",
            "version": "3.6.6",
            "mimetype": "text/x-python",
            "codemirror_mode": {
                "name": "ipython",
                "version": 3
            },
            "pygments_lexer": "ipython3",
            "nbconvert_exporter": "python",
            "file_extension": ".py"
        }
    },
    "nbformat_minor": 2,
    "nbformat": 4,
    "cells": [
        {
            "cell_type": "markdown",
            "source": [
                "## Preprocessing airbnb file\n",
                "### Remove rows with missing values and reduce categorical variables"
            ],
            "metadata": {
                "azdata_cell_guid": "2bf7cb46-7e01-4b82-8359-9014b82c3cf8"
            }
        },
        {
            "cell_type": "code",
            "source": [
                "#import statements\n",
                "import numpy as np \n",
                "from numpy import mean, absolute\n",
                "import pandas as pd \n",
                ""
            ],
            "metadata": {
                "azdata_cell_guid": "c5c1d131-aa87-402b-a92f-fb42df6045a5"
            },
            "outputs": [],
            "execution_count": 54
        },
        {
            "cell_type": "code",
            "source": [
                "df = pd.read_excel('Preprocessing_airbnbRawData.xlsx')"
            ],
            "metadata": {
                "azdata_cell_guid": "fcfe5089-6a27-489c-9120-399962e4530d"
            },
            "outputs": [],
            "execution_count": 55
        },
        {
            "cell_type": "markdown",
            "source": [
                "## Remove Duplicates"
            ],
            "metadata": {
                "azdata_cell_guid": "40b781d1-6f92-4577-b654-ec003103db1b"
            }
        },
        {
            "cell_type": "code",
            "source": [
                "df.isna().sum()"
            ],
            "metadata": {
                "azdata_cell_guid": "dba1b56e-7869-4d90-9a5c-2366eb7e618d"
            },
            "outputs": [
                {
                    "data": {
                        "text/plain": "id                            0\nSignupMethod                  0\ngender                     8908\nSignupApp                     0\nLanguageUse                   0\nAffiliateProvider             0\nFirstDeviceType               0\nfirstBrowserUse               0\nfirst_affiliate_tracked    4364\naffiliate_channel             0\nfirst_device_type             0\naffiliate_provider            0\nlanguage                      0\nfirst_browser              5437\nage                        7964\nsignup_flow                   0\nBooked                        0\ndtype: int64"
                    },
                    "metadata": {},
                    "execution_count": 56,
                    "output_type": "execute_result"
                }
            ],
            "execution_count": 56
        },
        {
            "cell_type": "code",
            "source": [
                "len(df)"
            ],
            "metadata": {
                "azdata_cell_guid": "d9f7d49c-1fd9-4edb-a813-5917cb824587"
            },
            "outputs": [
                {
                    "data": {
                        "text/plain": "25000"
                    },
                    "metadata": {},
                    "execution_count": 57,
                    "output_type": "execute_result"
                }
            ],
            "execution_count": 57
        },
        {
            "cell_type": "code",
            "source": [
                "dfEdited = df.dropna()\n",
                "len(dfEdited)"
            ],
            "metadata": {
                "azdata_cell_guid": "eca81309-088d-40ea-a69e-e4b4c487f4e0"
            },
            "outputs": [
                {
                    "data": {
                        "text/plain": "12760"
                    },
                    "metadata": {},
                    "execution_count": 58,
                    "output_type": "execute_result"
                }
            ],
            "execution_count": 58
        },
        {
            "cell_type": "markdown",
            "source": [
                "## Reduce categorical variables"
            ],
            "metadata": {
                "azdata_cell_guid": "8a690d2a-26e9-45fd-9ca4-21f8164e75f6"
            }
        },
        {
            "cell_type": "code",
            "source": [
                "dfEdited.nunique()"
            ],
            "metadata": {
                "azdata_cell_guid": "3a655b18-33b5-4e7c-a34e-9e41c55916f9"
            },
            "outputs": [
                {
                    "data": {
                        "text/plain": "id                         12760\nSignupMethod                   2\ngender                         3\nSignupApp                      3\nLanguageUse                    4\nAffiliateProvider              5\nFirstDeviceType                4\nfirstBrowserUse                4\nfirst_affiliate_tracked        7\naffiliate_channel              8\nfirst_device_type              9\naffiliate_provider            10\nlanguage                      19\nfirst_browser                 24\nage                          100\nsignup_flow                   13\nBooked                         2\ndtype: int64"
                    },
                    "metadata": {},
                    "execution_count": 60,
                    "output_type": "execute_result"
                }
            ],
            "execution_count": 60
        },
        {
            "cell_type": "code",
            "source": [
                "categoryCutoff = 4\n",
                "colsToEdit = ['first_affiliate_tracked','affiliate_channel','first_device_type','affiliate_provider','language','first_browser']\n",
                ""
            ],
            "metadata": {
                "azdata_cell_guid": "87636d06-3153-405f-aba9-895152937ab4"
            },
            "outputs": [],
            "execution_count": 61
        },
        {
            "cell_type": "code",
            "source": [
                "for col in colsToEdit:\n",
                "    mapDict = {}\n",
                "    colName = col + '_fix'\n",
                "    for i, descr in enumerate(dfEdited[col].value_counts().index):\n",
                "        if i < categoryCutoff:\n",
                "            mapDict[descr] = descr\n",
                "        else:\n",
                "            mapDict[descr] = 'Other'\n",
                "    dfEdited[colName] = dfEdited[col].map(mapDict)"
            ],
            "metadata": {
                "azdata_cell_guid": "abebe269-3584-41df-b2ea-b82ec4ecbdac"
            },
            "outputs": [
                {
                    "name": "stderr",
                    "text": "/Users/karengrundy/azuredatastudio-python/0.0.1/lib/python3.6/site-packages/ipykernel_launcher.py:9: SettingWithCopyWarning: \nA value is trying to be set on a copy of a slice from a DataFrame.\nTry using .loc[row_indexer,col_indexer] = value instead\n\nSee the caveats in the documentation: http://pandas.pydata.org/pandas-docs/stable/user_guide/indexing.html#returning-a-view-versus-a-copy\n  if __name__ == '__main__':\n",
                    "output_type": "stream"
                }
            ],
            "execution_count": 62
        },
        {
            "cell_type": "code",
            "source": [
                "\n",
                "dfEdited.to_excel('airbnbEditedData.xlsx',sheet_name='edited',index=False)"
            ],
            "metadata": {
                "azdata_cell_guid": "c3606a23-6cf5-4b15-b3df-30b72c8aea88"
            },
            "outputs": [],
            "execution_count": 63
        }
    ]
}