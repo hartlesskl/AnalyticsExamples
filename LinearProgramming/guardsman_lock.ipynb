{
    "metadata": {
        "kernelspec": {
            "name": "python3",
            "display_name": "Python 3"
        },
        "language_info": {
            "name": "python",
            "version": "3.6.6",
            "mimetype": "text/x-python",
            "codemirror_mode": {
                "name": "ipython",
                "version": 3
            },
            "pygments_lexer": "ipython3",
            "nbconvert_exporter": "python",
            "file_extension": ".py"
        }
    },
    "nbformat_minor": 2,
    "nbformat": 4,
    "cells": [
        {
            "cell_type": "code",
            "source": [
                "import numpy as np \n",
                "import pandas as pd\n",
                "import pulp\n",
                "from itertools import combinations "
            ],
            "metadata": {
                "azdata_cell_guid": "bda07af9-1d3e-4b08-a17f-19e55203e76b"
            },
            "outputs": [],
            "execution_count": 3
        },
        {
            "cell_type": "markdown",
            "source": [
                "---\n",
                "**Objective:** Maximize profit from producing and shipping the optimal number of products from 4 possible production plants to 7 possible distribution facilities.\n",
                "\n",
                "Cost Objective = sales - shipping costs - production costs\n",
                "****\n",
                "**Constraints:**\n",
                "\n",
                "Max capacity = total production_plant <= annual capacity_plant\n",
                "\n",
                "Max demand = total production_distributor < demand_distributor \n",
                "****\n",
                "**Available data:**\n",
                "\n",
                "The Guardsman_lock file contains three spreadsheets\n",
                "* Shipping: This sheet contains the cost to ship from each of the plants to each of the distributors\n",
                "* Distributor: This sheet contains the max demand and sales price for each distributor\n",
                "* Plants: This sheet contains the cost of producing each unit and the annual capacity for each plant\n",
                "---\n",
                "\n",
                "\n",
                ""
            ],
            "metadata": {
                "azdata_cell_guid": "d4829188-9dd8-4bc1-b17c-bb87ba2f2a54"
            }
        },
        {
            "cell_type": "code",
            "source": [
                "#Load the file into separate dataframes\n",
                "filepath = '/Volumes/Elements/khartless/Projects/Data/'\n",
                "file_name = 'guardsman_lock.xlsx'\n",
                "\n",
                "shipping = pd.read_excel(filepath+file_name, sheet_name= 'Shipping', index_col=[0])\n",
                "distributor = pd.read_excel(filepath+file_name, sheet_name= 'Distributor', index_col=[0])\n",
                "plants = pd.read_excel(filepath+file_name, sheet_name= 'Plants', index_col=[0])\n",
                ""
            ],
            "metadata": {
                "azdata_cell_guid": "8aaa2fdf-852b-49db-b003-8530cf62dc4b"
            },
            "outputs": [],
            "execution_count": 4
        },
        {
            "cell_type": "code",
            "source": [
                "shipping"
            ],
            "metadata": {
                "azdata_cell_guid": "99b2e6f5-16c5-40e9-8515-1065e36b51c6"
            },
            "outputs": [
                {
                    "data": {
                        "text/plain": "                Tacoma  San Diego  Dallas  Denver  St. Louis  Tampa  Baltimore\nShipping Costs                                                                \nMacon             2.50       2.75    1.75    2.00        2.1   1.80       1.65\nLouisville        1.85       1.90    1.50    1.60        1.0   1.90       1.85\nDetroit           2.30       2.25    1.85    1.25        1.5   2.25       2.00\nPhoenix           1.90       0.90    1.60    1.75        2.0   2.50       2.65",
                        "text/html": "<div>\n<style scoped>\n    .dataframe tbody tr th:only-of-type {\n        vertical-align: middle;\n    }\n\n    .dataframe tbody tr th {\n        vertical-align: top;\n    }\n\n    .dataframe thead th {\n        text-align: right;\n    }\n</style>\n<table border=\"1\" class=\"dataframe\">\n  <thead>\n    <tr style=\"text-align: right;\">\n      <th></th>\n      <th>Tacoma</th>\n      <th>San Diego</th>\n      <th>Dallas</th>\n      <th>Denver</th>\n      <th>St. Louis</th>\n      <th>Tampa</th>\n      <th>Baltimore</th>\n    </tr>\n    <tr>\n      <th>Shipping Costs</th>\n      <th></th>\n      <th></th>\n      <th></th>\n      <th></th>\n      <th></th>\n      <th></th>\n      <th></th>\n    </tr>\n  </thead>\n  <tbody>\n    <tr>\n      <th>Macon</th>\n      <td>2.50</td>\n      <td>2.75</td>\n      <td>1.75</td>\n      <td>2.00</td>\n      <td>2.1</td>\n      <td>1.80</td>\n      <td>1.65</td>\n    </tr>\n    <tr>\n      <th>Louisville</th>\n      <td>1.85</td>\n      <td>1.90</td>\n      <td>1.50</td>\n      <td>1.60</td>\n      <td>1.0</td>\n      <td>1.90</td>\n      <td>1.85</td>\n    </tr>\n    <tr>\n      <th>Detroit</th>\n      <td>2.30</td>\n      <td>2.25</td>\n      <td>1.85</td>\n      <td>1.25</td>\n      <td>1.5</td>\n      <td>2.25</td>\n      <td>2.00</td>\n    </tr>\n    <tr>\n      <th>Phoenix</th>\n      <td>1.90</td>\n      <td>0.90</td>\n      <td>1.60</td>\n      <td>1.75</td>\n      <td>2.0</td>\n      <td>2.50</td>\n      <td>2.65</td>\n    </tr>\n  </tbody>\n</table>\n</div>"
                    },
                    "metadata": {},
                    "execution_count": 5,
                    "output_type": "execute_result"
                }
            ],
            "execution_count": 5
        },
        {
            "cell_type": "code",
            "source": [
                "distributor"
            ],
            "metadata": {
                "azdata_cell_guid": "a2be3aaf-91af-407d-9654-83388e687cbb"
            },
            "outputs": [
                {
                    "data": {
                        "text/plain": "                       Tacoma  San Diego  Dallas   Denver  St. Louis  \\\nDistributor Variables                                                  \nDemand                 8500.0   14500.00   13500  12600.0    18000.0   \nSales price              42.5      41.75      45     42.9       40.4   \n\n                          Tampa  Baltimore  \nDistributor Variables                       \nDemand                 15000.00     9000.0  \nSales price               41.85       44.2  ",
                        "text/html": "<div>\n<style scoped>\n    .dataframe tbody tr th:only-of-type {\n        vertical-align: middle;\n    }\n\n    .dataframe tbody tr th {\n        vertical-align: top;\n    }\n\n    .dataframe thead th {\n        text-align: right;\n    }\n</style>\n<table border=\"1\" class=\"dataframe\">\n  <thead>\n    <tr style=\"text-align: right;\">\n      <th></th>\n      <th>Tacoma</th>\n      <th>San Diego</th>\n      <th>Dallas</th>\n      <th>Denver</th>\n      <th>St. Louis</th>\n      <th>Tampa</th>\n      <th>Baltimore</th>\n    </tr>\n    <tr>\n      <th>Distributor Variables</th>\n      <th></th>\n      <th></th>\n      <th></th>\n      <th></th>\n      <th></th>\n      <th></th>\n      <th></th>\n    </tr>\n  </thead>\n  <tbody>\n    <tr>\n      <th>Demand</th>\n      <td>8500.0</td>\n      <td>14500.00</td>\n      <td>13500</td>\n      <td>12600.0</td>\n      <td>18000.0</td>\n      <td>15000.00</td>\n      <td>9000.0</td>\n    </tr>\n    <tr>\n      <th>Sales price</th>\n      <td>42.5</td>\n      <td>41.75</td>\n      <td>45</td>\n      <td>42.9</td>\n      <td>40.4</td>\n      <td>41.85</td>\n      <td>44.2</td>\n    </tr>\n  </tbody>\n</table>\n</div>"
                    },
                    "metadata": {},
                    "execution_count": 6,
                    "output_type": "execute_result"
                }
            ],
            "execution_count": 6
        },
        {
            "cell_type": "code",
            "source": [
                "plants"
            ],
            "metadata": {
                "azdata_cell_guid": "f70f1509-8811-44f9-be91-3cb3de874bef"
            },
            "outputs": [
                {
                    "data": {
                        "text/plain": "                   Macon  Louisville  Detroit   Phoenix\nPlant Variable                                         \nUnit Cost           35.5        37.5       39     36.25\nAnnual capacity  18000.0     22000.0    25000  20000.00",
                        "text/html": "<div>\n<style scoped>\n    .dataframe tbody tr th:only-of-type {\n        vertical-align: middle;\n    }\n\n    .dataframe tbody tr th {\n        vertical-align: top;\n    }\n\n    .dataframe thead th {\n        text-align: right;\n    }\n</style>\n<table border=\"1\" class=\"dataframe\">\n  <thead>\n    <tr style=\"text-align: right;\">\n      <th></th>\n      <th>Macon</th>\n      <th>Louisville</th>\n      <th>Detroit</th>\n      <th>Phoenix</th>\n    </tr>\n    <tr>\n      <th>Plant Variable</th>\n      <th></th>\n      <th></th>\n      <th></th>\n      <th></th>\n    </tr>\n  </thead>\n  <tbody>\n    <tr>\n      <th>Unit Cost</th>\n      <td>35.5</td>\n      <td>37.5</td>\n      <td>39</td>\n      <td>36.25</td>\n    </tr>\n    <tr>\n      <th>Annual capacity</th>\n      <td>18000.0</td>\n      <td>22000.0</td>\n      <td>25000</td>\n      <td>20000.00</td>\n    </tr>\n  </tbody>\n</table>\n</div>"
                    },
                    "metadata": {},
                    "execution_count": 7,
                    "output_type": "execute_result"
                }
            ],
            "execution_count": 7
        },
        {
            "cell_type": "code",
            "source": [
                "#determine the number of plants and distributors\n",
                "n_distributors = len(distributor.columns)\n",
                "n_plants = len(plants.columns)\n",
                "\n",
                "n_distributors, n_plants"
            ],
            "metadata": {
                "azdata_cell_guid": "fb23ac0f-a226-4991-9672-31cf7e5854c8"
            },
            "outputs": [
                {
                    "data": {
                        "text/plain": "(7, 4)"
                    },
                    "metadata": {},
                    "execution_count": 8,
                    "output_type": "execute_result"
                }
            ],
            "execution_count": 8
        },
        {
            "cell_type": "code",
            "source": [
                "#Create the model\n",
                "model = pulp.LpProblem(name='shipping_planning_guardsman', sense=pulp.LpMaximize)\n",
                "\n",
                "#Create a matrix of possible production values for each plant and distributor combination\n",
                "variable_name = [str(i)+str(j) for i in range(1, n_plants+1) for j in range(1, n_distributors+1)]\n",
                "\n",
                "production_variables = pulp.LpVariable.matrix('P', variable_name,\n",
                "                                             lowBound=0, cat=pulp.LpContinuous)\n",
                "\n",
                "#This array of the production variables will be used in calculating the cost function and constraints\n",
                "allocation = np.array(production_variables).reshape(4,7)                                             \n",
                "\n",
                "#set constraint for each plant, production at each plant must be less than or equal to max capacity for plant\n",
                "for index, plant in enumerate(plants.columns): \n",
                "    model.addConstraint(pulp.LpConstraint(\n",
                "        e=pulp.lpSum(allocation[index,:]),\n",
                "        sense=pulp.LpConstraintLE,\n",
                "        name='plant_max' + str(plant),\n",
                "        rhs=plants[plant]['Annual capacity']))\n",
                "\n",
                "#set demand constraint for each distributor, production allocated to each distributor must be less than or equal to demand\n",
                "for index, demand in enumerate(distributor.loc['Demand']):\n",
                "    model.addConstraint(pulp.LpConstraint(\n",
                "        e=pulp.lpSum(allocation[:,index]),\n",
                "        sense=pulp.LpConstraintLE,\n",
                "        name='demand' + str(distributor.columns[index]),\n",
                "        rhs=demand\n",
                "    ))\n",
                "\n",
                "#set objective\n",
                "total_sales = pulp.lpSum(allocation*distributor.loc['Sales price'].values)\n",
                "total_shipping_costs = pulp.lpSum(allocation*shipping.values) \n",
                "total_unit_costs = pulp.lpSum(allocation[index,:]*cost for index, cost in enumerate(plants.loc['Unit Cost']))                                \n",
                "\n",
                "objective = total_sales - total_shipping_costs - total_unit_costs\n",
                "\n",
                "model.setObjective(objective)\n",
                "\n",
                "model.solve()\n",
                "\n",
                "#if the model is optimal, print the objective value and the production matrix\n",
                "if model.status == 1:\n",
                "    print(f'status: {model.status}, {pulp.LpStatus[model.status]}')\n",
                "    print(f'objective: ${model.objective.value():,.0f}')\n",
                "    output = []\n",
                "    for i,var in enumerate(model.variables()):\n",
                "        output.append(var.value())\n",
                "\n",
                "    print(np.array(output).reshape(4,7))\n",
                "else:\n",
                "    print(f'status: {model.status}, {pulp.LpStatus[model.status]}')"
            ],
            "metadata": {
                "azdata_cell_guid": "7e3a8ffc-9fd7-4192-be2f-ee06bd6206cb"
            },
            "outputs": [
                {
                    "name": "stdout",
                    "text": "status: 1, Optimal\nobjective: $333,835\n[[    0.     0.     0.     0.     0. 15000.  3000.]\n [ 3000.     0.  7100.     0. 11900.     0.     0.]\n [    0.     0.  6400. 12600.     0.     0.  6000.]\n [ 5500. 14500.     0.     0.     0.     0.     0.]]\n",
                    "output_type": "stream"
                }
            ],
            "execution_count": 27
        }
    ]
}