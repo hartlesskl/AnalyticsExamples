{
    "metadata": {
        "kernelspec": {
            "name": "python3",
            "display_name": "Python 3"
        },
        "language_info": {
            "name": "python",
            "version": "3.6.6",
            "mimetype": "text/x-python",
            "codemirror_mode": {
                "name": "ipython",
                "version": 3
            },
            "pygments_lexer": "ipython3",
            "nbconvert_exporter": "python",
            "file_extension": ".py"
        }
    },
    "nbformat_minor": 2,
    "nbformat": 4,
    "cells": [
        {
            "cell_type": "markdown",
            "source": [
                "Optimize convention center expansion based on fixed varaibles in the table below. Attempt to get as close to the requested parameters as possible. Avoid going under the room requirements. Avoid going over or under the total square foot requirements. Avoid going over the budget.\n",
                "\n",
                "Table of fixed costs\n",
                "\n",
                ""
            ],
            "metadata": {
                "azdata_cell_guid": "f74e693b-5d44-4948-842c-4bd0345b090c"
            }
        }
    ]
}