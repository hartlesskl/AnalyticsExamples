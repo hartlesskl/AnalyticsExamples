{
    "metadata": {
        "kernelspec": {
            "name": "python3",
            "display_name": "Python 3"
        },
        "language_info": {
            "name": "python",
            "version": "3.6.6",
            "mimetype": "text/x-python",
            "codemirror_mode": {
                "name": "ipython",
                "version": 3
            },
            "pygments_lexer": "ipython3",
            "nbconvert_exporter": "python",
            "file_extension": ".py"
        }
    },
    "nbformat_minor": 2,
    "nbformat": 4,
    "cells": [
        {
            "cell_type": "markdown",
            "source": [
                "## Problem Description\n",
                "***\n",
                "Determine the optimal number of units to produce to maximize total revenue given the following constraints:\n",
                "* At least 500 units of each product must be produced\n",
                "* Hyperlinks must be >= 2*Speedlinks\n",
                "* Production must be less than available raw materials\n",
                "\n",
                "Available Materials\n",
                "\n",
                "| PC Board (sq. in.) | Resistors | Memory Chips | Assembly Labor (hours) |  \n",
                "|--------------------|-----------|--------------|------------------------|  \n",
                "| 80,000             | 10,0000   | 30,000       | 5,000                  |\n",
                "\n",
                "\n",
                "Costs\n",
                "\n",
                "|                   |HyperLink  | FastLink\t | SpeedLink\t| MicroLink\t| EtherLink |\n",
                "|-------------------|-----------|------------|--------------|-----------|-----------|\n",
                "|Wholesale price    |\t189\t    |   149\t     |      149\t    |169\t    | 139       |\n",
                "|Manufacturing cost\t|   136\t    |   101\t     |      96\t    |137\t    | 101       |\n",
                "\n",
                "<b>Objective: </b> Minimize production * wholesale price - production * cost\n",
                "\n",
                ""
            ],
            "metadata": {
                "azdata_cell_guid": "ad7811e5-f5cf-4943-96cf-ed40bd8e7ce5"
            }
        },
        {
            "cell_type": "code",
            "source": [
                "import numpy as np \n",
                "import pandas as pd\n",
                "import pulp"
            ],
            "metadata": {
                "azdata_cell_guid": "01993aec-e132-4f37-bdcc-0fa7ae8bd83e"
            },
            "outputs": [],
            "execution_count": 4
        },
        {
            "cell_type": "code",
            "source": [
                "#fixed variables\n",
                "materials_inv = [80000, 100000, 30000, 5000]\n",
                "wholesale_price = [189, 149, 149, 169, 139]\n",
                "manufacturing_cost = [136, 101, 96, 137, 101]\n",
                "\n",
                "products = ['HyperLink', 'FastLink', 'SpeedLink', 'MicroLink', 'EtherLink']\n",
                "materials = ['PC Board (sq.in.)', 'Resistors', 'Memory Chips', 'Assembly Labor (hours)']\n",
                "\n",
                "min_production = 500\n",
                "\n",
                "n_products = len(products)\n",
                "n_materials = len(materials)\n",
                "\n",
                "df_materials = pd.DataFrame([[20, 15, 10, 8, 5],\n",
                "                            [22, 24, 18, 12, 16],\n",
                "                            [6, 8, 4, 4, 6],\n",
                "                            [0.75, 0.6, 0.5, 0.65, 1]], columns=products, index=materials)"
            ],
            "metadata": {
                "azdata_cell_guid": "945ac810-87ad-45f4-8cf2-1c1eaca176f6"
            },
            "outputs": [],
            "execution_count": 95
        },
        {
            "cell_type": "code",
            "source": [
                "#Create the model\n",
                "model = pulp.LpProblem(name='spectra_optimization', sense=pulp.LpMaximize)\n",
                "\n",
                "requirement_variables = pulp.LpVariable.matrix('P', products,\n",
                "                                              lowBound=0, cat=pulp.LpInteger)\n",
                "\n",
                "\n",
                "#The sum of each material must be less than or equal to the number of materials available\n",
                "for index, m in enumerate(materials):\n",
                "    model.addConstraint(pulp.LpConstraint(\n",
                "        e=pulp.lpSum(requirement_variables*df_materials.loc[m,:].values) ,\n",
                "        sense=pulp.LpConstraintLE,\n",
                "        name=m + '_inv_Max',\n",
                "        rhs=materials_inv[index]))\n",
                "\n",
                "for index, p in enumerate(products):\n",
                "    model.addConstraint(pulp.LpConstraint(\n",
                "        e=requirement_variables[index] ,\n",
                "        sense=pulp.LpConstraintGE,\n",
                "        name=p + 'prod_Min',\n",
                "        rhs=min_production))\n",
                "\n",
                "model.addConstraint(pulp.LpConstraint(\n",
                "    e=requirement_variables[products.index('HyperLink')]-2*requirement_variables[products.index('SpeedLink')],\n",
                "    sense = pulp.LpConstraintGE,\n",
                "    name = 'HyperLinkConstraint',\n",
                "    rhs = 0))\n",
                "\n",
                "objective = pulp.lpSum((np.array(wholesale_price)-np.array(manufacturing_cost))*requirement_variables)\n",
                "\n",
                "model.setObjective(objective)\n",
                "\n",
                "model.solve()\n",
                "\n",
                "if model.status == 1:\n",
                "    print(f'status: {model.status}, {pulp.LpStatus[model.status]}')\n",
                "    print(f'objective: ${model.objective.value():,.0f}')\n",
                "    output = pd.DataFrame()\n",
                "    for index,product in enumerate(products):\n",
                "        output[product]=[requirement_variables[index].value()]\n",
                "    \n",
                "    print(output)\n",
                "else:\n",
                "    print(f'status: {model.status}, {pulp.LpStatus[model.status]}')"
            ],
            "metadata": {
                "azdata_cell_guid": "3e2da1a8-d308-41fc-816e-c6fa7290efc7"
            },
            "outputs": [
                {
                    "name": "stdout",
                    "text": "status: 1, Optimal\nobjective: $251,346\n   HyperLink  FastLink  SpeedLink  MicroLink  EtherLink\n0     1572.0     500.0      786.0     2603.0      502.0\n",
                    "output_type": "stream"
                }
            ],
            "execution_count": 96
        },
        {
            "cell_type": "code",
            "source": [
                "model"
            ],
            "metadata": {
                "azdata_cell_guid": "185a582f-1f91-43a8-a160-ea9cc2e73fb3"
            },
            "outputs": [
                {
                    "data": {
                        "text/plain": "spectra_optimization:\nMAXIMIZE\n38.0*P_EtherLink + 48.0*P_FastLink + 53.0*P_HyperLink + 32.0*P_MicroLink + 53.0*P_SpeedLink + 0.0\nSUBJECT TO\nPC_Board_(sq.in.)_inv_Max: 5 P_EtherLink + 15 P_FastLink + 20 P_HyperLink\n + 8 P_MicroLink + 10 P_SpeedLink <= 80000\n\nResistors_inv_Max: 16 P_EtherLink + 24 P_FastLink + 22 P_HyperLink\n + 12 P_MicroLink + 18 P_SpeedLink <= 10000\n\nMemory_Chips_inv_Max: 6 P_EtherLink + 8 P_FastLink + 6 P_HyperLink\n + 4 P_MicroLink + 4 P_SpeedLink <= 30000\n\nAssembly_Labor_(hours)_inv_Max: P_EtherLink + 0.6 P_FastLink\n + 0.75 P_HyperLink + 0.65 P_MicroLink + 0.5 P_SpeedLink <= 5000\n\nHyperLinkprod_Min: P_HyperLink >= 500\n\nFastLinkprod_Min: P_FastLink >= 500\n\nSpeedLinkprod_Min: P_SpeedLink >= 500\n\nMicroLinkprod_Min: P_MicroLink >= 500\n\nEtherLinkprod_Min: P_EtherLink >= 500\n\nVARIABLES\nP_EtherLink Continuous\nP_FastLink Continuous\nP_HyperLink Continuous\nP_MicroLink Continuous\nP_SpeedLink Continuous"
                    },
                    "metadata": {},
                    "execution_count": 74,
                    "output_type": "execute_result"
                }
            ],
            "execution_count": 74
        }
    ]
}