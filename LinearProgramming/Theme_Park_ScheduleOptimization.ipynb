{
    "metadata": {
        "kernelspec": {
            "name": "python3",
            "display_name": "Python 3"
        },
        "language_info": {
            "name": "python",
            "version": "3.6.6",
            "mimetype": "text/x-python",
            "codemirror_mode": {
                "name": "ipython",
                "version": 3
            },
            "pygments_lexer": "ipython3",
            "nbconvert_exporter": "python",
            "file_extension": ".py"
        }
    },
    "nbformat_minor": 2,
    "nbformat": 4,
    "cells": [
        {
            "cell_type": "markdown",
            "source": [
                "## Problem Description\n",
                "***\n",
                "Create a schedule for each 4 hour time period in a full day (6 time periods) where each full time employee works an entir 8 hour shift. Full time employees that start in a 4 hour shift window will also work the next 4 hour window. Part time employees only work a 4 hour shift.\n",
                "\n",
                "Full time employees are paid $7.5/hour for 8 hours/day  \n",
                "Part time employees are paid $9/hour for 4 hours/day\n",
                "\n",
                "| Time Period | Min Number of Employees |\n",
                "|-------------|-------------------------|\n",
                "| 12am to 4am | 90                      |\n",
                "|  4am to 8am | 215                     |\n",
                "|  8am to 12pm| 250                     |\n",
                "| 12pm to 4pm | 165                     |\n",
                "|  4pm to 8pm | 300                     |\n",
                "|  8pm to 12am| 125                     |\n",
                ""
            ],
            "metadata": {
                "azdata_cell_guid": "f8b72b6d-34d6-4b7c-bd2c-55f4c32ae19b"
            }
        },
        {
            "cell_type": "code",
            "source": [
                "import numpy as np \n",
                "import pandas as pd\n",
                "import pulp\n",
                "import json"
            ],
            "metadata": {
                "azdata_cell_guid": "756605bd-7e6d-401f-9d84-f13b2e9ade8e"
            },
            "outputs": [],
            "execution_count": 26
        },
        {
            "cell_type": "code",
            "source": [
                "#Variables\n",
                "fulltime_pay = 7.5\n",
                "parttime_pay = 9.\n",
                "min_employees = [90, 215, 250, 165, 300, 125]\n",
                "\n",
                "shifts = ['12am to 4am', '4am to 8am', '8am to 12pm', '12pm to 4pm', '4pm to 8pm', '8pm to 12am']\n",
                "pay_types = ['FT', 'PT']\n",
                "\n",
                "n_shifts = len(shifts)\n",
                "n_pay_types = len(pay_types)\n",
                "\n",
                "#create a shifted index to add full time employees from previous shift\n",
                "shifted_index = [i for i in range(6)]\n",
                "shifted_index = shifted_index[-1:] + shifted_index[:-1]"
            ],
            "metadata": {
                "azdata_cell_guid": "0543002d-a4b9-40a6-8fae-bf63f5216677"
            },
            "outputs": [],
            "execution_count": 27
        },
        {
            "cell_type": "code",
            "source": [
                "model = pulp.LpProblem(name='shift_planning', sense=pulp.LpMinimize)\n",
                "\n",
                "schedule_names = [str(i)+str(j) for i in range(1, n_shifts+1) for j in range(1, n_pay_types+1)]\n",
                "\n",
                "\n",
                "schedule_variables = pulp.LpVariable.matrix('P', schedule_names,\n",
                "                                             lowBound=0, cat=pulp.LpInteger)\n",
                "\n",
                "schedule = np.array(schedule_variables).reshape(n_shifts, n_pay_types)\n",
                "\n",
                "#The sum of each shift is greater than or equal to the shift total\n",
                "for index, shift in enumerate(shifts):\n",
                "    model.addConstraint(pulp.LpConstraint(\n",
                "        e=schedule[index,0] + schedule[index,1] + schedule[shifted_index[index],1] ,\n",
                "        sense=pulp.LpConstraintGE,\n",
                "        name='min_employee_' + shift,\n",
                "        rhs=min_employees[index]))\n",
                "\n",
                "objective = pulp.lpSum(schedule[:,0]*parttime_pay*4 + schedule[:,1]*fulltime_pay*8)\n",
                "\n",
                "model.setObjective(objective)\n",
                "\n",
                "model.solve()\n",
                "\n",
                "if model.status == 1:\n",
                "    print(f'status: {model.status}, {pulp.LpStatus[model.status]}')\n",
                "    print(f'objective: ${model.objective.value():,.0f}')\n",
                "    output = []\n",
                "    for i,var in enumerate(model.variables()):\n",
                "        output.append(var.value())\n",
                "\n",
                "    print(np.array(output).reshape(n_shifts, n_pay_types))\n",
                "else:\n",
                "    print(f'status: {model.status}, {pulp.LpStatus[model.status]}')\n",
                " "
            ],
            "metadata": {
                "azdata_cell_guid": "f5564fa9-9f3b-4ac6-ba39-7c1551014661",
                "tags": []
            },
            "outputs": [
                {
                    "name": "stdout",
                    "text": "status: 1, Optimal\nobjective: $35,160\n[[  0.  90.]\n [  0. 125.]\n [  0. 125.]\n [  0.  40.]\n [135. 125.]\n [  0.   0.]]\n",
                    "output_type": "stream"
                }
            ],
            "execution_count": 30
        },
        {
            "cell_type": "code",
            "source": [
                "model"
            ],
            "metadata": {
                "azdata_cell_guid": "da6338bf-779d-48e8-a482-b3eccb9a4680"
            },
            "outputs": [
                {
                    "data": {
                        "text/plain": "shift_planning:\nMINIMIZE\n36.0*P_11 + 60.0*P_12 + 36.0*P_21 + 60.0*P_22 + 36.0*P_31 + 60.0*P_32 + 36.0*P_41 + 60.0*P_42 + 36.0*P_51 + 60.0*P_52 + 36.0*P_61 + 60.0*P_62 + 0.0\nSUBJECT TO\nmin_employee_12am_to_4am: P_11 + P_12 + P_62 >= 90\n\nmin_employee_4am_to_8am: P_12 + P_21 + P_22 >= 215\n\nmin_employee_8am_to_12pm: P_22 + P_31 + P_32 >= 250\n\nmin_employee_12pm_to_4pm: P_32 + P_41 + P_42 >= 165\n\nmin_employee_4pm_to_8pm: P_42 + P_51 + P_52 >= 300\n\nmin_employee_8pm_to_12am: P_52 + P_61 + P_62 >= 125\n\nVARIABLES\n0 <= P_11 Integer\n0 <= P_12 Integer\n0 <= P_21 Integer\n0 <= P_22 Integer\n0 <= P_31 Integer\n0 <= P_32 Integer\n0 <= P_41 Integer\n0 <= P_42 Integer\n0 <= P_51 Integer\n0 <= P_52 Integer\n0 <= P_61 Integer\n0 <= P_62 Integer"
                    },
                    "metadata": {},
                    "execution_count": 31,
                    "output_type": "execute_result"
                }
            ],
            "execution_count": 31
        }
    ]
}