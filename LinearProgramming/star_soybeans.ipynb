{
    "metadata": {
        "kernelspec": {
            "name": "python3",
            "display_name": "Python 3"
        },
        "language_info": {
            "name": "python",
            "version": "3.6.6",
            "mimetype": "text/x-python",
            "codemirror_mode": {
                "name": "ipython",
                "version": 3
            },
            "pygments_lexer": "ipython3",
            "nbconvert_exporter": "python",
            "file_extension": ".py"
        }
    },
    "nbformat_minor": 2,
    "nbformat": 4,
    "cells": [
        {
            "cell_type": "code",
            "source": [
                "import numpy as np \n",
                "import pandas as pd\n",
                "import pulp\n",
                "import json"
            ],
            "metadata": {
                "azdata_cell_guid": "c00660a2-a2cb-4fa4-aeb8-f4b33d816258",
                "tags": []
            },
            "outputs": [],
            "execution_count": 2
        },
        {
            "cell_type": "markdown",
            "source": [
                "variables:\n",
                "I = beginning inventory\n",
                "P = purchase volume\n",
                "S = sales volume\n",
                "\n",
                "Cost Function = total_sales_revenue - purchase_cost - inventory_cost\n",
                "\n",
                "total_sales_revenue = price * sell_variable\n",
                "\n",
                "purchase_cost = price * purchase_variable\n",
                "\n",
                "inventory_cost = fixed_cost * average_inventory\n",
                "\n",
                "average_inventory = I_ _n_  + 0.5 * P_ _n_ - 0.5 * S_ _n_\n",
                "\n",
                "beginning_inventory = I_ _n-1_ + P_ _n-1_ - S_ _n-1_\n",
                "\n",
                "ending_inventory = I_ _n_ + P_ _n_ - S_ _n_\n",
                "\n",
                "Inventory constraint = I_ _n_ + S_ _n-1_ - P_ _n-1_ - I_ _n-1_ = 0\n",
                "\n",
                "ending inventory constraint = 0 <= ending_inventory_ _n_ <= max_ending_inv\n",
                "\n",
                "purchase_constraint = P_ _n_ <= purchase_max\n",
                "\n",
                "sell_constraint = S_ _n_ <= sales_max"
            ],
            "metadata": {
                "azdata_cell_guid": "99639fcb-79df-4dbc-8ebf-6fe223692784"
            }
        },
        {
            "cell_type": "code",
            "source": [
                "#Load the file into separate dataframes\n",
                "with open('secret.json') as f:\n",
                "    filepath = json.load(f)['filepath']\n",
                "file_name = 'star_soybean.txt'\n",
                "\n",
                "#read monthly soybean prices from file\n",
                "soybean_file = open(filepath+file_name)\n",
                "months = soybean_file.readline().split('\\t')\n",
                "prices = soybean_file.readline().split('\\t')\n",
                "\n",
                "#format months and prices lists\n",
                "months = [month.rstrip('\\n') for month in months]\n",
                "prices = [float(price.strip('$ ')) for price in prices]\n",
                "\n",
                "#define fixed variables\n",
                "purchase_max = 1000.\n",
                "sales_max = 2000.\n",
                "beginning_inv = 470.\n",
                "fixed_cost = 10.\n",
                "max_ending_inv = 4000.\n",
                ""
            ],
            "metadata": {
                "azdata_cell_guid": "0df0838d-5be7-4c96-8388-8c05795ae8fd",
                "tags": []
            },
            "outputs": [],
            "execution_count": 33
        },
        {
            "cell_type": "code",
            "source": [
                "print(prices)"
            ],
            "metadata": {
                "azdata_cell_guid": "a891bfeb-7da0-42c0-b5b2-04095ed20930",
                "tags": []
            },
            "outputs": [
                {
                    "name": "stdout",
                    "text": "[110.0, 125.0, 140.0, 160.0, 165.0, 180.0, 190.0, 175.0, 155.0, 135.0, 145.0, 160.0]\n",
                    "output_type": "stream"
                }
            ],
            "execution_count": 35
        },
        {
            "cell_type": "code",
            "source": [
                "print(months)"
            ],
            "metadata": {
                "azdata_cell_guid": "697c1ff5-deda-4253-98b1-a6668e2a209b",
                "tags": []
            },
            "outputs": [
                {
                    "name": "stdout",
                    "text": "['Jan', 'Feb', 'Mar', 'Apr', 'May', 'Jun', 'Jul', 'Aug', 'Sep', 'Oct', 'Nov', 'Dec']\n",
                    "output_type": "stream"
                }
            ],
            "execution_count": 36
        },
        {
            "cell_type": "code",
            "source": [
                "#Create the model\n",
                "model = pulp.LpProblem(name='soybean_planning', sense=pulp.LpMaximize)\n",
                "\n",
                "#Create a matrix of variables for purchase qty, sell qty and beginning inventory for each month\n",
                "purchase_variables = pulp.LpVariable.matrix('P', months,\n",
                "                                             lowBound=0, cat=pulp.LpContinuous)\n",
                "sell_variables = pulp.LpVariable.matrix('S', months,\n",
                "                                             lowBound=0, cat=pulp.LpContinuous)\n",
                "inventory_variables = pulp.LpVariable.matrix('I', months,\n",
                "                                             lowBound=0, cat=pulp.LpContinuous)                                             "
            ],
            "metadata": {
                "azdata_cell_guid": "372c509e-29eb-49e3-8bd0-e040c520b0b0",
                "tags": []
            },
            "outputs": [],
            "execution_count": 138
        },
        {
            "cell_type": "code",
            "source": [
                "#set purchase constraint for each month, must be less than purchase max value\n",
                "for index, month in enumerate(months):\n",
                "    model.addConstraint(pulp.LpConstraint(\n",
                "        e=purchase_variables[index],\n",
                "        sense=pulp.LpConstraintLE,\n",
                "        name='purchase_max' + month,\n",
                "        rhs=purchase_max))\n",
                "#set sales constraint for each month, must be less than sales max value\n",
                "    model.addConstraint(pulp.LpConstraint(\n",
                "        e=sell_variables[index],\n",
                "        sense=pulp.LpConstraintLE,\n",
                "        name='sales_max' + month,\n",
                "        rhs=sales_max))\n",
                "#ending inventory must be less than max ending inventory\n",
                "    model.addConstraint(pulp.LpConstraint(\n",
                "        e=inventory_variables[index] + purchase_variables[index] - sell_variables[index] ,\n",
                "        sense=pulp.LpConstraintLE,\n",
                "        name='inventory_max' + month,\n",
                "        rhs=max_ending_inv))\n",
                "#ending inventory must be greater than or equal to 0\n",
                "    model.addConstraint(pulp.LpConstraint(\n",
                "        e=inventory_variables[index] + purchase_variables[index] - sell_variables[index] ,\n",
                "        sense=pulp.LpConstraintGE,\n",
                "        name='inventory_min' + month,\n",
                "        rhs=0))\n",
                "\n",
                "#beginning inventory minus previous period ending inventory must be 0\n",
                "for index, month in enumerate(months[1:]):\n",
                "    model.addConstraint(pulp.LpConstraint(\n",
                "        e=inventory_variables[index+1] + sell_variables[index] - purchase_variables[index] - inventory_variables[index],\n",
                "        sense=pulp.LpConstraintEQ,\n",
                "        name='inventory_constraint' + month,\n",
                "        rhs=0)) \n",
                "\n",
                "#set beginning inventory value\n",
                "model.addConstraint(pulp.LpConstraint(\n",
                "    e=inventory_variables[0],\n",
                "    sense=pulp.LpConstraintEQ,\n",
                "    name='initial_inv',\n",
                "    rhs=beginning_inv)) \n",
                "\n",
                "#set objective\n",
                "total_sales_revenue = pulp.lpSum(sell_variables * np.array(prices))\n",
                "purchase_cost = pulp.lpSum(purchase_variables * np.array(prices)) \n",
                "inventory_cost = pulp.lpSum((inventory_variables[index]+0.5*purchase_variables[index] - 0.5*sell_variables[index])*fixed_cost\n",
                "                        for index, month in enumerate(months))                                \n",
                "\n",
                "objective = total_sales_revenue - purchase_cost - inventory_cost\n",
                "\n",
                "model.setObjective(objective)\n",
                "\n",
                "model.solve()\n",
                "\n",
                "#if the model is optimal, print the objective value and the production matrix\n",
                "if model.status == 1:\n",
                "    print(f'status: {model.status}, {pulp.LpStatus[model.status]}')\n",
                "    print(f'objective: ${model.objective.value():,.0f}')\n",
                "    output = pd.DataFrame()\n",
                "    for index,month in enumerate(months):\n",
                "        output[month]=[inventory_variables[index].value(),\n",
                "                    purchase_variables[index].value(),\n",
                "                    sell_variables[index].value()]\n",
                "\n",
                "    print(output)\n",
                "else:\n",
                "    print(f'status: {model.status}, {pulp.LpStatus[model.status]}')"
            ],
            "metadata": {
                "azdata_cell_guid": "df84bd9e-a4fc-445f-a2fd-4a7e7e0964c5",
                "tags": []
            },
            "outputs": [
                {
                    "name": "stdout",
                    "text": "status: 1, Optimal\nobjective: $118,750\n      Jan     Feb     Mar     Apr     May     Jun     Jul     Aug     Sep  \\\n0   470.0  1470.0  2470.0  3470.0  1470.0  2470.0   470.0     0.0     0.0   \n1  1000.0  1000.0  1000.0     0.0  1000.0     0.0  1000.0  1000.0  1000.0   \n2     0.0     0.0     0.0  2000.0     0.0  2000.0  1470.0  1000.0  1000.0   \n\n      Oct     Nov     Dec  \n0     0.0  1000.0  2000.0  \n1  1000.0  1000.0     0.0  \n2     0.0     0.0  2000.0  \n",
                    "output_type": "stream"
                }
            ],
            "execution_count": 139
        }
    ]
}