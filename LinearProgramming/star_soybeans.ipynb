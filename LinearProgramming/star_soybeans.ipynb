{
    "metadata": {
        "kernelspec": {
            "name": "python3",
            "display_name": "Python 3"
        },
        "language_info": {
            "name": "python",
            "version": "3.6.6",
            "mimetype": "text/x-python",
            "codemirror_mode": {
                "name": "ipython",
                "version": 3
            },
            "pygments_lexer": "ipython3",
            "nbconvert_exporter": "python",
            "file_extension": ".py"
        }
    },
    "nbformat_minor": 2,
    "nbformat": 4,
    "cells": [
        {
            "cell_type": "code",
            "source": [
                "import numpy as np \n",
                "import pandas as pd\n",
                "import pulp\n",
                "import json"
            ],
            "metadata": {
                "azdata_cell_guid": "c00660a2-a2cb-4fa4-aeb8-f4b33d816258",
                "tags": []
            },
            "outputs": [],
            "execution_count": 1
        },
        {
            "cell_type": "markdown",
            "source": [
                "variables:\n",
                "I = beginning inventory\n",
                "P = purchase volume\n",
                "S = sales volume\n",
                "\n",
                "Cost Function = total_sales_revenue - purchase_cost - inventory_cost\n",
                "\n",
                "total_sales_revenue = price * sell_variable\n",
                "\n",
                "purchase_cost = price * purchase_variable\n",
                "\n",
                "inventory_cost = fixed_cost * average_inventory\n",
                "\n",
                "average_inventory = I_ _n_  + 0.5 * P_ _n_ - 0.5 * S_ _n_\n",
                "\n",
                "beginning_inventory = I_ _n-1_ + P_ _n-1_ - S_ _n-1_\n",
                "\n",
                "ending_inventory = I_ _n_ + P_ _n_ - S_ _n_\n",
                "\n",
                "Inventory constraint = I_ _n_ + S_ _n-1_ - P_ _n-1_ - I_ _n-1_ = 0\n",
                "\n",
                "ending inventory constraint = 0 <= ending_inventory_ _n_ <= max_ending_inv\n",
                "\n",
                "purchase_constraint = P_ _n_ <= purchase_max\n",
                "\n",
                "sell_constraint = S_ _n_ <= sales_max"
            ],
            "metadata": {
                "azdata_cell_guid": "99639fcb-79df-4dbc-8ebf-6fe223692784"
            }
        },
        {
            "cell_type": "code",
            "source": [
                "#Load the file into separate dataframes\n",
                "with open('secret.json') as f:\n",
                "    filepath = json.load(f)['filepath']\n",
                "file_name = 'star_soybean.txt'\n",
                "\n",
                "#read monthly soybean prices from file\n",
                "soybean_file = open(filepath+file_name)\n",
                "months = soybean_file.readline().split('\\t')\n",
                "prices = soybean_file.readline().split('\\t')\n",
                "\n",
                "#format months and prices lists\n",
                "months = [month.rstrip('\\n') for month in months]\n",
                "prices = [float(price.strip('$ ')) for price in prices]\n",
                "\n",
                "#define fixed variables\n",
                "purchase_max = 1000.\n",
                "sales_max = 2000.\n",
                "beginning_inv = 470.\n",
                "fixed_cost = 10.\n",
                "max_ending_inv = 4000.\n",
                ""
            ],
            "metadata": {
                "azdata_cell_guid": "0df0838d-5be7-4c96-8388-8c05795ae8fd",
                "tags": []
            },
            "outputs": [],
            "execution_count": 2
        },
        {
            "cell_type": "code",
            "source": [
                "print(prices)"
            ],
            "metadata": {
                "azdata_cell_guid": "a891bfeb-7da0-42c0-b5b2-04095ed20930",
                "tags": []
            },
            "outputs": [
                {
                    "name": "stdout",
                    "text": "[110.0, 125.0, 140.0, 160.0, 165.0, 180.0, 190.0, 175.0, 155.0, 135.0, 145.0, 160.0]\n",
                    "output_type": "stream"
                }
            ],
            "execution_count": 3
        },
        {
            "cell_type": "code",
            "source": [
                "print(months)"
            ],
            "metadata": {
                "azdata_cell_guid": "697c1ff5-deda-4253-98b1-a6668e2a209b",
                "tags": []
            },
            "outputs": [
                {
                    "name": "stdout",
                    "text": "['Jan', 'Feb', 'Mar', 'Apr', 'May', 'Jun', 'Jul', 'Aug', 'Sep', 'Oct', 'Nov', 'Dec']\n",
                    "output_type": "stream"
                }
            ],
            "execution_count": 4
        },
        {
            "cell_type": "code",
            "source": [
                "#Create the model\n",
                "model = pulp.LpProblem(name='soybean_planning', sense=pulp.LpMaximize)\n",
                "\n",
                "#Create a matrix of variables for purchase qty, sell qty and beginning inventory for each month\n",
                "purchase_variables = pulp.LpVariable.matrix('P', months,\n",
                "                                             lowBound=0, cat=pulp.LpContinuous)\n",
                "sell_variables = pulp.LpVariable.matrix('S', months,\n",
                "                                             lowBound=0, cat=pulp.LpContinuous)\n",
                "inventory_variables = pulp.LpVariable.matrix('I', months,\n",
                "                                             lowBound=0, cat=pulp.LpContinuous)                                             "
            ],
            "metadata": {
                "azdata_cell_guid": "372c509e-29eb-49e3-8bd0-e040c520b0b0",
                "tags": []
            },
            "outputs": [],
            "execution_count": 5
        },
        {
            "cell_type": "code",
            "source": [
                "#set purchase constraint for each month, must be less than purchase max value\n",
                "for index, month in enumerate(months):\n",
                "    model.addConstraint(pulp.LpConstraint(\n",
                "        e=purchase_variables[index],\n",
                "        sense=pulp.LpConstraintLE,\n",
                "        name='purchase_max' + month,\n",
                "        rhs=purchase_max))\n",
                "#set sales constraint for each month, must be less than sales max value\n",
                "    model.addConstraint(pulp.LpConstraint(\n",
                "        e=sell_variables[index],\n",
                "        sense=pulp.LpConstraintLE,\n",
                "        name='sales_max' + month,\n",
                "        rhs=sales_max))\n",
                "#ending inventory must be less than max ending inventory\n",
                "    model.addConstraint(pulp.LpConstraint(\n",
                "        e=inventory_variables[index] + purchase_variables[index] - sell_variables[index] ,\n",
                "        sense=pulp.LpConstraintLE,\n",
                "        name='inventory_max' + month,\n",
                "        rhs=max_ending_inv))\n",
                "#ending inventory must be greater than or equal to 0\n",
                "    model.addConstraint(pulp.LpConstraint(\n",
                "        e=inventory_variables[index] + purchase_variables[index] - sell_variables[index] ,\n",
                "        sense=pulp.LpConstraintGE,\n",
                "        name='inventory_min' + month,\n",
                "        rhs=0))\n",
                "\n",
                "#beginning inventory minus previous period ending inventory must be 0\n",
                "for index, month in enumerate(months[1:]):\n",
                "    model.addConstraint(pulp.LpConstraint(\n",
                "        e=inventory_variables[index+1] + sell_variables[index] - purchase_variables[index] - inventory_variables[index],\n",
                "        sense=pulp.LpConstraintEQ,\n",
                "        name='inventory_constraint' + month,\n",
                "        rhs=0)) \n",
                "\n",
                "#set beginning inventory value\n",
                "model.addConstraint(pulp.LpConstraint(\n",
                "    e=inventory_variables[0],\n",
                "    sense=pulp.LpConstraintEQ,\n",
                "    name='initial_inv',\n",
                "    rhs=beginning_inv)) \n",
                "\n",
                "#set objective\n",
                "total_sales_revenue = pulp.lpSum(sell_variables * np.array(prices))\n",
                "purchase_cost = pulp.lpSum(purchase_variables * np.array(prices)) \n",
                "inventory_cost = pulp.lpSum((inventory_variables[index]+0.5*purchase_variables[index] - 0.5*sell_variables[index])*fixed_cost\n",
                "                        for index, month in enumerate(months))                                \n",
                "\n",
                "objective = total_sales_revenue - purchase_cost - inventory_cost\n",
                "\n",
                "model.setObjective(objective)\n",
                "\n",
                "model.solve()\n",
                "\n",
                "#if the model is optimal, print the objective value and the production matrix\n",
                "if model.status == 1:\n",
                "    print(f'status: {model.status}, {pulp.LpStatus[model.status]}')\n",
                "    print(f'objective: ${model.objective.value():,.0f}')\n",
                "    output = pd.DataFrame()\n",
                "    for index,month in enumerate(months):\n",
                "        output[month]=[inventory_variables[index].value(),\n",
                "                    purchase_variables[index].value(),\n",
                "                    sell_variables[index].value()]\n",
                "\n",
                "    print(output)\n",
                "else:\n",
                "    print(f'status: {model.status}, {pulp.LpStatus[model.status]}')"
            ],
            "metadata": {
                "azdata_cell_guid": "df84bd9e-a4fc-445f-a2fd-4a7e7e0964c5",
                "tags": []
            },
            "outputs": [
                {
                    "name": "stdout",
                    "text": "status: 1, Optimal\nobjective: $118,750\n      Jan     Feb     Mar     Apr     May     Jun     Jul     Aug     Sep  \\\n0   470.0  1470.0  2470.0  3470.0  1470.0  2470.0   470.0     0.0     0.0   \n1  1000.0  1000.0  1000.0     0.0  1000.0     0.0  1000.0  1000.0  1000.0   \n2     0.0     0.0     0.0  2000.0     0.0  2000.0  1470.0  1000.0  1000.0   \n\n      Oct     Nov     Dec  \n0     0.0  1000.0  2000.0  \n1  1000.0  1000.0     0.0  \n2     0.0     0.0  2000.0  \n",
                    "output_type": "stream"
                }
            ],
            "execution_count": 6
        },
        {
            "cell_type": "code",
            "source": [
                "model"
            ],
            "metadata": {
                "azdata_cell_guid": "bb8f9643-f2a4-4ca9-a12b-2bd393d8b37f"
            },
            "outputs": [
                {
                    "data": {
                        "text/plain": "soybean_planning:\nMAXIMIZE\n-10.0*I_Apr + -10.0*I_Aug + -10.0*I_Dec + -10.0*I_Feb + -10.0*I_Jan + -10.0*I_Jul + -10.0*I_Jun + -10.0*I_Mar + -10.0*I_May + -10.0*I_Nov + -10.0*I_Oct + -10.0*I_Sep + -165.0*P_Apr + -180.0*P_Aug + -165.0*P_Dec + -130.0*P_Feb + -115.0*P_Jan + -195.0*P_Jul + -185.0*P_Jun + -145.0*P_Mar + -170.0*P_May + -150.0*P_Nov + -140.0*P_Oct + -160.0*P_Sep + 165.0*S_Apr + 180.0*S_Aug + 165.0*S_Dec + 130.0*S_Feb + 115.0*S_Jan + 195.0*S_Jul + 185.0*S_Jun + 145.0*S_Mar + 170.0*S_May + 150.0*S_Nov + 140.0*S_Oct + 160.0*S_Sep + 0.0\nSUBJECT TO\npurchase_maxJan: P_Jan <= 1000\n\nsales_maxJan: S_Jan <= 2000\n\ninventory_maxJan: I_Jan + P_Jan - S_Jan <= 4000\n\ninventory_minJan: I_Jan + P_Jan - S_Jan >= 0\n\npurchase_maxFeb: P_Feb <= 1000\n\nsales_maxFeb: S_Feb <= 2000\n\ninventory_maxFeb: I_Feb + P_Feb - S_Feb <= 4000\n\ninventory_minFeb: I_Feb + P_Feb - S_Feb >= 0\n\npurchase_maxMar: P_Mar <= 1000\n\nsales_maxMar: S_Mar <= 2000\n\ninventory_maxMar: I_Mar + P_Mar - S_Mar <= 4000\n\ninventory_minMar: I_Mar + P_Mar - S_Mar >= 0\n\npurchase_maxApr: P_Apr <= 1000\n\nsales_maxApr: S_Apr <= 2000\n\ninventory_maxApr: I_Apr + P_Apr - S_Apr <= 4000\n\ninventory_minApr: I_Apr + P_Apr - S_Apr >= 0\n\npurchase_maxMay: P_May <= 1000\n\nsales_maxMay: S_May <= 2000\n\ninventory_maxMay: I_May + P_May - S_May <= 4000\n\ninventory_minMay: I_May + P_May - S_May >= 0\n\npurchase_maxJun: P_Jun <= 1000\n\nsales_maxJun: S_Jun <= 2000\n\ninventory_maxJun: I_Jun + P_Jun - S_Jun <= 4000\n\ninventory_minJun: I_Jun + P_Jun - S_Jun >= 0\n\npurchase_maxJul: P_Jul <= 1000\n\nsales_maxJul: S_Jul <= 2000\n\ninventory_maxJul: I_Jul + P_Jul - S_Jul <= 4000\n\ninventory_minJul: I_Jul + P_Jul - S_Jul >= 0\n\npurchase_maxAug: P_Aug <= 1000\n\nsales_maxAug: S_Aug <= 2000\n\ninventory_maxAug: I_Aug + P_Aug - S_Aug <= 4000\n\ninventory_minAug: I_Aug + P_Aug - S_Aug >= 0\n\npurchase_maxSep: P_Sep <= 1000\n\nsales_maxSep: S_Sep <= 2000\n\ninventory_maxSep: I_Sep + P_Sep - S_Sep <= 4000\n\ninventory_minSep: I_Sep + P_Sep - S_Sep >= 0\n\npurchase_maxOct: P_Oct <= 1000\n\nsales_maxOct: S_Oct <= 2000\n\ninventory_maxOct: I_Oct + P_Oct - S_Oct <= 4000\n\ninventory_minOct: I_Oct + P_Oct - S_Oct >= 0\n\npurchase_maxNov: P_Nov <= 1000\n\nsales_maxNov: S_Nov <= 2000\n\ninventory_maxNov: I_Nov + P_Nov - S_Nov <= 4000\n\ninventory_minNov: I_Nov + P_Nov - S_Nov >= 0\n\npurchase_maxDec: P_Dec <= 1000\n\nsales_maxDec: S_Dec <= 2000\n\ninventory_maxDec: I_Dec + P_Dec - S_Dec <= 4000\n\ninventory_minDec: I_Dec + P_Dec - S_Dec >= 0\n\ninventory_constraintFeb: I_Feb - I_Jan - P_Jan + S_Jan = 0\n\ninventory_constraintMar: - I_Feb + I_Mar - P_Feb + S_Feb = 0\n\ninventory_constraintApr: I_Apr - I_Mar - P_Mar + S_Mar = 0\n\ninventory_constraintMay: - I_Apr + I_May - P_Apr + S_Apr = 0\n\ninventory_constraintJun: I_Jun - I_May - P_May + S_May = 0\n\ninventory_constraintJul: I_Jul - I_Jun - P_Jun + S_Jun = 0\n\ninventory_constraintAug: I_Aug - I_Jul - P_Jul + S_Jul = 0\n\ninventory_constraintSep: - I_Aug + I_Sep - P_Aug + S_Aug = 0\n\ninventory_constraintOct: I_Oct - I_Sep - P_Sep + S_Sep = 0\n\ninventory_constraintNov: I_Nov - I_Oct - P_Oct + S_Oct = 0\n\ninventory_constraintDec: I_Dec - I_Nov - P_Nov + S_Nov = 0\n\ninitial_inv: I_Jan = 470\n\nVARIABLES\nI_Apr Continuous\nI_Aug Continuous\nI_Dec Continuous\nI_Feb Continuous\nI_Jan Continuous\nI_Jul Continuous\nI_Jun Continuous\nI_Mar Continuous\nI_May Continuous\nI_Nov Continuous\nI_Oct Continuous\nI_Sep Continuous\nP_Apr Continuous\nP_Aug Continuous\nP_Dec Continuous\nP_Feb Continuous\nP_Jan Continuous\nP_Jul Continuous\nP_Jun Continuous\nP_Mar Continuous\nP_May Continuous\nP_Nov Continuous\nP_Oct Continuous\nP_Sep Continuous\nS_Apr Continuous\nS_Aug Continuous\nS_Dec Continuous\nS_Feb Continuous\nS_Jan Continuous\nS_Jul Continuous\nS_Jun Continuous\nS_Mar Continuous\nS_May Continuous\nS_Nov Continuous\nS_Oct Continuous\nS_Sep Continuous"
                    },
                    "metadata": {},
                    "execution_count": 7,
                    "output_type": "execute_result"
                }
            ],
            "execution_count": 7
        }
    ]
}