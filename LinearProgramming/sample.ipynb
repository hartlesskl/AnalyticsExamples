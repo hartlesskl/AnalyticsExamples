{
    "metadata": {
        "kernelspec": {
            "name": "python3",
            "display_name": "Python 3"
        },
        "language_info": {
            "name": "python",
            "version": "3.6.6",
            "mimetype": "text/x-python",
            "codemirror_mode": {
                "name": "ipython",
                "version": 3
            },
            "pygments_lexer": "ipython3",
            "nbconvert_exporter": "python",
            "file_extension": ".py"
        }
    },
    "nbformat_minor": 2,
    "nbformat": 4,
    "cells": [
        {
            "cell_type": "code",
            "source": [
                "import numpy as np \n",
                "from scipy.optimize import linprog\n",
                "from cvxopt import matrix\n",
                "from cvxopt import glpk"
            ],
            "metadata": {
                "azdata_cell_guid": "7e9a91e4-672c-4538-9491-cf6596f7ec06",
                "tags": []
            },
            "outputs": [],
            "execution_count": 2
        },
        {
            "cell_type": "code",
            "source": [
                "# perfect cake recipe\n",
                "\n",
                "# equations to solve\n",
                "# f + e + b + s = 700\n",
                "# b -0.5s = 0\n",
                "# f + e <= 450\n",
                "# e + b <= 300\n",
                "# -f + e + b - s <= 0\n",
                "\n",
                "# X matrix\n",
                "\n",
                "var_list = ['Flour', 'Eggs', 'Butter', 'Sugar']\n",
                "\n",
                "# Inequality equations, LHS\n",
                "A_ineq = [[1., 1., 0., 0.], [0., 1., 1., 0.], [-1., 1., -1., 1.]]\n",
                "\n",
                "# Inequality equations, RHS\n",
                "B_ineq = [450., 300., 0.]\n",
                "\n",
                "# Equality equations, LHS\n",
                "A_eq = [[1., 1., 1., 1.], [0., 0., 1., -0.5]]\n",
                "\n",
                "# Equality equations, RHS\n",
                "B_eq = [700., 0.]\n",
                "\n",
                "# Cost function\n",
                "c = [0., 0., 1., 1.]\n",
                "\n",
                "print('WITHOUT BOUNDS')\n",
                "# pass these matrices to linprog, use the method 'interior-point'. '_ub' implies the upper-bound or\n",
                "# inequality matrices and '_eq' imply the equality matrices\n",
                "res_no_bounds = linprog(c, A_ub=A_ineq, b_ub=B_ineq, A_eq=A_eq, b_eq=B_eq, method='interior-point')\n",
                "print(res_no_bounds)"
            ],
            "metadata": {
                "azdata_cell_guid": "172f7871-85f7-4cbb-bec7-cbe41a24e301"
            },
            "outputs": [
                {
                    "name": "stdout",
                    "text": "WITHOUT BOUNDS\n     con: array([ 5.27055590e-08, -3.78719278e-11])\n     fun: 249.99999998121916\n message: 'Optimization terminated successfully.'\n     nit: 5\n   slack: array([3.39247208e-08, 6.95661413e+01, 7.24656159e+01])\n  status: 0\n success: True\n       x: array([302.8994746 , 147.10052537,  83.33333333, 166.66666665])\n",
                    "output_type": "stream"
                }
            ],
            "execution_count": 5
        },
        {
            "cell_type": "code",
            "source": [
                "# Alternate cost function\n",
                "c = [0., 1., 1., 0.]\n",
                "\n",
                "print('WITHOUT BOUNDS')\n",
                "# pass these matrices to linprog, use the method 'interior-point'. '_ub' implies the upper-bound or\n",
                "# inequality matrices and '_eq' imply the equality matrices\n",
                "res_no_bounds = linprog(c, A_ub=A_ineq, b_ub=B_ineq, A_eq=A_eq, b_eq=B_eq, method='interior-point')\n",
                "print(res_no_bounds)\n",
                ""
            ],
            "metadata": {
                "azdata_cell_guid": "55ee91ae-8a4d-4655-a64f-cb50ce7fd614"
            },
            "outputs": [
                {
                    "name": "stdout",
                    "text": "WITHOUT BOUNDS\n     con: array([ 4.29066631e-08, -3.14201998e-11])\n     fun: 83.33333333516748\n message: 'Optimization terminated successfully.'\n     nit: 6\n   slack: array([4.06123490e-08, 2.16666667e+02, 3.66666667e+02])\n  status: 0\n success: True\n       x: array([4.50000000e+02, 2.57796379e-09, 8.33333333e+01, 1.66666667e+02])\n",
                    "output_type": "stream"
                }
            ],
            "execution_count": 6
        },
        {
            "cell_type": "code",
            "source": [
                "res_no_bounds.x.sum()"
            ],
            "metadata": {
                "azdata_cell_guid": "13047c8b-188e-4c68-b7a7-35ac43672277"
            },
            "outputs": [
                {
                    "data": {
                        "text/plain": "699.9999999570933"
                    },
                    "metadata": {},
                    "execution_count": 7,
                    "output_type": "execute_result"
                }
            ],
            "execution_count": 7
        },
        {
            "cell_type": "code",
            "source": [
                "# Cost function\n",
                "c = [0., 0., 1., 1.]\n",
                "\n",
                "f_b = [0., 300.] # limits for flour\n",
                "e_b = [0., 200.] # limits for eggs\n",
                "b_b = [0., 100.] # limits for butter\n",
                "s_b = [0., 200.] # limits for sugar\n",
                "\n",
                "res_bounds = linprog(c, A_ub=A_ineq, b_ub=B_ineq, A_eq=A_eq, b_eq=B_eq, bounds=(f_b, e_b, b_b, s_b), method='interior-point')\n",
                "\n",
                "print('\\nWITH BOUNDS')\n",
                "print(res_bounds)"
            ],
            "metadata": {
                "azdata_cell_guid": "0bd6c79c-7c92-47a8-8971-b4ae5fc2f188"
            },
            "outputs": [
                {
                    "name": "stdout",
                    "text": "\nWITH BOUNDS\n     con: array([ 4.53132998e-09, -3.25428573e-12])\n     fun: 249.9999999983819\n message: 'Optimization terminated successfully.'\n     nit: 6\n   slack: array([2.91322522e-09, 5.30261661e+01, 3.93856656e+01])\n  status: 0\n success: True\n       x: array([286.35949946, 163.64050053,  83.33333333, 166.66666667])\n",
                    "output_type": "stream"
                }
            ],
            "execution_count": 8
        },
        {
            "cell_type": "code",
            "source": [
                "# Add additonal constraint, f+s=500\n",
                "# perfect cake recipe\n",
                "\n",
                "# equations to solve\n",
                "# f + e + b + s = 700\n",
                "# b -0.5s = 0\n",
                "# f + e <= 450\n",
                "# e + b <= 300\n",
                "# -f + e + b - s <= 0\n",
                "# f + s = 500\n",
                "\n",
                "# X matrix\n",
                "\n",
                "var_list = ['Flour', 'Eggs', 'Butter', 'Sugar']\n",
                "\n",
                "# Inequality equations, LHS\n",
                "A_ineq = [[1., 1., 0., 0.], [0., 1., 1., 0.], [-1., 1., -1., 1.]]\n",
                "\n",
                "# Inequality equations, RHS\n",
                "B_ineq = [450., 300., 0.]\n",
                "\n",
                "# Equality equations, LHS\n",
                "A_eq = [[1., 1., 1., 1.], [0., 0., 1., -0.5], [1., 0., 0., 1.]]\n",
                "\n",
                "# Equality equations, RHS\n",
                "B_eq = [700., 0., 500.]\n",
                "\n",
                "# Cost function\n",
                "c = [0., 0., 1., 1.]\n",
                "\n",
                "f_b = [0., 300.] # limits for flour\n",
                "e_b = [0., 200.] # limits for eggs\n",
                "b_b = [0., 100.] # limits for butter\n",
                "s_b = [0., 200.] # limits for sugar\n",
                "\n",
                "res_bounds = linprog(c, A_ub=A_ineq, b_ub=B_ineq, A_eq=A_eq, b_eq=B_eq, bounds=(f_b, e_b, b_b, s_b), method='interior-point')\n",
                "\n",
                "print('\\nWITH BOUNDS')\n",
                "print(res_bounds)"
            ],
            "metadata": {
                "azdata_cell_guid": "ed29fc2a-7de2-42c2-a1e2-312fccb30da0"
            },
            "outputs": [
                {
                    "name": "stdout",
                    "text": "\nWITH BOUNDS\n     con: array([ 3.89194383e-08, -2.80522272e-11,  2.78468519e-08])\n     fun: 299.9999999832674\n message: 'Optimization terminated successfully.'\n     nit: 5\n   slack: array([ 50.00000002, 100.00000001,  99.99999999])\n  status: 0\n success: True\n       x: array([299.99999998,  99.99999999,  99.99999999, 199.99999999])\n",
                    "output_type": "stream"
                },
                {
                    "name": "stderr",
                    "text": "/Users/karengrundy/azuredatastudio-python/0.0.1/lib/python3.6/site-packages/ipykernel_launcher.py:36: OptimizeWarning: Solving system with option 'cholesky':True failed. It is normal for this to happen occasionally, especially as the solution is approached. However, if you see this frequently, consider setting option 'cholesky' to False.\n/Users/karengrundy/azuredatastudio-python/0.0.1/lib/python3.6/site-packages/ipykernel_launcher.py:36: OptimizeWarning: Solving system with option 'sym_pos':True failed. It is normal for this to happen occasionally, especially as the solution is approached. However, if you see this frequently, consider setting option 'sym_pos' to False.\n/Users/karengrundy/azuredatastudio-python/0.0.1/lib/python3.6/site-packages/scipy/optimize/_linprog_ip.py:110: LinAlgWarning: Ill-conditioned matrix (rcond=2.07701e-18): result may not be accurate.\n  return sp.linalg.solve(M, r, sym_pos=sym_pos)\n",
                    "output_type": "stream"
                }
            ],
            "execution_count": 9
        },
        {
            "cell_type": "code",
            "source": [
                "#using CVXOPT\n",
                "# formulate problem in terms of GLPK/cvxopt\n",
                "c, A_ineq, B_ineq, A_eq, B_eq = matrix(c), matrix(A_ineq).T, matrix(B_ineq), matrix(A_eq).T, matrix(B_eq)\n",
                "\n",
                "# solve the problem\n",
                "status, solution = glpk.ilp(c, A_ineq, B_ineq, A_eq, B_eq)\n",
                "\n",
                "if status=='optimal':\n",
                "    print('solution found')\n",
                "    print(solution)\n",
                "else: \n",
                "    print(status)"
            ],
            "metadata": {
                "azdata_cell_guid": "2aa6097c-1b2d-4661-9b50-4f579d9c98ad"
            },
            "outputs": [
                {
                    "name": "stdout",
                    "text": "solution found\n[ 3.33e+02]\n[ 1.17e+02]\n[ 8.33e+01]\n[ 1.67e+02]\n\n",
                    "output_type": "stream"
                }
            ],
            "execution_count": 10
        }
    ]
}