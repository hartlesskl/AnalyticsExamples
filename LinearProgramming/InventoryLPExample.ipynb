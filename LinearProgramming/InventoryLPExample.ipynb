{
    "metadata": {
        "kernelspec": {
            "name": "python3",
            "display_name": "Python 3"
        },
        "language_info": {
            "name": "python",
            "version": "3.6.6",
            "mimetype": "text/x-python",
            "codemirror_mode": {
                "name": "ipython",
                "version": 3
            },
            "pygments_lexer": "ipython3",
            "nbconvert_exporter": "python",
            "file_extension": ".py"
        }
    },
    "nbformat_minor": 2,
    "nbformat": 4,
    "cells": [
        {
            "cell_type": "code",
            "source": [
                "import numpy as np \n",
                "import pandas as pd \n",
                "from pulp import LpMinimize, LpProblem, LpStatus, lpSum, LpVariable\n",
                "from pulp import GLPK"
            ],
            "metadata": {
                "azdata_cell_guid": "68c4edd3-bfa8-41e0-adb2-7abe8ecdc52a"
            },
            "outputs": [],
            "execution_count": 26
        },
        {
            "cell_type": "code",
            "source": [
                "factories = pd.read_excel('/Volumes/Elements/khartless/Projects/Data/factory_variables.xlsx', \n",
                "            sheet_name='factory',\n",
                "            index_col=[0,1])\n",
                "\n",
                ""
            ],
            "metadata": {
                "azdata_cell_guid": "79d4989e-4b25-4105-9789-904080cf1dd5"
            },
            "outputs": [],
            "execution_count": 16
        },
        {
            "cell_type": "code",
            "source": [
                "factories"
            ],
            "metadata": {
                "azdata_cell_guid": "a0ab7bd9-010e-42c6-a911-a590f579e9f8"
            },
            "outputs": [
                {
                    "output_type": "execute_result",
                    "execution_count": 17,
                    "data": {
                        "text/plain": "               Max_Capacity  Min_Capacity  Variable_Costs  Fixed_Costs\nMonth Factory                                                         \n1     A              100000         20000              10          500\n      B               50000         20000               5          600\n2     A              110000         20000              11          500\n      B               55000         20000               4          600\n3     A              120000         20000              12          500\n      B               60000         20000               3          600\n4     A              145000         20000               9          500\n      B              100000         20000               5          600\n5     A              160000         20000               8          500\n      B                   0             0               0            0\n6     A              140000         20000               8          500\n      B               70000         20000               6          600\n7     A              155000         20000               5          500\n      B               60000         20000               4          600\n8     A              200000         20000               7          500\n      B              100000         20000               6          600\n9     A              210000         20000               9          500\n      B              100000         20000               8          600\n10    A              197000         20000              10          500\n      B              100000         20000              11          600\n11    A               80000         20000               8          500\n      B              120000         20000              10          600\n12    A              150000         20000               8          500\n      B              150000         20000              12          600",
                        "text/html": "<div>\n<style scoped>\n    .dataframe tbody tr th:only-of-type {\n        vertical-align: middle;\n    }\n\n    .dataframe tbody tr th {\n        vertical-align: top;\n    }\n\n    .dataframe thead th {\n        text-align: right;\n    }\n</style>\n<table border=\"1\" class=\"dataframe\">\n  <thead>\n    <tr style=\"text-align: right;\">\n      <th></th>\n      <th></th>\n      <th>Max_Capacity</th>\n      <th>Min_Capacity</th>\n      <th>Variable_Costs</th>\n      <th>Fixed_Costs</th>\n    </tr>\n    <tr>\n      <th>Month</th>\n      <th>Factory</th>\n      <th></th>\n      <th></th>\n      <th></th>\n      <th></th>\n    </tr>\n  </thead>\n  <tbody>\n    <tr>\n      <th rowspan=\"2\" valign=\"top\">1</th>\n      <th>A</th>\n      <td>100000</td>\n      <td>20000</td>\n      <td>10</td>\n      <td>500</td>\n    </tr>\n    <tr>\n      <th>B</th>\n      <td>50000</td>\n      <td>20000</td>\n      <td>5</td>\n      <td>600</td>\n    </tr>\n    <tr>\n      <th rowspan=\"2\" valign=\"top\">2</th>\n      <th>A</th>\n      <td>110000</td>\n      <td>20000</td>\n      <td>11</td>\n      <td>500</td>\n    </tr>\n    <tr>\n      <th>B</th>\n      <td>55000</td>\n      <td>20000</td>\n      <td>4</td>\n      <td>600</td>\n    </tr>\n    <tr>\n      <th rowspan=\"2\" valign=\"top\">3</th>\n      <th>A</th>\n      <td>120000</td>\n      <td>20000</td>\n      <td>12</td>\n      <td>500</td>\n    </tr>\n    <tr>\n      <th>B</th>\n      <td>60000</td>\n      <td>20000</td>\n      <td>3</td>\n      <td>600</td>\n    </tr>\n    <tr>\n      <th rowspan=\"2\" valign=\"top\">4</th>\n      <th>A</th>\n      <td>145000</td>\n      <td>20000</td>\n      <td>9</td>\n      <td>500</td>\n    </tr>\n    <tr>\n      <th>B</th>\n      <td>100000</td>\n      <td>20000</td>\n      <td>5</td>\n      <td>600</td>\n    </tr>\n    <tr>\n      <th rowspan=\"2\" valign=\"top\">5</th>\n      <th>A</th>\n      <td>160000</td>\n      <td>20000</td>\n      <td>8</td>\n      <td>500</td>\n    </tr>\n    <tr>\n      <th>B</th>\n      <td>0</td>\n      <td>0</td>\n      <td>0</td>\n      <td>0</td>\n    </tr>\n    <tr>\n      <th rowspan=\"2\" valign=\"top\">6</th>\n      <th>A</th>\n      <td>140000</td>\n      <td>20000</td>\n      <td>8</td>\n      <td>500</td>\n    </tr>\n    <tr>\n      <th>B</th>\n      <td>70000</td>\n      <td>20000</td>\n      <td>6</td>\n      <td>600</td>\n    </tr>\n    <tr>\n      <th rowspan=\"2\" valign=\"top\">7</th>\n      <th>A</th>\n      <td>155000</td>\n      <td>20000</td>\n      <td>5</td>\n      <td>500</td>\n    </tr>\n    <tr>\n      <th>B</th>\n      <td>60000</td>\n      <td>20000</td>\n      <td>4</td>\n      <td>600</td>\n    </tr>\n    <tr>\n      <th rowspan=\"2\" valign=\"top\">8</th>\n      <th>A</th>\n      <td>200000</td>\n      <td>20000</td>\n      <td>7</td>\n      <td>500</td>\n    </tr>\n    <tr>\n      <th>B</th>\n      <td>100000</td>\n      <td>20000</td>\n      <td>6</td>\n      <td>600</td>\n    </tr>\n    <tr>\n      <th rowspan=\"2\" valign=\"top\">9</th>\n      <th>A</th>\n      <td>210000</td>\n      <td>20000</td>\n      <td>9</td>\n      <td>500</td>\n    </tr>\n    <tr>\n      <th>B</th>\n      <td>100000</td>\n      <td>20000</td>\n      <td>8</td>\n      <td>600</td>\n    </tr>\n    <tr>\n      <th rowspan=\"2\" valign=\"top\">10</th>\n      <th>A</th>\n      <td>197000</td>\n      <td>20000</td>\n      <td>10</td>\n      <td>500</td>\n    </tr>\n    <tr>\n      <th>B</th>\n      <td>100000</td>\n      <td>20000</td>\n      <td>11</td>\n      <td>600</td>\n    </tr>\n    <tr>\n      <th rowspan=\"2\" valign=\"top\">11</th>\n      <th>A</th>\n      <td>80000</td>\n      <td>20000</td>\n      <td>8</td>\n      <td>500</td>\n    </tr>\n    <tr>\n      <th>B</th>\n      <td>120000</td>\n      <td>20000</td>\n      <td>10</td>\n      <td>600</td>\n    </tr>\n    <tr>\n      <th rowspan=\"2\" valign=\"top\">12</th>\n      <th>A</th>\n      <td>150000</td>\n      <td>20000</td>\n      <td>8</td>\n      <td>500</td>\n    </tr>\n    <tr>\n      <th>B</th>\n      <td>150000</td>\n      <td>20000</td>\n      <td>12</td>\n      <td>600</td>\n    </tr>\n  </tbody>\n</table>\n</div>"
                    },
                    "metadata": {}
                }
            ],
            "execution_count": 17
        },
        {
            "cell_type": "code",
            "source": [
                "demand = pd.read_excel('/Volumes/Elements/khartless/Projects/Data/factory_variables.xlsx', \n",
                "            sheet_name='demand',\n",
                "            index_col=[0])"
            ],
            "metadata": {
                "azdata_cell_guid": "b9610950-a015-4866-a605-e0298aa9f215"
            },
            "outputs": [],
            "execution_count": 18
        },
        {
            "cell_type": "code",
            "source": [
                "demand"
            ],
            "metadata": {
                "azdata_cell_guid": "220a609a-33e1-4ffe-b1cc-95c3bcaa9509"
            },
            "outputs": [
                {
                    "output_type": "execute_result",
                    "execution_count": 19,
                    "data": {
                        "text/plain": "       demand\nmonth        \n1      120000\n2      100000\n3      130000\n4      130000\n5      140000\n6      130000\n7      150000\n8      170000\n9      200000\n10     190000\n11     140000\n12     100000",
                        "text/html": "<div>\n<style scoped>\n    .dataframe tbody tr th:only-of-type {\n        vertical-align: middle;\n    }\n\n    .dataframe tbody tr th {\n        vertical-align: top;\n    }\n\n    .dataframe thead th {\n        text-align: right;\n    }\n</style>\n<table border=\"1\" class=\"dataframe\">\n  <thead>\n    <tr style=\"text-align: right;\">\n      <th></th>\n      <th>demand</th>\n    </tr>\n    <tr>\n      <th>month</th>\n      <th></th>\n    </tr>\n  </thead>\n  <tbody>\n    <tr>\n      <th>1</th>\n      <td>120000</td>\n    </tr>\n    <tr>\n      <th>2</th>\n      <td>100000</td>\n    </tr>\n    <tr>\n      <th>3</th>\n      <td>130000</td>\n    </tr>\n    <tr>\n      <th>4</th>\n      <td>130000</td>\n    </tr>\n    <tr>\n      <th>5</th>\n      <td>140000</td>\n    </tr>\n    <tr>\n      <th>6</th>\n      <td>130000</td>\n    </tr>\n    <tr>\n      <th>7</th>\n      <td>150000</td>\n    </tr>\n    <tr>\n      <th>8</th>\n      <td>170000</td>\n    </tr>\n    <tr>\n      <th>9</th>\n      <td>200000</td>\n    </tr>\n    <tr>\n      <th>10</th>\n      <td>190000</td>\n    </tr>\n    <tr>\n      <th>11</th>\n      <td>140000</td>\n    </tr>\n    <tr>\n      <th>12</th>\n      <td>100000</td>\n    </tr>\n  </tbody>\n</table>\n</div>"
                    },
                    "metadata": {}
                }
            ],
            "execution_count": 19
        },
        {
            "cell_type": "code",
            "source": [
                "production = LpVariable.dicts(\"production\",\n",
                "                                     ((month, factory) for month, factory in factories.index),\n",
                "                                     lowBound=0,\n",
                "                                     cat='Integer')"
            ],
            "metadata": {
                "azdata_cell_guid": "1d147ffa-c4da-4042-bcc4-f61da1d28dd4"
            },
            "outputs": [],
            "execution_count": 21
        },
        {
            "cell_type": "code",
            "source": [
                "factory_status = LpVariable.dicts(\"factory_status\",\n",
                "                                     ((month, factory) for month, factory in factories.index),\n",
                "                                     cat='Binary')"
            ],
            "metadata": {
                "azdata_cell_guid": "16226087-0292-4789-a707-1c5ec3321392"
            },
            "outputs": [],
            "execution_count": 23
        },
        {
            "cell_type": "code",
            "source": [
                "model = LpProblem(\"Cost minimising scheduling problem\", LpMinimize)"
            ],
            "metadata": {
                "azdata_cell_guid": "bd7a5878-6cde-4b99-8871-032901075f95"
            },
            "outputs": [
                {
                    "output_type": "stream",
                    "name": "stderr",
                    "text": "/Users/karengrundy/.local/lib/python3.6/site-packages/pulp/pulp.py:1190: UserWarning: Spaces are not permitted in the name. Converted to '_'\n  warnings.warn(\"Spaces are not permitted in the name. Converted to '_'\")\n"
                }
            ],
            "execution_count": 27
        },
        {
            "cell_type": "code",
            "source": [
                "model += lpSum([production[month, factory] * factories.loc[(month, factory), 'Variable_Costs'] for month, factory in factories.index]\n",
                "    + [factory_status[month, factory] * factories.loc[(month, factory), 'Fixed_Costs'] for month, factory in factories.index]\n",
                "    )"
            ],
            "metadata": {
                "azdata_cell_guid": "9879b7f4-a48a-4c4e-8abc-fbef05bce9da"
            },
            "outputs": [],
            "execution_count": 29
        },
        {
            "cell_type": "code",
            "source": [
                "# Production in any month must be equal to demand\n",
                "months = demand.index\n",
                "for month in months:\n",
                "    model += production[(month, 'A')] + production[(month, 'B')] == demand.loc[month, 'demand']"
            ],
            "metadata": {
                "azdata_cell_guid": "68fb7e9c-cb63-4018-90ca-f8b4fc7675af"
            },
            "outputs": [],
            "execution_count": 31
        },
        {
            "cell_type": "code",
            "source": [
                "# Production in any month must be between minimum and maximum capacity, or zero.\n",
                "for month, factory in factories.index:\n",
                "    min_production = factories.loc[(month, factory), 'Min_Capacity']\n",
                "    max_production = factories.loc[(month, factory), 'Max_Capacity']\n",
                "    model += production[(month, factory)] >= min_production * factory_status[month, factory]\n",
                "    model += production[(month, factory)] <= max_production * factory_status[month, factory]"
            ],
            "metadata": {
                "azdata_cell_guid": "69cee45e-543d-4aa8-b732-ba3c0462332e"
            },
            "outputs": [],
            "execution_count": 32
        },
        {
            "cell_type": "code",
            "source": [
                "# Factory B is off in May\n",
                "model += factory_status[5, 'B'] == 0\n",
                "model += production[5, 'B'] == 0"
            ],
            "metadata": {
                "azdata_cell_guid": "dafada2d-5586-405d-aa59-2fc0cc481226"
            },
            "outputs": [],
            "execution_count": 33
        },
        {
            "cell_type": "code",
            "source": [
                "model.solve()\n",
                "LpStatus[model.status]"
            ],
            "metadata": {
                "azdata_cell_guid": "79c4170c-eaa7-4f25-b058-e76e3148ca1b"
            },
            "outputs": [
                {
                    "output_type": "execute_result",
                    "execution_count": 35,
                    "data": {
                        "text/plain": "'Optimal'"
                    },
                    "metadata": {}
                }
            ],
            "execution_count": 35
        },
        {
            "cell_type": "code",
            "source": [
                "output = []\n",
                "for month, factory in production:\n",
                "    var_output = {\n",
                "        'Month': month,\n",
                "        'Factory': factory,\n",
                "        'Production': production[(month, factory)].varValue,\n",
                "        'Factory Status': factory_status[(month, factory)].varValue\n",
                "    }\n",
                "    output.append(var_output)\n",
                "output_df = pd.DataFrame.from_records(output).sort_values(['Month', 'Factory'])\n",
                "output_df.set_index(['Month', 'Factory'], inplace=True)\n",
                "output_df"
            ],
            "metadata": {
                "azdata_cell_guid": "321b9f16-4078-4337-86d3-71f08c4f31d4"
            },
            "outputs": [
                {
                    "output_type": "execute_result",
                    "execution_count": 36,
                    "data": {
                        "text/plain": "               Production  Factory Status\nMonth Factory                            \n1     A           70000.0             1.0\n      B           50000.0             1.0\n2     A           45000.0             1.0\n      B           55000.0             1.0\n3     A           70000.0             1.0\n      B           60000.0             1.0\n4     A           30000.0             1.0\n      B          100000.0             1.0\n5     A          140000.0             1.0\n      B               0.0             0.0\n6     A           60000.0             1.0\n      B           70000.0             1.0\n7     A           90000.0             1.0\n      B           60000.0             1.0\n8     A           70000.0             1.0\n      B          100000.0             1.0\n9     A          100000.0             1.0\n      B          100000.0             1.0\n10    A          190000.0             1.0\n      B               0.0             0.0\n11    A           80000.0             1.0\n      B           60000.0             1.0\n12    A          100000.0             1.0\n      B               0.0             0.0",
                        "text/html": "<div>\n<style scoped>\n    .dataframe tbody tr th:only-of-type {\n        vertical-align: middle;\n    }\n\n    .dataframe tbody tr th {\n        vertical-align: top;\n    }\n\n    .dataframe thead th {\n        text-align: right;\n    }\n</style>\n<table border=\"1\" class=\"dataframe\">\n  <thead>\n    <tr style=\"text-align: right;\">\n      <th></th>\n      <th></th>\n      <th>Production</th>\n      <th>Factory Status</th>\n    </tr>\n    <tr>\n      <th>Month</th>\n      <th>Factory</th>\n      <th></th>\n      <th></th>\n    </tr>\n  </thead>\n  <tbody>\n    <tr>\n      <th rowspan=\"2\" valign=\"top\">1</th>\n      <th>A</th>\n      <td>70000.0</td>\n      <td>1.0</td>\n    </tr>\n    <tr>\n      <th>B</th>\n      <td>50000.0</td>\n      <td>1.0</td>\n    </tr>\n    <tr>\n      <th rowspan=\"2\" valign=\"top\">2</th>\n      <th>A</th>\n      <td>45000.0</td>\n      <td>1.0</td>\n    </tr>\n    <tr>\n      <th>B</th>\n      <td>55000.0</td>\n      <td>1.0</td>\n    </tr>\n    <tr>\n      <th rowspan=\"2\" valign=\"top\">3</th>\n      <th>A</th>\n      <td>70000.0</td>\n      <td>1.0</td>\n    </tr>\n    <tr>\n      <th>B</th>\n      <td>60000.0</td>\n      <td>1.0</td>\n    </tr>\n    <tr>\n      <th rowspan=\"2\" valign=\"top\">4</th>\n      <th>A</th>\n      <td>30000.0</td>\n      <td>1.0</td>\n    </tr>\n    <tr>\n      <th>B</th>\n      <td>100000.0</td>\n      <td>1.0</td>\n    </tr>\n    <tr>\n      <th rowspan=\"2\" valign=\"top\">5</th>\n      <th>A</th>\n      <td>140000.0</td>\n      <td>1.0</td>\n    </tr>\n    <tr>\n      <th>B</th>\n      <td>0.0</td>\n      <td>0.0</td>\n    </tr>\n    <tr>\n      <th rowspan=\"2\" valign=\"top\">6</th>\n      <th>A</th>\n      <td>60000.0</td>\n      <td>1.0</td>\n    </tr>\n    <tr>\n      <th>B</th>\n      <td>70000.0</td>\n      <td>1.0</td>\n    </tr>\n    <tr>\n      <th rowspan=\"2\" valign=\"top\">7</th>\n      <th>A</th>\n      <td>90000.0</td>\n      <td>1.0</td>\n    </tr>\n    <tr>\n      <th>B</th>\n      <td>60000.0</td>\n      <td>1.0</td>\n    </tr>\n    <tr>\n      <th rowspan=\"2\" valign=\"top\">8</th>\n      <th>A</th>\n      <td>70000.0</td>\n      <td>1.0</td>\n    </tr>\n    <tr>\n      <th>B</th>\n      <td>100000.0</td>\n      <td>1.0</td>\n    </tr>\n    <tr>\n      <th rowspan=\"2\" valign=\"top\">9</th>\n      <th>A</th>\n      <td>100000.0</td>\n      <td>1.0</td>\n    </tr>\n    <tr>\n      <th>B</th>\n      <td>100000.0</td>\n      <td>1.0</td>\n    </tr>\n    <tr>\n      <th rowspan=\"2\" valign=\"top\">10</th>\n      <th>A</th>\n      <td>190000.0</td>\n      <td>1.0</td>\n    </tr>\n    <tr>\n      <th>B</th>\n      <td>0.0</td>\n      <td>0.0</td>\n    </tr>\n    <tr>\n      <th rowspan=\"2\" valign=\"top\">11</th>\n      <th>A</th>\n      <td>80000.0</td>\n      <td>1.0</td>\n    </tr>\n    <tr>\n      <th>B</th>\n      <td>60000.0</td>\n      <td>1.0</td>\n    </tr>\n    <tr>\n      <th rowspan=\"2\" valign=\"top\">12</th>\n      <th>A</th>\n      <td>100000.0</td>\n      <td>1.0</td>\n    </tr>\n    <tr>\n      <th>B</th>\n      <td>0.0</td>\n      <td>0.0</td>\n    </tr>\n  </tbody>\n</table>\n</div>"
                    },
                    "metadata": {}
                }
            ],
            "execution_count": 36
        }
    ]
}