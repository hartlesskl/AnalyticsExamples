{
    "metadata": {
        "kernelspec": {
            "name": "python3",
            "display_name": "Python 3"
        },
        "language_info": {
            "name": "python",
            "version": "3.6.6",
            "mimetype": "text/x-python",
            "codemirror_mode": {
                "name": "ipython",
                "version": 3
            },
            "pygments_lexer": "ipython3",
            "nbconvert_exporter": "python",
            "file_extension": ".py"
        }
    },
    "nbformat_minor": 2,
    "nbformat": 4,
    "cells": [
        {
            "cell_type": "code",
            "source": [
                "import numpy as np \n",
                "from pulp import LpMaximize, LpProblem, LpStatus, lpSum, LpVariable\n",
                "from pulp import GLPK"
            ],
            "metadata": {
                "azdata_cell_guid": "03393241-5514-40e2-9841-6e344d690996",
                "tags": [
                    "hide_input"
                ]
            },
            "outputs": [],
            "execution_count": 16
        },
        {
            "cell_type": "code",
            "source": [
                "model = LpProblem(name=\"small-problem\", sense=LpMaximize)"
            ],
            "metadata": {
                "azdata_cell_guid": "d052f2a9-f502-47d1-9495-132bd6a3636b"
            },
            "outputs": [],
            "execution_count": 4
        },
        {
            "cell_type": "code",
            "source": [
                "x = LpVariable(name=\"x\", lowBound=0)\n",
                "y = LpVariable(name=\"y\", lowBound=0)"
            ],
            "metadata": {
                "azdata_cell_guid": "dcacbc14-ae1e-4d33-ac24-36873fb22c5b"
            },
            "outputs": [],
            "execution_count": 5
        },
        {
            "cell_type": "code",
            "source": [
                "model += (2 * x + y <= 20, \"red_constraint\")\n",
                "model += (4 * x - 5 * y >= -10, \"blue_constraint\")\n",
                "model += (-x + 2 * y >= -2, \"yellow_constraint\")\n",
                "model += (-x + 5 * y == 15, \"green_constraint\")"
            ],
            "metadata": {
                "azdata_cell_guid": "5f89b42a-fcf5-4173-9944-977617320055"
            },
            "outputs": [],
            "execution_count": 6
        },
        {
            "cell_type": "code",
            "source": [
                "obj_func = x + 2 * y\n",
                "model += obj_func"
            ],
            "metadata": {
                "azdata_cell_guid": "b62f148a-9707-4de0-b81d-57a2aa41b455"
            },
            "outputs": [],
            "execution_count": 7
        },
        {
            "cell_type": "code",
            "source": [
                "model"
            ],
            "metadata": {
                "azdata_cell_guid": "5a1bd9af-6a47-4a3b-9aa9-2555a66ddb73"
            },
            "outputs": [
                {
                    "output_type": "execute_result",
                    "execution_count": 8,
                    "data": {
                        "text/plain": "small-problem:\nMAXIMIZE\n1*x + 2*y + 0\nSUBJECT TO\nred_constraint: 2 x + y <= 20\n\nblue_constraint: 4 x - 5 y >= -10\n\nyellow_constraint: - x + 2 y >= -2\n\ngreen_constraint: - x + 5 y = 15\n\nVARIABLES\nx Continuous\ny Continuous"
                    },
                    "metadata": {}
                }
            ],
            "execution_count": 8
        },
        {
            "cell_type": "code",
            "source": [
                "status = model.solve()"
            ],
            "metadata": {
                "azdata_cell_guid": "7a9cb6bf-34a3-4ecb-969f-401c806e704f"
            },
            "outputs": [],
            "execution_count": 9
        },
        {
            "cell_type": "code",
            "source": [
                "print(f'status: {model.status}, {LpStatus[model.status]}')"
            ],
            "metadata": {
                "azdata_cell_guid": "14732fd1-aab4-4dd8-b776-00e62a8714ef"
            },
            "outputs": [
                {
                    "output_type": "stream",
                    "name": "stdout",
                    "text": "status: 1, Optimal\n"
                }
            ],
            "execution_count": 10
        },
        {
            "cell_type": "code",
            "source": [
                "print(f'objective: {model.objective.value()}')\n",
                "\n",
                "for var in model.variables():\n",
                "    print(f'{var.name}: {var.value()}')\n",
                "\n",
                "for name, constraint in model.constraints.items():\n",
                "    print(f'{name}: {constraint.value():,.2f}')"
            ],
            "metadata": {
                "azdata_cell_guid": "cf954218-87aa-4400-86ae-dd401025ffe0"
            },
            "outputs": [
                {
                    "output_type": "stream",
                    "name": "stdout",
                    "text": "objective: 16.8181817\nx: 7.7272727\ny: 4.5454545\nred_constraint: -0.00\nblue_constraint: 18.18\nyellow_constraint: 3.36\ngreen_constraint: -0.00\n"
                }
            ],
            "execution_count": 15
        }
    ]
}