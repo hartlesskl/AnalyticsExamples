{
    "metadata": {
        "kernelspec": {
            "name": "python3",
            "display_name": "Python 3"
        },
        "language_info": {
            "name": "python",
            "version": "3.6.6",
            "mimetype": "text/x-python",
            "codemirror_mode": {
                "name": "ipython",
                "version": 3
            },
            "pygments_lexer": "ipython3",
            "nbconvert_exporter": "python",
            "file_extension": ".py"
        }
    },
    "nbformat_minor": 2,
    "nbformat": 4,
    "cells": [
        {
            "cell_type": "markdown",
            "source": [
                "## Problem Description\n",
                "___\n",
                "Determine the optimal length and quantity of space needed in 1000's of sq.ft. to meet space requirements will minimizing total cost of the leases. Leases can be for any amount for time periods from 1 to 6 months.\n",
                "\n",
                "Required space  \n",
                "\n",
                "| Jan | Feb | Mar | Apr | May | Jun | Jul | Aug |\n",
                "|-----|-----|-----|-----|-----|-----|-----|-----|\n",
                "| 24  | 28  | 31  | 28  | 27  | 25  | 34  | 28  |\n",
                "\n",
                "Cost of Lease (in months)\n",
                "\n",
                "|  1  |  2  |  3  |  4  |  5  |  6  |\n",
                "|-----|-----|-----|-----|-----|-----|\n",
                "| 400 | 780 | 1140| 1480| 1800| 2100|\n",
                "\n",
                "\n",
                "\n",
                ""
            ],
            "metadata": {
                "azdata_cell_guid": "2eb768ef-3075-4ce9-9474-1f13d8334a68"
            }
        },
        {
            "cell_type": "code",
            "source": [
                "import numpy as np \n",
                "import pandas as pd\n",
                "import pulp"
            ],
            "metadata": {
                "azdata_cell_guid": "3d6698f0-c75d-4cb7-8df2-64710283572e"
            },
            "outputs": [],
            "execution_count": 1
        },
        {
            "cell_type": "code",
            "source": [
                "#Fixed variables\n",
                "\n",
                "space_required = [24, 28, 31, 28, 27, 25, 34, 28]\n",
                "costs = [400, 780, 1140, 1480, 1800, 2100]\n",
                "months = ['Jan', 'Feb', 'Mar', 'Apr', 'May', 'Jun', 'Jul', 'Aug']\n",
                "lease = [1, 2, 3, 4, 5, 6]\n",
                "\n",
                "n_months = len(months)\n",
                "n_lease = len(lease)\n",
                ""
            ],
            "metadata": {
                "azdata_cell_guid": "83cf95ba-36cb-4ba1-83c7-d7ecd3c8a1e9"
            },
            "outputs": [],
            "execution_count": 7
        },
        {
            "cell_type": "code",
            "source": [
                "#Create the model\n",
                "variable_name = [month+str(l) for month in months for l in lease]\n",
                "\n",
                "model = pulp.LpProblem(name='lease_optimization', sense=pulp.LpMinimize)\n",
                "\n",
                "lease_variables = pulp.LpVariable.matrix('L', variable_name,\n",
                "                                               lowBound=0, cat=pulp.LpInteger)\n",
                "\n",
                "allocation = np.array(lease_variables).reshape(n_months,n_lease)\n",
                "\n",
                "#the total of january leases must be greater than or equal to the space required for january\n",
                "model.addConstraint(pulp.LpConstraint(\n",
                "    e=pulp.lpSum(allocation[0,:]),\n",
                "    sense=pulp.LpConstraintGE,\n",
                "    name='Jan_inv_req',\n",
                "    rhs=space_required[0]))\n",
                "\n",
                "#the total of February leases and leases made in January that include february must be greater than or equal to \n",
                "#the space required for February\n",
                "model.addConstraint(pulp.LpConstraint(\n",
                "    e=pulp.lpSum(allocation[1,:])+pulp.lpSum(allocation[0,1:]),\n",
                "    sense=pulp.LpConstraintGE,\n",
                "    name='Feb_inv_req',\n",
                "    rhs=space_required[1]))\n",
                "\n",
                "#the total of March leases and leases made in Jan/Feb that include march must be greater than or equal to \n",
                "#the space required for march\n",
                "model.addConstraint(pulp.LpConstraint(\n",
                "    e=pulp.lpSum(allocation[2,:])+pulp.lpSum(allocation[0,2:])+pulp.lpSum(allocation[1,1:]),\n",
                "    sense=pulp.LpConstraintGE,\n",
                "    name='Mar_inv_req',\n",
                "    rhs=space_required[2]))\n",
                "\n",
                "#the total of Apr through Aug leases and leases made in Jan/Feb/Mar that include apr must be greater than or equal to \n",
                "#the space required for apr\n",
                "model.addConstraint(pulp.LpConstraint(\n",
                "    e=pulp.lpSum(allocation[3,:-1])+pulp.lpSum(allocation[0,3:])+pulp.lpSum(allocation[1,2:])+pulp.lpSum(allocation[2,1:]),\n",
                "    sense=pulp.LpConstraintGE,\n",
                "    name='Apr_inv_req',\n",
                "    rhs=space_required[3]))\n",
                "\n",
                "#the total of May through Aug leases and leases made in Jan/Feb/Mar/Apr that include apr must be greater than or equal to \n",
                "#the space required for May\n",
                "model.addConstraint(pulp.LpConstraint(\n",
                "    e=pulp.lpSum(allocation[4,:-2])+pulp.lpSum(allocation[0,4:])+pulp.lpSum(allocation[1,3:])+pulp.lpSum(allocation[2,2:])+pulp.lpSum(allocation[3,1:-1]),\n",
                "    sense=pulp.LpConstraintGE,\n",
                "    name='May_inv_req',\n",
                "    rhs=space_required[4]))\n",
                "\n",
                "#the total of Jun through Aug leases and leases made in Jan/Feb/Mar/Apr/May that include apr must be greater than or equal to \n",
                "#the space required for Jun\n",
                "model.addConstraint(pulp.LpConstraint(\n",
                "    e=pulp.lpSum(allocation[5,:-3])+pulp.lpSum(allocation[0,5])+pulp.lpSum(allocation[1,4:])+pulp.lpSum(allocation[2,3:])+\n",
                "        pulp.lpSum(allocation[3,2:-1])+pulp.lpSum(allocation[4,1:-2]),\n",
                "    sense=pulp.LpConstraintGE,\n",
                "    name='Jun_inv_req',\n",
                "    rhs=space_required[5]))\n",
                "\n",
                "#the total of Jul through Aug leases and leases made in Feb/Mar/Apr/May/Jul that include apr must be greater than or equal to \n",
                "#the space required for Jul\n",
                "model.addConstraint(pulp.LpConstraint(\n",
                "    e=pulp.lpSum(allocation[6,:-4])+pulp.lpSum(allocation[1,5])+pulp.lpSum(allocation[2,4:])+\n",
                "        pulp.lpSum(allocation[3,3:-1])+pulp.lpSum(allocation[4,2:-2])+pulp.lpSum(allocation[5,1:-3]),\n",
                "    sense=pulp.LpConstraintGE,\n",
                "    name='Jul_inv_req',\n",
                "    rhs=space_required[6]))\n",
                "\n",
                "#the total of Aug leases and leases made in Mar/Apr/May/Jul that include apr must be greater than or equal to \n",
                "#the space required for Aug\n",
                "model.addConstraint(pulp.LpConstraint(\n",
                "    e=pulp.lpSum(allocation[7,0])+pulp.lpSum(allocation[2,5])+pulp.lpSum(allocation[3,4])+pulp.lpSum(allocation[4,3])+\n",
                "                pulp.lpSum(allocation[5,2])+pulp.lpSum(allocation[6,1]),\n",
                "    sense=pulp.LpConstraintGE,\n",
                "    name='Aug_inv_req',\n",
                "    rhs=space_required[7]))\n",
                "\n",
                "objective = pulp.lpSum([allocation[:,i]*cost for i,cost in enumerate(costs)])\n",
                "\n",
                "model.setObjective(objective)\n",
                "\n",
                "model.solve()\n",
                "\n",
                "#if the model is optimal, print the objective value and the production matrix\n",
                "if model.status == 1:\n",
                "    print(f'status: {model.status}, {pulp.LpStatus[model.status]}')\n",
                "    print(f'objective: ${model.objective.value():,.0f}')\n",
                "    output = np.array([allocation[i,j].value() for i in range(n_months) for j in range(n_lease)]).reshape(n_months, n_lease)\n",
                "\n",
                "    print(pd.DataFrame(output, columns=lease, index=months))\n",
                "else:\n",
                "    print(f'status: {model.status}, {pulp.LpStatus[model.status]}')\n",
                "\n",
                ""
            ],
            "metadata": {
                "azdata_cell_guid": "7d7b0d8a-6735-4521-bf15-f0a80af8dcdb"
            },
            "outputs": [
                {
                    "name": "stdout",
                    "text": "status: 1, Optimal\nobjective: $81,300\n       1     2    3    4    5     6\nJan  0.0  18.0  3.0  1.0  2.0   0.0\nFeb  0.0   0.0  0.0  0.0  0.0   4.0\nMar  0.0   0.0  0.0  0.0  0.0  21.0\nApr  0.0   0.0  0.0  0.0  0.0   0.0\nMay  0.0   0.0  0.0  0.0  0.0   0.0\nJun  0.0   0.0  0.0  0.0  0.0   0.0\nJul  2.0   7.0  0.0  0.0  0.0   0.0\nAug  0.0   0.0  0.0  0.0  0.0   0.0\n",
                    "output_type": "stream"
                }
            ],
            "execution_count": 46
        },
        {
            "cell_type": "code",
            "source": [
                "model"
            ],
            "metadata": {
                "azdata_cell_guid": "6402cd95-1666-4315-a051-4a2564cabc2c"
            },
            "outputs": [
                {
                    "data": {
                        "text/plain": "lease_optimization:\nMINIMIZE\n400*L_Apr1 + 780*L_Apr2 + 1140*L_Apr3 + 1480*L_Apr4 + 1800*L_Apr5 + 2100*L_Apr6 + 400*L_Aug1 + 780*L_Aug2 + 1140*L_Aug3 + 1480*L_Aug4 + 1800*L_Aug5 + 2100*L_Aug6 + 400*L_Feb1 + 780*L_Feb2 + 1140*L_Feb3 + 1480*L_Feb4 + 1800*L_Feb5 + 2100*L_Feb6 + 400*L_Jan1 + 780*L_Jan2 + 1140*L_Jan3 + 1480*L_Jan4 + 1800*L_Jan5 + 2100*L_Jan6 + 400*L_Jul1 + 780*L_Jul2 + 1140*L_Jul3 + 1480*L_Jul4 + 1800*L_Jul5 + 2100*L_Jul6 + 400*L_Jun1 + 780*L_Jun2 + 1140*L_Jun3 + 1480*L_Jun4 + 1800*L_Jun5 + 2100*L_Jun6 + 400*L_Mar1 + 780*L_Mar2 + 1140*L_Mar3 + 1480*L_Mar4 + 1800*L_Mar5 + 2100*L_Mar6 + 400*L_May1 + 780*L_May2 + 1140*L_May3 + 1480*L_May4 + 1800*L_May5 + 2100*L_May6 + 0\nSUBJECT TO\nJan_inv_req: L_Jan1 + L_Jan2 + L_Jan3 + L_Jan4 + L_Jan5 + L_Jan6 >= 24\n\nFeb_inv_req: L_Feb1 + L_Feb2 + L_Feb3 + L_Feb4 + L_Feb5 + L_Feb6 + L_Jan2\n + L_Jan3 + L_Jan4 + L_Jan5 + L_Jan6 >= 28\n\nMar_inv_req: L_Feb2 + L_Feb3 + L_Feb4 + L_Feb5 + L_Feb6 + L_Jan3 + L_Jan4\n + L_Jan5 + L_Jan6 + L_Mar1 + L_Mar2 + L_Mar3 + L_Mar4 + L_Mar5 + L_Mar6 >= 31\n\nApr_inv_req: L_Apr1 + L_Apr2 + L_Apr3 + L_Apr4 + L_Apr5 + L_Feb3 + L_Feb4\n + L_Feb5 + L_Feb6 + L_Jan4 + L_Jan5 + L_Jan6 + L_Mar2 + L_Mar3 + L_Mar4\n + L_Mar5 + L_Mar6 >= 28\n\nMay_inv_req: L_Apr2 + L_Apr3 + L_Apr4 + L_Apr5 + L_Feb4 + L_Feb5 + L_Feb6\n + L_Jan5 + L_Jan6 + L_Mar3 + L_Mar4 + L_Mar5 + L_Mar6 + L_May1 + L_May2\n + L_May3 + L_May4 >= 27\n\nJun_inv_req: L_Apr3 + L_Apr4 + L_Apr5 + L_Feb5 + L_Feb6 + L_Jan6 + L_Jun1\n + L_Jun2 + L_Jun3 + L_Mar4 + L_Mar5 + L_Mar6 + L_May2 + L_May3 + L_May4 >= 25\n\nJul_inv_req: L_Apr4 + L_Apr5 + L_Feb6 + L_Jul1 + L_Jul2 + L_Jun2 + L_Jun3\n + L_Mar5 + L_Mar6 + L_May3 + L_May4 >= 34\n\nAug_inv_req: L_Apr5 + L_Aug1 + L_Jul2 + L_Jun3 + L_Mar6 + L_May4 >= 28\n\nVARIABLES\n0 <= L_Apr1 Integer\n0 <= L_Apr2 Integer\n0 <= L_Apr3 Integer\n0 <= L_Apr4 Integer\n0 <= L_Apr5 Integer\n0 <= L_Apr6 Integer\n0 <= L_Aug1 Integer\n0 <= L_Aug2 Integer\n0 <= L_Aug3 Integer\n0 <= L_Aug4 Integer\n0 <= L_Aug5 Integer\n0 <= L_Aug6 Integer\n0 <= L_Feb1 Integer\n0 <= L_Feb2 Integer\n0 <= L_Feb3 Integer\n0 <= L_Feb4 Integer\n0 <= L_Feb5 Integer\n0 <= L_Feb6 Integer\n0 <= L_Jan1 Integer\n0 <= L_Jan2 Integer\n0 <= L_Jan3 Integer\n0 <= L_Jan4 Integer\n0 <= L_Jan5 Integer\n0 <= L_Jan6 Integer\n0 <= L_Jul1 Integer\n0 <= L_Jul2 Integer\n0 <= L_Jul3 Integer\n0 <= L_Jul4 Integer\n0 <= L_Jul5 Integer\n0 <= L_Jul6 Integer\n0 <= L_Jun1 Integer\n0 <= L_Jun2 Integer\n0 <= L_Jun3 Integer\n0 <= L_Jun4 Integer\n0 <= L_Jun5 Integer\n0 <= L_Jun6 Integer\n0 <= L_Mar1 Integer\n0 <= L_Mar2 Integer\n0 <= L_Mar3 Integer\n0 <= L_Mar4 Integer\n0 <= L_Mar5 Integer\n0 <= L_Mar6 Integer\n0 <= L_May1 Integer\n0 <= L_May2 Integer\n0 <= L_May3 Integer\n0 <= L_May4 Integer\n0 <= L_May5 Integer\n0 <= L_May6 Integer"
                    },
                    "metadata": {},
                    "execution_count": 45,
                    "output_type": "execute_result"
                }
            ],
            "execution_count": 45
        }
    ]
}