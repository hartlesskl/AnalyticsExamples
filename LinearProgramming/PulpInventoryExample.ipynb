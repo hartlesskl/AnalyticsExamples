{
    "metadata": {
        "kernelspec": {
            "name": "python3",
            "display_name": "Python 3"
        },
        "language_info": {
            "name": "python",
            "version": "3.6.6",
            "mimetype": "text/x-python",
            "codemirror_mode": {
                "name": "ipython",
                "version": 3
            },
            "pygments_lexer": "ipython3",
            "nbconvert_exporter": "python",
            "file_extension": ".py"
        }
    },
    "nbformat_minor": 2,
    "nbformat": 4,
    "cells": [
        {
            "cell_type": "code",
            "source": [
                "import numpy as np \n",
                "import pandas as pd\n",
                "import pulp"
            ],
            "metadata": {
                "azdata_cell_guid": "5a41cab0-2e29-4ac6-b17f-d5dbb2f80140",
                "tags": []
            },
            "outputs": [],
            "execution_count": 60
        },
        {
            "cell_type": "code",
            "source": [
                "\"\"\"\n",
                "Parameters:\n",
                "h: unit holding cost\n",
                "p: production capacity per month\n",
                "I_0: initial_inventory\n",
                "c_t: unit production cost in month t\n",
                "d_t: demand of month t\n",
                "\n",
                "Variables:\n",
                "P_t: Amount produced in month t\n",
                "I_t: Inventory at the end of period t\n",
                "\n",
                "Constraints:\n",
                "Inventory Constraints: I_{t-1} + X_t - d_t = I_t\n",
                "Capacity Constraints: P_t <= p\n",
                "\n",
                "Objective: Min Sum(h*I_t + c_t*X_t)\n",
                "\"\"\""
            ],
            "metadata": {
                "azdata_cell_guid": "7d432a9c-0e6d-4c3a-a98d-6f8ad9716cf9"
            },
            "outputs": [],
            "execution_count": null
        },
        {
            "cell_type": "code",
            "source": [
                "filepath = '/Volumes/Elements/khartless/Projects/optimization-tutorial/data/csv/'\n",
                "input_name = 'input_data.csv'\n",
                "parameters_name = 'parameters.csv'\n",
                "\n",
                "input_data = pd.read_csv(filepath+input_name, index_col=[0])\n",
                "parameters = pd.read_csv(filepath+parameters_name, index_col=[0])"
            ],
            "metadata": {
                "azdata_cell_guid": "824a22d3-33ae-43a9-b06b-50295ad5d44b"
            },
            "outputs": [],
            "execution_count": 61
        },
        {
            "cell_type": "code",
            "source": [
                "input_data"
            ],
            "metadata": {
                "azdata_cell_guid": "efbb21ce-112e-467b-89a0-39a4de089ec7"
            },
            "outputs": [
                {
                    "data": {
                        "text/plain": "        demand  production_cost  production_capacity\nperiod                                              \n1         3300              150                 6400\n2         3300              150                 6400\n3         4500              140                 6800\n4         6100              140                 6800\n5         5100              150                 6400\n6         9000              135                 7000\n7         9700              135                 7000\n8         8200              135                 7000\n9         7900              135                 6800\n10        5700              140                 6800\n11        4500              140                 6800\n12        4200              140                 6400",
                        "text/html": "<div>\n<style scoped>\n    .dataframe tbody tr th:only-of-type {\n        vertical-align: middle;\n    }\n\n    .dataframe tbody tr th {\n        vertical-align: top;\n    }\n\n    .dataframe thead th {\n        text-align: right;\n    }\n</style>\n<table border=\"1\" class=\"dataframe\">\n  <thead>\n    <tr style=\"text-align: right;\">\n      <th></th>\n      <th>demand</th>\n      <th>production_cost</th>\n      <th>production_capacity</th>\n    </tr>\n    <tr>\n      <th>period</th>\n      <th></th>\n      <th></th>\n      <th></th>\n    </tr>\n  </thead>\n  <tbody>\n    <tr>\n      <th>1</th>\n      <td>3300</td>\n      <td>150</td>\n      <td>6400</td>\n    </tr>\n    <tr>\n      <th>2</th>\n      <td>3300</td>\n      <td>150</td>\n      <td>6400</td>\n    </tr>\n    <tr>\n      <th>3</th>\n      <td>4500</td>\n      <td>140</td>\n      <td>6800</td>\n    </tr>\n    <tr>\n      <th>4</th>\n      <td>6100</td>\n      <td>140</td>\n      <td>6800</td>\n    </tr>\n    <tr>\n      <th>5</th>\n      <td>5100</td>\n      <td>150</td>\n      <td>6400</td>\n    </tr>\n    <tr>\n      <th>6</th>\n      <td>9000</td>\n      <td>135</td>\n      <td>7000</td>\n    </tr>\n    <tr>\n      <th>7</th>\n      <td>9700</td>\n      <td>135</td>\n      <td>7000</td>\n    </tr>\n    <tr>\n      <th>8</th>\n      <td>8200</td>\n      <td>135</td>\n      <td>7000</td>\n    </tr>\n    <tr>\n      <th>9</th>\n      <td>7900</td>\n      <td>135</td>\n      <td>6800</td>\n    </tr>\n    <tr>\n      <th>10</th>\n      <td>5700</td>\n      <td>140</td>\n      <td>6800</td>\n    </tr>\n    <tr>\n      <th>11</th>\n      <td>4500</td>\n      <td>140</td>\n      <td>6800</td>\n    </tr>\n    <tr>\n      <th>12</th>\n      <td>4200</td>\n      <td>140</td>\n      <td>6400</td>\n    </tr>\n  </tbody>\n</table>\n</div>"
                    },
                    "metadata": {},
                    "execution_count": 62,
                    "output_type": "execute_result"
                }
            ],
            "execution_count": 62
        },
        {
            "cell_type": "code",
            "source": [
                "parameters"
            ],
            "metadata": {
                "azdata_cell_guid": "8f674281-4fb5-4f01-bb02-798b702e5214"
            },
            "outputs": [
                {
                    "data": {
                        "text/plain": "                   value\nattribute               \nholding_cost           8\ninitial_inventory    500",
                        "text/html": "<div>\n<style scoped>\n    .dataframe tbody tr th:only-of-type {\n        vertical-align: middle;\n    }\n\n    .dataframe tbody tr th {\n        vertical-align: top;\n    }\n\n    .dataframe thead th {\n        text-align: right;\n    }\n</style>\n<table border=\"1\" class=\"dataframe\">\n  <thead>\n    <tr style=\"text-align: right;\">\n      <th></th>\n      <th>value</th>\n    </tr>\n    <tr>\n      <th>attribute</th>\n      <th></th>\n    </tr>\n  </thead>\n  <tbody>\n    <tr>\n      <th>holding_cost</th>\n      <td>8</td>\n    </tr>\n    <tr>\n      <th>initial_inventory</th>\n      <td>500</td>\n    </tr>\n  </tbody>\n</table>\n</div>"
                    },
                    "metadata": {},
                    "execution_count": 63,
                    "output_type": "execute_result"
                }
            ],
            "execution_count": 63
        },
        {
            "cell_type": "code",
            "source": [
                "model = pulp.LpProblem(name='prod_planning', sense=pulp.LpMinimize)"
            ],
            "metadata": {
                "azdata_cell_guid": "3bc0f9c3-8957-4108-bf1a-ed0a20051b27"
            },
            "outputs": [],
            "execution_count": 64
        },
        {
            "cell_type": "code",
            "source": [
                "production_variables = pulp.LpVariable.dicts(name='P', indexs=input_data.index,\n",
                "                                             lowBound=0, cat=pulp.LpContinuous)"
            ],
            "metadata": {
                "azdata_cell_guid": "ad0e2b6f-5ba9-4190-a874-e8e07e37b361"
            },
            "outputs": [],
            "execution_count": 65
        },
        {
            "cell_type": "code",
            "source": [
                "inventory_variables = pulp.LpVariable.dicts(name='I', indexs=input_data.index,\n",
                "                                            lowBound=0, cat=pulp.LpContinuous)"
            ],
            "metadata": {
                "azdata_cell_guid": "137580a6-7b62-4d73-a911-a16da7db3e1e"
            },
            "outputs": [],
            "execution_count": 66
        },
        {
            "cell_type": "code",
            "source": [
                "for period, value in input_data.iloc[1:].iterrows():\n",
                "    model.addConstraint(pulp.LpConstraint(\n",
                "        e=inventory_variables[period - 1] + production_variables[period] - inventory_variables[period],\n",
                "        sense=pulp.LpConstraintEQ,\n",
                "        name='inv_balance' + str(period),\n",
                "        rhs=value.demand))"
            ],
            "metadata": {
                "azdata_cell_guid": "1050864e-d3cc-4592-a34b-23331514d475"
            },
            "outputs": [],
            "execution_count": 67
        },
        {
            "cell_type": "code",
            "source": [
                "# inv balance for first period\n",
                "model.addConstraint(pulp.LpConstraint(\n",
                "    e=production_variables[1] - inventory_variables[1],\n",
                "    sense=pulp.LpConstraintEQ,\n",
                "    name='inv_balance0',\n",
                "    rhs=input_data.iloc[1].demand - parameters.loc['initial_inventory'].value))"
            ],
            "metadata": {
                "azdata_cell_guid": "54ebf431-b8d1-4a0c-9e6a-3269a4d2379e"
            },
            "outputs": [],
            "execution_count": 69
        },
        {
            "cell_type": "code",
            "source": [
                "for index, value in production_variables.items():\n",
                "    model.addConstraint(pulp.LpConstraint(\n",
                "        e=value,\n",
                "        sense=pulp.LpConstraintLE,\n",
                "        name='prod_cap_month_' + str(index),\n",
                "        rhs=input_data.iloc[index-1].production_capacity))"
            ],
            "metadata": {
                "azdata_cell_guid": "d1dc04d5-8824-4fa1-b073-c5201ec93df3"
            },
            "outputs": [],
            "execution_count": 71
        },
        {
            "cell_type": "code",
            "source": [
                "total_holding_cost = parameters.loc['holding_cost'].value * pulp.lpSum(inventory_variables)\n",
                "total_production_cost = pulp.lpSum(row['production_cost'] * production_variables[index]\n",
                "                                   for index, row in input_data.iterrows())\n",
                "\n",
                "objective = total_holding_cost + total_production_cost\n",
                "\n",
                "model.setObjective(objective)"
            ],
            "metadata": {
                "azdata_cell_guid": "fc2f615f-e119-4a7b-85be-cb37b72c2101"
            },
            "outputs": [],
            "execution_count": 75
        },
        {
            "cell_type": "code",
            "source": [
                "\n",
                "model.solve()\n",
                ""
            ],
            "metadata": {
                "azdata_cell_guid": "5cdfa129-dcee-4c56-98ef-fa1fca9a1dd0"
            },
            "outputs": [
                {
                    "data": {
                        "text/plain": "1"
                    },
                    "metadata": {},
                    "execution_count": 78,
                    "output_type": "execute_result"
                }
            ],
            "execution_count": 78
        },
        {
            "cell_type": "code",
            "source": [
                "print('The solution is optimal and the objective value is ${:,.2f}'.format(pulp.value(model.objective)))"
            ],
            "metadata": {
                "azdata_cell_guid": "dfb21b80-21a0-4c9b-81ac-37eb58c7f3bc"
            },
            "outputs": [
                {
                    "name": "stdout",
                    "text": "The solution is optimal and the objective value is $10,183,400.00\n",
                    "output_type": "stream"
                }
            ],
            "execution_count": 80
        },
        {
            "cell_type": "code",
            "source": [
                ""
            ],
            "metadata": {
                "azdata_cell_guid": "c6bbb002-2df1-43bc-8e40-0d5ae9cde172"
            },
            "outputs": [],
            "execution_count": null
        }
    ]
}