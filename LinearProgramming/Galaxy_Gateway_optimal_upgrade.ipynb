{
    "metadata": {
        "kernelspec": {
            "name": "python3",
            "display_name": "Python 3"
        },
        "language_info": {
            "name": "python",
            "version": "3.6.6",
            "mimetype": "text/x-python",
            "codemirror_mode": {
                "name": "ipython",
                "version": 3
            },
            "pygments_lexer": "ipython3",
            "nbconvert_exporter": "python",
            "file_extension": ".py"
        }
    },
    "nbformat_minor": 2,
    "nbformat": 4,
    "cells": [
        {
            "cell_type": "markdown",
            "source": [
                "## Problem Description  \n",
                "Determine the optimal server facilities to upgrade while upgrading at least 90 servers of each server type while minimizing total upgrade cost.\n",
                "\n",
                "Data Center Variables  \n",
                "\n",
                "|Data Center |Cost ($M) |Secure Servers |Super Secure Servers |\n",
                "|------------|----------|---------------|---------------------|\n",
                "|Michigan    |$2.5 \t    |50\t            |30                   |\n",
                "|New York 1\t |$3.5 \t    |80\t            |40                   |\n",
                "|New York 2\t |$3.5      |40\t            |80                   |\n",
                "|Ohio\t     |$4.0 \t    |90\t            |60                   |\n",
                "|California\t |$2.0 \t    |20\t            |30                   |\n",
                "\n",
                "\n",
                ""
            ],
            "metadata": {
                "azdata_cell_guid": "4eb0c6f3-7c7b-47aa-b0fc-f644d849b97b"
            }
        },
        {
            "cell_type": "code",
            "source": [
                "import numpy as np \n",
                "import pandas as pd\n",
                "import pulp\n",
                ""
            ],
            "metadata": {
                "azdata_cell_guid": "33ab796a-f18f-4ec0-8eda-982250567a50"
            },
            "outputs": [],
            "execution_count": 1
        },
        {
            "cell_type": "code",
            "source": [
                "#fixed variables\n",
                "data_center = ['Michigan', 'New York 1', 'New York 2', 'Ohio', 'California']\n",
                "cost = np.array([2.5, 3.5, 3.5, 4.0, 2.0])\n",
                "secure_servers = np.array([50, 80, 40, 90, 20])\n",
                "super_secure_servers = np.array([30, 40, 80, 60, 30])\n",
                "\n",
                "min_servers = 90"
            ],
            "metadata": {
                "azdata_cell_guid": "f73011c6-20cb-40d6-9bb1-ebd26598d045"
            },
            "outputs": [],
            "execution_count": 7
        },
        {
            "cell_type": "code",
            "source": [
                "#create the model\n",
                "model = pulp.LpProblem(name='uprade_schedule', sense=pulp.LpMinimize)\n",
                "\n",
                "\n",
                "dc_variables = pulp.LpVariable.matrix('DC', data_center,\n",
                "                                             lowBound=0, cat=pulp.LpBinary)\n",
                "\n",
                "#Sum of secure servers must be at least 90\n",
                "model.addConstraint(pulp.LpConstraint(\n",
                "    e=pulp.lpSum(secure_servers*dc_variables) ,\n",
                "    sense=pulp.LpConstraintGE,\n",
                "    name='min_secure_servers',\n",
                "    rhs=min_servers))\n",
                "\n",
                "#Sum of super secure servers must be at least 90\n",
                "model.addConstraint(pulp.LpConstraint(\n",
                "    e=pulp.lpSum(super_secure_servers*dc_variables) ,\n",
                "    sense=pulp.LpConstraintGE,\n",
                "    name='min_super_secure_servers',\n",
                "    rhs=min_servers))\n",
                "\n",
                "objective = pulp.lpSum(cost*dc_variables)\n",
                "\n",
                "model.setObjective(objective)\n",
                "\n",
                "model.solve()\n",
                "\n",
                "if model.status == 1:\n",
                "    print(f'status: {model.status}, {pulp.LpStatus[model.status]}')\n",
                "    print(f'objective: ${model.objective.value():,.0f}')\n",
                "    print('Upgrade: ', end='')\n",
                "    for i,var in enumerate(dc_variables):\n",
                "        if var.value() == 1.0:\n",
                "            print(f' {data_center[i]}', end='')\n",
                "else:\n",
                "    print(f'status: {model.status}, {pulp.LpStatus[model.status]}')"
            ],
            "metadata": {
                "azdata_cell_guid": "83adfe36-342c-44a3-93ef-c203c03aa1fa"
            },
            "outputs": [
                {
                    "name": "stdout",
                    "text": "status: 1, Optimal\nobjective: $6\nUpgrade:  Michigan New York 2",
                    "output_type": "stream"
                }
            ],
            "execution_count": 27
        }
    ]
}