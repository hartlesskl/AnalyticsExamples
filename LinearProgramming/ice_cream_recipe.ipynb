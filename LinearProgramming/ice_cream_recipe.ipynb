{
    "metadata": {
        "kernelspec": {
            "name": "python3",
            "display_name": "Python 3"
        },
        "language_info": {
            "name": "python",
            "version": "3.6.6",
            "mimetype": "text/x-python",
            "codemirror_mode": {
                "name": "ipython",
                "version": 3
            },
            "pygments_lexer": "ipython3",
            "nbconvert_exporter": "python",
            "file_extension": ".py"
        }
    },
    "nbformat_minor": 2,
    "nbformat": 4,
    "cells": [
        {
            "cell_type": "code",
            "source": [
                "import numpy as np \n",
                "import pandas as pd\n",
                "import pulp\n",
                "import json"
            ],
            "metadata": {
                "azdata_cell_guid": "e51d1da3-39ac-43b0-a1b0-aeffc8102214",
                "tags": []
            },
            "outputs": [],
            "execution_count": 1
        },
        {
            "cell_type": "markdown",
            "source": [
                "### Goals: \n",
                "###        Production cost for the original recipe\n",
                "###        Production cost for recipe with fixed constituents\n",
                "###        Production cost for variable constituents"
            ],
            "metadata": {
                "azdata_cell_guid": "a43e4493-683e-41e5-b2a3-514e830471c5"
            }
        },
        {
            "cell_type": "code",
            "source": [
                "df = pd.read_excel('ice_cream_recipe.xlsx', \n",
                "                skiprows=1, \n",
                "                sheet_name=['original_recipe','constituents','constituent_limits','costs'], \n",
                "                index_col=0)\n",
                "\n",
                "#fixed variables\n",
                "weight_value = 50\n",
                "f_c = 1 #set to 1 for fixed value of constituents, 0 for variable constituents\n",
                "v_c = 0 #set to 1 for variable constituents"
            ],
            "metadata": {
                "azdata_cell_guid": "d9a1e99f-4c54-4f85-9099-0b880fd88739",
                "tags": []
            },
            "outputs": [],
            "execution_count": 151
        },
        {
            "cell_type": "code",
            "source": [
                "num_ingredients = len(df['costs'].columns)\n",
                "num_constituents = len(df['constituent_limits'].index)\n",
                "\n",
                "print(num_ingredients, num_constituents)"
            ],
            "metadata": {
                "azdata_cell_guid": "702a29aa-6ea2-4c5f-8355-b8aa01047f7f"
            },
            "outputs": [
                {
                    "name": "stdout",
                    "text": "14 7\n",
                    "output_type": "stream"
                }
            ],
            "execution_count": 148
        },
        {
            "cell_type": "code",
            "source": [
                "df['constituents'].fillna(0,inplace=True)"
            ],
            "metadata": {
                "azdata_cell_guid": "fe9dd14f-c275-4318-9d0c-fc07d0d606b0"
            },
            "outputs": [],
            "execution_count": 252
        },
        {
            "cell_type": "code",
            "source": [
                "df['constituent_limits']"
            ],
            "metadata": {
                "azdata_cell_guid": "ff1af46b-cf79-45e3-aaee-01c7b9b0f606"
            },
            "outputs": [
                {
                    "data": {
                        "text/plain": "              Minimum  Maximum  Requirement\nConstituent                                \nFat             0.150    0.170       0.1600\nSerum Solids    0.070    0.090       0.0800\nSugar Solids    0.155    0.165       0.1600\nEgg Solids      0.003    0.004       0.0035\nStabilizer      0.002    0.003       0.0025\nEmulsifier      0.001    0.002       0.0015\nWater           0.580    0.595       0.5925",
                        "text/html": "<div>\n<style scoped>\n    .dataframe tbody tr th:only-of-type {\n        vertical-align: middle;\n    }\n\n    .dataframe tbody tr th {\n        vertical-align: top;\n    }\n\n    .dataframe thead th {\n        text-align: right;\n    }\n</style>\n<table border=\"1\" class=\"dataframe\">\n  <thead>\n    <tr style=\"text-align: right;\">\n      <th></th>\n      <th>Minimum</th>\n      <th>Maximum</th>\n      <th>Requirement</th>\n    </tr>\n    <tr>\n      <th>Constituent</th>\n      <th></th>\n      <th></th>\n      <th></th>\n    </tr>\n  </thead>\n  <tbody>\n    <tr>\n      <th>Fat</th>\n      <td>0.150</td>\n      <td>0.170</td>\n      <td>0.1600</td>\n    </tr>\n    <tr>\n      <th>Serum Solids</th>\n      <td>0.070</td>\n      <td>0.090</td>\n      <td>0.0800</td>\n    </tr>\n    <tr>\n      <th>Sugar Solids</th>\n      <td>0.155</td>\n      <td>0.165</td>\n      <td>0.1600</td>\n    </tr>\n    <tr>\n      <th>Egg Solids</th>\n      <td>0.003</td>\n      <td>0.004</td>\n      <td>0.0035</td>\n    </tr>\n    <tr>\n      <th>Stabilizer</th>\n      <td>0.002</td>\n      <td>0.003</td>\n      <td>0.0025</td>\n    </tr>\n    <tr>\n      <th>Emulsifier</th>\n      <td>0.001</td>\n      <td>0.002</td>\n      <td>0.0015</td>\n    </tr>\n    <tr>\n      <th>Water</th>\n      <td>0.580</td>\n      <td>0.595</td>\n      <td>0.5925</td>\n    </tr>\n  </tbody>\n</table>\n</div>"
                    },
                    "metadata": {},
                    "execution_count": 272,
                    "output_type": "execute_result"
                }
            ],
            "execution_count": 272
        },
        {
            "cell_type": "code",
            "source": [
                "#np.array(df['original_recipe']).reshape(7,0)\n",
                "\n",
                "\n",
                "original_recipe_weight = np.array([df['original_recipe'].loc[ingredient][0] if ingredient in df['original_recipe'].index else 0 \n",
                "                            for ingredient in df['costs'].columns])\n",
                "\n",
                "(original_recipe_weight * df['constituents'].to_numpy()).sum()"
            ],
            "metadata": {
                "azdata_cell_guid": "63ffbab1-7957-440e-ae17-1af4c504ee4f"
            },
            "outputs": [
                {
                    "data": {
                        "text/plain": "49.9"
                    },
                    "metadata": {},
                    "execution_count": 205,
                    "output_type": "execute_result"
                }
            ],
            "execution_count": 205
        },
        {
            "cell_type": "code",
            "source": [
                "df['total_cost'] = {'Original Recipe': sum([df['original_recipe'].loc[i]*df['costs'][i]['cost'] for i in df['original_recipe'].index])[0]}"
            ],
            "metadata": {
                "azdata_cell_guid": "37790593-a521-40ad-b789-b1c5b6ee866e"
            },
            "outputs": [],
            "execution_count": 138
        },
        {
            "cell_type": "code",
            "source": [
                "original_recipe_cost = df['total_cost']['Original Recipe']\n",
                "print(f'Total cost for original recipe is ${original_recipe_cost:,.2f} per 50 pound batch')\n",
                ""
            ],
            "metadata": {
                "azdata_cell_guid": "999c953f-f10c-4099-9fce-f79ab10602f1"
            },
            "outputs": [
                {
                    "name": "stdout",
                    "text": "Total cost for original recipe is $28.60 per 50 pound batch\n",
                    "output_type": "stream"
                }
            ],
            "execution_count": 141
        },
        {
            "cell_type": "code",
            "source": [
                "#Create the model\n",
                "model = pulp.LpProblem(name='ice_cream_recipe', sense=pulp.LpMinimize)\n",
                "\n",
                "#Create a matrix of possible ingredients and constituents\n",
                "variable_name = [str(i) for i in range(1, num_ingredients+1)]\n",
                "\n",
                "ingredient_variables = pulp.LpVariable.matrix('I', variable_name,\n",
                "                                             lowBound=0, cat=pulp.LpContinuous)\n",
                "\n",
                "model.addConstraint(pulp.LpConstraint(\n",
                "    e=pulp.lpSum(ingredient_variables),\n",
                "    sense=pulp.LpConstraintEQ,\n",
                "    name='recipe_weight',\n",
                "    rhs=weight_value))\n",
                "\n",
                "\n",
                "for constituent in df['constituent_limits'].index:\n",
                "    model.addConstraint(pulp.LpConstraint(\n",
                "        e=pulp.lpSum((ingredient_variables* df['constituents'].loc[constituent].values)/weight_value),\n",
                "        sense=pulp.LpConstraintEQ,\n",
                "        name='proportion_' + constituent,\n",
                "        rhs=df['constituent_limits']['Requirement'].loc[constituent]))\n",
                "\n",
                "#set objective\n",
                "objective = pulp.lpSum(ingredient_variables * df['costs'].values)                               \n",
                "\n",
                "model.setObjective(objective)"
            ],
            "metadata": {
                "azdata_cell_guid": "03559415-93e1-4e32-9ebc-a8ae43e680f8"
            },
            "outputs": [],
            "execution_count": 266
        },
        {
            "cell_type": "code",
            "source": [
                "model.solve()"
            ],
            "metadata": {
                "azdata_cell_guid": "18334d0f-8b00-4010-8ee8-09ffbeb256c4"
            },
            "outputs": [
                {
                    "data": {
                        "text/plain": "1"
                    },
                    "metadata": {},
                    "execution_count": 268,
                    "output_type": "execute_result"
                }
            ],
            "execution_count": 268
        },
        {
            "cell_type": "code",
            "source": [
                "if model.status == 1:\n",
                "    print(f'status: {model.status}, {pulp.LpStatus[model.status]}')\n",
                "    print(f'objective: ${model.objective.value():,.2f}')\n",
                "    output = []\n",
                "    for i,var in enumerate(model.variables()):\n",
                "        output.append(var.value())\n",
                "\n",
                "else:\n",
                "    print(f'status: {model.status}, {pulp.LpStatus[model.status]}')"
            ],
            "metadata": {
                "azdata_cell_guid": "4140e9ea-e715-4c00-9366-27ba48924ae8"
            },
            "outputs": [
                {
                    "name": "stdout",
                    "text": "status: 1, Optimal\nobjective: $25.35\n",
                    "output_type": "stream"
                }
            ],
            "execution_count": 270
        },
        {
            "cell_type": "code",
            "source": [
                "#Create the model\n",
                "model2 = pulp.LpProblem(name='ice_cream_recipe', sense=pulp.LpMinimize)\n",
                "\n",
                "#Create a matrix of possible ingredients and constituents\n",
                "variable_name = [str(i) for i in range(1, num_ingredients+1)]\n",
                "\n",
                "ingredient_variables = pulp.LpVariable.matrix('I', variable_name,\n",
                "                                             lowBound=0, cat=pulp.LpContinuous)\n",
                "\n",
                "model2.addConstraint(pulp.LpConstraint(\n",
                "    e=pulp.lpSum(ingredient_variables),\n",
                "    sense=pulp.LpConstraintEQ,\n",
                "    name='recipe_weight',\n",
                "    rhs=weight_value))\n",
                "\n",
                "\n",
                "for constituent in df['constituent_limits'].index:\n",
                "    model2.addConstraint(pulp.LpConstraint(\n",
                "        e=pulp.lpSum((ingredient_variables* df['constituents'].loc[constituent].values)/weight_value),\n",
                "        sense=pulp.LpConstraintGE,\n",
                "        name='low_proportion_' + constituent,\n",
                "        rhs=df['constituent_limits']['Minimum'].loc[constituent]))\n",
                "\n",
                "for constituent in df['constituent_limits'].index:\n",
                "    model2.addConstraint(pulp.LpConstraint(\n",
                "        e=pulp.lpSum((ingredient_variables* df['constituents'].loc[constituent].values)/weight_value),\n",
                "        sense=pulp.LpConstraintLE,\n",
                "        name='high_proportion_' + constituent,\n",
                "        rhs=df['constituent_limits']['Maximum'].loc[constituent]))\n",
                "\n",
                "#set objective\n",
                "objective2 = pulp.lpSum(ingredient_variables * df['costs'].values)                               \n",
                "\n",
                "model2.setObjective(objective2)"
            ],
            "metadata": {
                "azdata_cell_guid": "461d2751-8202-4e60-8f42-939f6ec9476b"
            },
            "outputs": [],
            "execution_count": 288
        },
        {
            "cell_type": "code",
            "source": [
                "model2"
            ],
            "metadata": {
                "azdata_cell_guid": "c1a0d5b7-2ed9-4050-8417-9f144c42c645"
            },
            "outputs": [
                {
                    "data": {
                        "text/plain": "ice_cream_recipe:\nMINIMIZE\n1.19*I_1 + 1.75*I_10 + 4.45*I_11 + 2.45*I_12 + 1.65*I_13 + 0.01*I_14 + 0.7*I_2 + 2.32*I_3 + 2.3*I_4 + 2.87*I_5 + 0.25*I_6 + 0.35*I_7 + 0.65*I_8 + 0.25*I_9 + 0.0\nSUBJECT TO\nrecipe_weight: I_1 + I_10 + I_11 + I_12 + I_13 + I_14 + I_2 + I_3 + I_4 + I_5\n + I_6 + I_7 + I_8 + I_9 = 50\n\nlow_proportion_Fat: 0.008 I_1 + 0.01 I_10 + 0.01 I_11 + 0.004 I_2 + 0.016 I_3\n + 0.016 I_4 + 0.018 I_5 + 0.002 I_6 >= 0.15\n\nlow_proportion_Serum_Solids: 0.002 I_1 + 0.002 I_4 + 0.002 I_6 + 0.006 I_7\n + 0.02 I_8 >= 0.07\n\nlow_proportion_Sugar_Solids: 0.002 I_10 + 0.014 I_9 >= 0.155\n\nlow_proportion_Egg_Solids: 0.008 I_10 + 0.01 I_11 >= 0.003\n\nlow_proportion_Stabilizer: 0.02 I_12 >= 0.002\n\nlow_proportion_Emulsifier: 0.02 I_13 >= 0.001\n\nlow_proportion_Water: 0.01 I_1 + 0.02 I_14 + 0.016 I_2 + 0.004 I_3 + 0.002 I_4\n + 0.002 I_5 + 0.016 I_6 + 0.014 I_7 + 0.006 I_9 >= 0.58\n\nhigh_proportion_Fat: 0.008 I_1 + 0.01 I_10 + 0.01 I_11 + 0.004 I_2 + 0.016 I_3\n + 0.016 I_4 + 0.018 I_5 + 0.002 I_6 <= 0.17\n\nhigh_proportion_Serum_Solids: 0.002 I_1 + 0.002 I_4 + 0.002 I_6 + 0.006 I_7\n + 0.02 I_8 <= 0.09\n\nhigh_proportion_Sugar_Solids: 0.002 I_10 + 0.014 I_9 <= 0.165\n\nhigh_proportion_Egg_Solids: 0.008 I_10 + 0.01 I_11 <= 0.004\n\nhigh_proportion_Stabilizer: 0.02 I_12 <= 0.003\n\nhigh_proportion_Emulsifier: 0.02 I_13 <= 0.002\n\nhigh_proportion_Water: 0.01 I_1 + 0.02 I_14 + 0.016 I_2 + 0.004 I_3\n + 0.002 I_4 + 0.002 I_5 + 0.016 I_6 + 0.014 I_7 + 0.006 I_9 <= 0.595\n\nVARIABLES\nI_1 Continuous\nI_10 Continuous\nI_11 Continuous\nI_12 Continuous\nI_13 Continuous\nI_14 Continuous\nI_2 Continuous\nI_3 Continuous\nI_4 Continuous\nI_5 Continuous\nI_6 Continuous\nI_7 Continuous\nI_8 Continuous\nI_9 Continuous"
                    },
                    "metadata": {},
                    "execution_count": 289,
                    "output_type": "execute_result"
                }
            ],
            "execution_count": 289
        },
        {
            "cell_type": "code",
            "source": [
                "model2.solve()\n",
                "\n",
                "if model2.status == 1:\n",
                "    print(f'status: {model2.status}, {pulp.LpStatus[model2.status]}')\n",
                "    print(f'objective: ${model2.objective.value():,.2f}')\n",
                "    output = []\n",
                "    for i,var in enumerate(model2.variables()):\n",
                "        output.append(var.value())\n",
                "\n",
                "else:\n",
                "    print(f'status: {model2.status}, {pulp.LpStatus[model2.status]}')"
            ],
            "metadata": {
                "azdata_cell_guid": "f94bcbd0-7cc7-487f-a7c0-abb87afa302a"
            },
            "outputs": [
                {
                    "name": "stdout",
                    "text": "status: 1, Optimal\nobjective: $24.04\n",
                    "output_type": "stream"
                }
            ],
            "execution_count": 290
        }
    ]
}