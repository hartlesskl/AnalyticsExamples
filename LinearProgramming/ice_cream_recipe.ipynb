{
    "metadata": {
        "kernelspec": {
            "name": "python3",
            "display_name": "Python 3"
        },
        "language_info": {
            "name": "python",
            "version": "3.6.6",
            "mimetype": "text/x-python",
            "codemirror_mode": {
                "name": "ipython",
                "version": 3
            },
            "pygments_lexer": "ipython3",
            "nbconvert_exporter": "python",
            "file_extension": ".py"
        }
    },
    "nbformat_minor": 2,
    "nbformat": 4,
    "cells": [
        {
            "cell_type": "code",
            "source": [
                "import numpy as np \n",
                "import pandas as pd\n",
                "import pulp\n",
                "import json"
            ],
            "metadata": {
                "azdata_cell_guid": "e51d1da3-39ac-43b0-a1b0-aeffc8102214",
                "tags": []
            },
            "outputs": [],
            "execution_count": 1
        },
        {
            "cell_type": "markdown",
            "source": [
                "### Goals: \n",
                "###        Production cost for the original recipe\n",
                "###        - cost * weight \n",
                "###        Production cost for recipe with fixed constituents\n",
                "###        - cost * weight_variable\n",
                "###        - sum(constituent) = constituent_limits.Requirement\n",
                "###        - sum(weight_variable) = 50\n",
                "###        Production cost for variable constituents\n",
                "###        - cost * weight_variable\n",
                "###        - sum(constituent) >= constituent_limits.Minimum\n",
                "###        - sum(constituent) <= constituent_limits.Maximum\n",
                "###        - sum(weight_variable) = 50"
            ],
            "metadata": {
                "azdata_cell_guid": "a43e4493-683e-41e5-b2a3-514e830471c5"
            }
        },
        {
            "cell_type": "code",
            "source": [
                "df = pd.read_excel('ice_cream_recipe.xlsx', \n",
                "                skiprows=1, \n",
                "                sheet_name=['original_recipe','constituents','constituent_limits','costs'], \n",
                "                index_col=0)\n",
                "\n",
                "#fill missing values in the constituents table with zeros\n",
                "df['constituents'].fillna(0,inplace=True)\n",
                "\n",
                "#fixed variables\n",
                "weight_value = 50\n",
                "f_c = 1 #set to 1 for fixed value of constituents, 0 for variable constituents\n",
                "v_c = 0 #set to 1 for variable constituents\n",
                "\n",
                "num_ingredients = len(df['costs'].columns)\n",
                "num_constituents = len(df['constituent_limits'].index)\n",
                "\n",
                "print(num_ingredients, num_constituents)"
            ],
            "metadata": {
                "azdata_cell_guid": "d9a1e99f-4c54-4f85-9099-0b880fd88739",
                "tags": []
            },
            "outputs": [
                {
                    "name": "stdout",
                    "text": "14 7\n",
                    "output_type": "stream"
                }
            ],
            "execution_count": 2
        },
        {
            "cell_type": "code",
            "source": [
                "df['total_cost'] = {'Original Recipe': sum([df['original_recipe'].loc[i]*df['costs'][i]['cost'] for i in df['original_recipe'].index])[0]}\n",
                "\n",
                "original_recipe_cost = df['total_cost']['Original Recipe']\n",
                "print(f'Total cost for original recipe is ${original_recipe_cost:,.2f} per 50 pound batch')"
            ],
            "metadata": {
                "azdata_cell_guid": "37790593-a521-40ad-b789-b1c5b6ee866e"
            },
            "outputs": [
                {
                    "name": "stdout",
                    "text": "Total cost for original recipe is $28.60 per 50 pound batch\n",
                    "output_type": "stream"
                }
            ],
            "execution_count": 3
        },
        {
            "cell_type": "code",
            "source": [
                "#Create the model\n",
                "model = pulp.LpProblem(name='ice_cream_recipe', sense=pulp.LpMinimize)\n",
                "\n",
                "#Create a matrix of possible ingredients and constituents\n",
                "variable_name = [str(i) for i in range(1, num_ingredients+1)]\n",
                "\n",
                "ingredient_variables = pulp.LpVariable.matrix('I', variable_name,\n",
                "                                             lowBound=0, cat=pulp.LpContinuous)\n",
                "\n",
                "model.addConstraint(pulp.LpConstraint(\n",
                "    e=pulp.lpSum(ingredient_variables),\n",
                "    sense=pulp.LpConstraintEQ,\n",
                "    name='recipe_weight',\n",
                "    rhs=weight_value))\n",
                "\n",
                "\n",
                "for constituent in df['constituent_limits'].index:\n",
                "    model.addConstraint(pulp.LpConstraint(\n",
                "        e=pulp.lpSum((ingredient_variables* df['constituents'].loc[constituent].values)/weight_value),\n",
                "        sense=pulp.LpConstraintEQ,\n",
                "        name='proportion_' + constituent,\n",
                "        rhs=df['constituent_limits']['Requirement'].loc[constituent]))\n",
                "\n",
                "#set objective\n",
                "objective = pulp.lpSum(ingredient_variables * df['costs'].values)                               \n",
                "\n",
                "model.setObjective(objective)\n",
                "\n",
                "model.solve()\n",
                "\n",
                "if model.status == 1:\n",
                "    print(f'status: {model.status}, {pulp.LpStatus[model.status]}')\n",
                "    df['total_cost'] = {'Fixed Constituent Recipe': model.objective.value()}\n",
                "    print(f'Total cost for fixed constituent recipe is {model.objective.value():,.2f} per 50 pound batch')\n",
                "\n",
                "else:\n",
                "    print(f'status: {model.status}, {pulp.LpStatus[model.status]}')"
            ],
            "metadata": {
                "azdata_cell_guid": "03559415-93e1-4e32-9ebc-a8ae43e680f8"
            },
            "outputs": [
                {
                    "name": "stdout",
                    "text": "status: 1, Optimal\nTotal cost for fixed constituent recipe is 25.35 per 50 pound batch\n",
                    "output_type": "stream"
                }
            ],
            "execution_count": 4
        },
        {
            "cell_type": "code",
            "source": [
                "#Create the variable constituent model\n",
                "model2 = pulp.LpProblem(name='ice_cream_recipe', sense=pulp.LpMinimize)\n",
                "\n",
                "#Create a matrix of possible ingredients and constituents\n",
                "variable_name = [str(i) for i in range(1, num_ingredients+1)]\n",
                "\n",
                "ingredient_variables = pulp.LpVariable.matrix('I', variable_name,\n",
                "                                             lowBound=0, cat=pulp.LpContinuous)\n",
                "\n",
                "model2.addConstraint(pulp.LpConstraint(\n",
                "    e=pulp.lpSum(ingredient_variables),\n",
                "    sense=pulp.LpConstraintEQ,\n",
                "    name='recipe_weight',\n",
                "    rhs=weight_value))\n",
                "\n",
                "\n",
                "for constituent in df['constituent_limits'].index:\n",
                "    model2.addConstraint(pulp.LpConstraint(\n",
                "        e=pulp.lpSum((ingredient_variables* df['constituents'].loc[constituent].values)/weight_value),\n",
                "        sense=pulp.LpConstraintGE,\n",
                "        name='low_proportion_' + constituent,\n",
                "        rhs=df['constituent_limits']['Minimum'].loc[constituent]))\n",
                "\n",
                "for constituent in df['constituent_limits'].index:\n",
                "    model2.addConstraint(pulp.LpConstraint(\n",
                "        e=pulp.lpSum((ingredient_variables* df['constituents'].loc[constituent].values)/weight_value),\n",
                "        sense=pulp.LpConstraintLE,\n",
                "        name='high_proportion_' + constituent,\n",
                "        rhs=df['constituent_limits']['Maximum'].loc[constituent]))\n",
                "\n",
                "#set objective\n",
                "objective2 = pulp.lpSum(ingredient_variables * df['costs'].values)                               \n",
                "\n",
                "model2.setObjective(objective2)\n",
                "\n",
                "model2.solve()\n",
                "\n",
                "if model2.status == 1:\n",
                "    print(f'status: {model2.status}, {pulp.LpStatus[model2.status]}')\n",
                "    df['total_cost'] = {'Fixed Constituent Recipe': model2.objective.value()}\n",
                "    print(f'Total cost for the variable constituent recipe is {model2.objective.value():,.2f} per 50 pound batch')\n",
                "\n",
                "else:\n",
                "    print(f'status: {model2.status}, {pulp.LpStatus[model2.status]}')"
            ],
            "metadata": {
                "azdata_cell_guid": "461d2751-8202-4e60-8f42-939f6ec9476b"
            },
            "outputs": [
                {
                    "name": "stdout",
                    "text": "status: 1, Optimal\nTotal cost for the variable constituent recipe is 24.04 per 50 pound batch\n",
                    "output_type": "stream"
                }
            ],
            "execution_count": 5
        },
        {
            "cell_type": "code",
            "source": [
                "model"
            ],
            "metadata": {
                "azdata_cell_guid": "a256e55e-104b-4c3f-bde1-ccba2a56d496"
            },
            "outputs": [
                {
                    "data": {
                        "text/plain": "ice_cream_recipe:\nMINIMIZE\n1.19*I_1 + 1.75*I_10 + 4.45*I_11 + 2.45*I_12 + 1.65*I_13 + 0.01*I_14 + 0.7*I_2 + 2.32*I_3 + 2.3*I_4 + 2.87*I_5 + 0.25*I_6 + 0.35*I_7 + 0.65*I_8 + 0.25*I_9 + 0.0\nSUBJECT TO\nrecipe_weight: I_1 + I_10 + I_11 + I_12 + I_13 + I_14 + I_2 + I_3 + I_4 + I_5\n + I_6 + I_7 + I_8 + I_9 = 50\n\nproportion_Fat: 0.008 I_1 + 0.01 I_10 + 0.01 I_11 + 0.004 I_2 + 0.016 I_3\n + 0.016 I_4 + 0.018 I_5 + 0.002 I_6 = 0.16\n\nproportion_Serum_Solids: 0.002 I_1 + 0.002 I_4 + 0.002 I_6 + 0.006 I_7\n + 0.02 I_8 = 0.08\n\nproportion_Sugar_Solids: 0.002 I_10 + 0.014 I_9 = 0.16\n\nproportion_Egg_Solids: 0.008 I_10 + 0.01 I_11 = 0.0035\n\nproportion_Stabilizer: 0.02 I_12 = 0.0025\n\nproportion_Emulsifier: 0.02 I_13 = 0.0015\n\nproportion_Water: 0.01 I_1 + 0.02 I_14 + 0.016 I_2 + 0.004 I_3 + 0.002 I_4\n + 0.002 I_5 + 0.016 I_6 + 0.014 I_7 + 0.006 I_9 = 0.5925\n\nVARIABLES\nI_1 Continuous\nI_10 Continuous\nI_11 Continuous\nI_12 Continuous\nI_13 Continuous\nI_14 Continuous\nI_2 Continuous\nI_3 Continuous\nI_4 Continuous\nI_5 Continuous\nI_6 Continuous\nI_7 Continuous\nI_8 Continuous\nI_9 Continuous"
                    },
                    "metadata": {},
                    "execution_count": 6,
                    "output_type": "execute_result"
                }
            ],
            "execution_count": 6
        }
    ]
}