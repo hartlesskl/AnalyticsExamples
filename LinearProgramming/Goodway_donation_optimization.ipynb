{
    "metadata": {
        "kernelspec": {
            "name": "python3",
            "display_name": "Python 3"
        },
        "language_info": {
            "name": "python",
            "version": "3.6.6",
            "mimetype": "text/x-python",
            "codemirror_mode": {
                "name": "ipython",
                "version": 3
            },
            "pygments_lexer": "ipython3",
            "nbconvert_exporter": "python",
            "file_extension": ".py"
        }
    },
    "nbformat_minor": 2,
    "nbformat": 4,
    "cells": [
        {
            "cell_type": "markdown",
            "source": [
                "## Problem Description\n",
                "Determine the optimal volunteer and donation combination to maximize total probable donations. Every volunteer is assigned between 1-2 donors, except for George who will only be assigned 1 donor due to his seniority. Every donor must be assigned exactly volunteer.\n",
                "\n",
                "Estimated Donation\n",
                "\n",
                "|Donor 1       |Donor 2       |Donor 3     |Donor 4       |Donor 5    |Donor 6       |\n",
                "|--------------|--------------|------------|--------------|------------|-------------|\n",
                "|$2,000,000.00 |$1,200,000.00 |$800,000.00 |$1,550,000.00 |$3,200,000  |$1,800,000.00 |\n",
                "\n",
                "Probability of donation table\n",
                "\n",
                "|\t    |Donor 1 |Donor 2 |Donor 3 |Donor 4 |Donor 5 |Donor 6 |\n",
                "|-------|--------|--------|--------|--------|--------|--------|\n",
                "|George |0.95    |0.9     |0.9     |0.78    |0.78    |0.81    |\n",
                "|Sarah  |0.89    |0.93    |0.85    |0.82    |0.62    |0.85    |\n",
                "|Libby\t|0.85    |0.91    |0.83    |0.8     |0.5\t |0.83    |\n",
                "|Eric\t|0.75    |0.87    |0.68    |0.65    |0.45\t |0.65    |\n",
                "\n",
                ""
            ],
            "metadata": {
                "azdata_cell_guid": "7756d85b-d943-4565-a8d7-8a2072c8ece1"
            }
        },
        {
            "cell_type": "code",
            "source": [
                "import numpy as np \n",
                "import pandas as pd\n",
                "import pulp"
            ],
            "metadata": {
                "azdata_cell_guid": "42283702-98c1-4527-909b-c9122b69c8d4"
            },
            "outputs": [],
            "execution_count": 1
        },
        {
            "cell_type": "code",
            "source": [
                "donors = ['Donor 1', 'Donor 2', 'Donor 3', 'Donor 4', 'Donor 5', 'Donor 6']\n",
                "volunteers = ['George', 'Sarah', 'Libby', 'Eric']\n",
                "\n",
                "donation_amt = [2000000., 1200000., 800000., 1550000., 3200000., 1800000.]\n",
                "\n",
                "probabilities = np.array([[0.95,0.9,0.9,0.78,0.78,0.81],\n",
                "                [0.89,0.93,0.85,0.82,0.62,0.85],\n",
                "                [0.85,0.91,0.83,0.8,0.5,0.83],\n",
                "                [0.75,0.87,0.68,0.65,0.45,0.65]])\n",
                "\n",
                "donation_prob = pd.DataFrame(probabilities, columns=donors, index=volunteers)\n",
                "\n",
                "n_donors = len(donors)\n",
                "n_volunteers = len(volunteers)\n",
                "\n",
                "num_donations = 1\n",
                "min_volunteers = 1\n",
                "max_volunteers = 2"
            ],
            "metadata": {
                "azdata_cell_guid": "fa909f48-578b-419c-b796-f5f80a40dd6d"
            },
            "outputs": [],
            "execution_count": 44
        },
        {
            "cell_type": "code",
            "source": [
                "#Create the model\n",
                "model = pulp.LpProblem(name='goodway_donation_planning', sense=pulp.LpMaximize)\n",
                "\n",
                "p_vars = [str(i)+str(j) for i in range(1, n_volunteers+1) for j in range(1, n_donors+1)]\n",
                "\n",
                "probability_variables = pulp.LpVariable.matrix('P', p_vars,\n",
                "                                             lowBound=0, cat=pulp.LpBinary)\n",
                "\n",
                "probs = np.array(probability_variables).reshape(n_volunteers, n_donors)\n",
                "\n",
                "#The sum of each donor must equal 1\n",
                "for index, donor in enumerate(donors):\n",
                "    model.addConstraint(pulp.LpConstraint(\n",
                "        e=pulp.lpSum(probs[:,index]),\n",
                "        sense=pulp.LpConstraintEQ,\n",
                "        name='donor_min_' + donor,\n",
                "        rhs=1))\n",
                "\n",
                "#The sum of each volunteer must be between 1 and 2 except for George\n",
                "for index, vol in enumerate(volunteers):\n",
                "    if vol == 'George':   \n",
                "        model.addConstraint(pulp.LpConstraint(\n",
                "            e=pulp.lpSum(probs[index,:]),\n",
                "            sense=pulp.LpConstraintEQ,\n",
                "            name='volunteer_min_' + vol,\n",
                "            rhs=1))\n",
                "    else:\n",
                "        model.addConstraint(pulp.LpConstraint(\n",
                "            e=pulp.lpSum(probs[index,:]),\n",
                "            sense=pulp.LpConstraintGE,\n",
                "            name='volunteer_min_' + vol,\n",
                "            rhs=1))\n",
                "        model.addConstraint(pulp.LpConstraint(\n",
                "            e=pulp.lpSum(probs[index,:]),\n",
                "            sense=pulp.LpConstraintLE,\n",
                "            name='volunteer_max_' + vol,\n",
                "            rhs=2))\n",
                "\n",
                "objective = pulp.lpSum([probs[i,j]*probabilities[i,j]*donation_amt[j]for i in range(n_volunteers) for j in range(n_donors)])\n",
                "\n",
                "model.setObjective(objective)\n",
                "\n",
                "model.solve()\n",
                "\n",
                "if model.status == 1:\n",
                "    print(f'status: {model.status}, {pulp.LpStatus[model.status]}')\n",
                "    print(f'objective: ${model.objective.value():,.0f}')\n",
                "    output = []\n",
                "    for i,var in enumerate(model.variables()):\n",
                "        output.append(var.value())\n",
                "    output = np.array(output).reshape(n_volunteers, n_donors)\n",
                "\n",
                "    print(pd.DataFrame(output, columns=donors, index=volunteers))\n",
                "else:\n",
                "    print(f'status: {model.status}, {pulp.LpStatus[model.status]}')"
            ],
            "metadata": {
                "azdata_cell_guid": "455a8e9d-43c8-4c39-b3f9-e6dbe6aeaa7e"
            },
            "outputs": [
                {
                    "name": "stdout",
                    "text": "status: 1, Optimal\nobjective: $8,754,000\n        Donor 1  Donor 2  Donor 3  Donor 4  Donor 5  Donor 6\nGeorge      0.0      0.0      0.0      0.0      1.0      0.0\nSarah       1.0      0.0      0.0      0.0      0.0      1.0\nLibby       0.0      0.0      1.0      1.0      0.0      0.0\nEric        0.0      1.0      0.0      0.0      0.0      0.0\n",
                    "output_type": "stream"
                }
            ],
            "execution_count": 85
        },
        {
            "cell_type": "code",
            "source": [
                "model"
            ],
            "metadata": {
                "azdata_cell_guid": "abc40884-83de-4cd2-9dd6-c686c272f131"
            },
            "outputs": [
                {
                    "data": {
                        "text/plain": "goodway_donation_planning:\nMAXIMIZE\n1900000.0*P_11 + 1080000.0*P_12 + 720000.0*P_13 + 1209000.0*P_14 + 2496000.0*P_15 + 1458000.0*P_16 + 1780000.0*P_21 + 1116000.0*P_22 + 680000.0*P_23 + 1271000.0*P_24 + 1984000.0*P_25 + 1530000.0*P_26 + 1700000.0*P_31 + 1092000.0*P_32 + 664000.0*P_33 + 1240000.0*P_34 + 1600000.0*P_35 + 1494000.0*P_36 + 1500000.0*P_41 + 1044000.0*P_42 + 544000.0*P_43 + 1007500.0*P_44 + 1440000.0*P_45 + 1170000.0*P_46 + 0.0\nSUBJECT TO\ndonor_min_Donor_1: P_11 + P_21 + P_31 + P_41 = 1\n\ndonor_min_Donor_2: P_12 + P_22 + P_32 + P_42 = 1\n\ndonor_min_Donor_3: P_13 + P_23 + P_33 + P_43 = 1\n\ndonor_min_Donor_4: P_14 + P_24 + P_34 + P_44 = 1\n\ndonor_min_Donor_5: P_15 + P_25 + P_35 + P_45 = 1\n\ndonor_min_Donor_6: P_16 + P_26 + P_36 + P_46 = 1\n\nvolunteer_min_George: P_11 + P_12 + P_13 + P_14 + P_15 + P_16 = 1\n\nvolunteer_min_Sarah: P_21 + P_22 + P_23 + P_24 + P_25 + P_26 >= 1\n\nvolunteer_max_Sarah: P_21 + P_22 + P_23 + P_24 + P_25 + P_26 <= 2\n\nvolunteer_min_Libby: P_31 + P_32 + P_33 + P_34 + P_35 + P_36 >= 1\n\nvolunteer_max_Libby: P_31 + P_32 + P_33 + P_34 + P_35 + P_36 <= 2\n\nvolunteer_min_Eric: P_41 + P_42 + P_43 + P_44 + P_45 + P_46 >= 1\n\nvolunteer_max_Eric: P_41 + P_42 + P_43 + P_44 + P_45 + P_46 <= 2\n\nVARIABLES\n0 <= P_11 <= 1 Integer\n0 <= P_12 <= 1 Integer\n0 <= P_13 <= 1 Integer\n0 <= P_14 <= 1 Integer\n0 <= P_15 <= 1 Integer\n0 <= P_16 <= 1 Integer\n0 <= P_21 <= 1 Integer\n0 <= P_22 <= 1 Integer\n0 <= P_23 <= 1 Integer\n0 <= P_24 <= 1 Integer\n0 <= P_25 <= 1 Integer\n0 <= P_26 <= 1 Integer\n0 <= P_31 <= 1 Integer\n0 <= P_32 <= 1 Integer\n0 <= P_33 <= 1 Integer\n0 <= P_34 <= 1 Integer\n0 <= P_35 <= 1 Integer\n0 <= P_36 <= 1 Integer\n0 <= P_41 <= 1 Integer\n0 <= P_42 <= 1 Integer\n0 <= P_43 <= 1 Integer\n0 <= P_44 <= 1 Integer\n0 <= P_45 <= 1 Integer\n0 <= P_46 <= 1 Integer"
                    },
                    "metadata": {},
                    "execution_count": 86,
                    "output_type": "execute_result"
                }
            ],
            "execution_count": 86
        }
    ]
}