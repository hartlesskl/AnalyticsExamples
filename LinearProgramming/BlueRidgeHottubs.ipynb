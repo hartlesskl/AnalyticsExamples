{
    "metadata": {
        "kernelspec": {
            "name": "python3",
            "display_name": "Python 3"
        },
        "language_info": {
            "name": "python",
            "version": "3.6.6",
            "mimetype": "text/x-python",
            "codemirror_mode": {
                "name": "ipython",
                "version": 3
            },
            "pygments_lexer": "ipython3",
            "nbconvert_exporter": "python",
            "file_extension": ".py"
        }
    },
    "nbformat_minor": 2,
    "nbformat": 4,
    "cells": [
        {
            "cell_type": "code",
            "source": [
                "import numpy as np \n",
                "from scipy.optimize import linprog\n",
                "from cvxopt import matrix\n",
                "from cvxopt import glpk"
            ],
            "metadata": {
                "azdata_cell_guid": "e97d7353-5ff1-46b3-8be3-b62d43eabb52"
            },
            "outputs": [],
            "execution_count": 1
        },
        {
            "cell_type": "code",
            "source": [
                "var_list = ['Aqua-Spas','Hydro-Luxes']\n",
                "\n",
                "# equations to solve\n",
                "# a + h <= 200\n",
                "# 9a + 6h <= 1566\n",
                "# 12a + 16h <= 2880\n",
                "# a >= 0 non-negativity bound for Aqua-Spas\n",
                "# h >= 0 non-negativity bound for Hydro-Luxes\n",
                "\n",
                "# Inequality equations, LHS\n",
                "A_ineq = [[1., 1.], [9., 6.], [12., 16.]]\n",
                "\n",
                "# Inequality equations, RHS\n",
                "B_ineq = [200., 1566., 2880.]\n",
                "\n",
                "a_b = [0., None] # limits for Aqua-Spas\n",
                "h_b = [0., None] # limits for Hydro-Luxes\n",
                "\n",
                "\n",
                "# Cost function\n",
                "c = [-1., -1.]\n",
                "\n",
                "res_bounds = linprog(c, A_ub=A_ineq, b_ub=B_ineq, bounds=(a_b, h_b), method='simplex')\n",
                "\n",
                "print('\\nWITH BOUNDS')\n",
                "print(res_bounds)"
            ],
            "metadata": {
                "azdata_cell_guid": "4ad12018-2aec-4977-ac01-379dee4ba206",
                "tags": []
            },
            "outputs": [
                {
                    "output_type": "stream",
                    "name": "stdout",
                    "text": "\nWITH BOUNDS\n     con: array([], dtype=float64)\n     fun: -200.0\n message: 'Optimization terminated successfully.'\n     nit: 3\n   slack: array([  0., 126.,   0.])\n  status: 0\n success: True\n       x: array([ 80., 120.])\n"
                }
            ],
            "execution_count": 3
        },
        {
            "cell_type": "code",
            "source": [
                "# check assumptions\n",
                "a, h = res_bounds.x\n",
                "\n",
                "if a + h <= 200:\n",
                "    print('Constraint (a + h <= 200) = True')\n",
                "if 9*a + 6*h <= 1566:\n",
                "    print('Constraint (9a + 6h <= 1566) = True')\n",
                "if 12*a + 16*h <=2880:\n",
                "    print ('Constraint (12a + 16h <= 2880) = True')    "
            ],
            "metadata": {
                "azdata_cell_guid": "f48804db-c434-47fa-9222-6501424b9931"
            },
            "outputs": [
                {
                    "output_type": "stream",
                    "name": "stdout",
                    "text": "Constraint (a + h <= 200) = True\nConstraint (9a + 6h <= 1566) = True\nConstraint (12a + 16h <= 2880) = True\n"
                }
            ],
            "execution_count": 7
        },
        {
            "cell_type": "code",
            "source": [
                "#using CVXOPT\n",
                "# formulate problem in terms of GLPK/cvxopt\n",
                "A = matrix([[1., 9., 12.],[1., 6., 16.]])\n",
                "b = matrix([200., 1566., 2880.])\n",
                "c = matrix([-1.,-1.])\n",
                "\n",
                "# solve the problem\n",
                "status, solution = glpk.ilp(c,A,b)\n",
                "\n",
                "if status=='optimal':\n",
                "    print('solution found')\n",
                "    print(solution)\n",
                "else: \n",
                "    print(status)"
            ],
            "metadata": {
                "azdata_cell_guid": "626df5e0-d79b-4169-8bfd-1cdaa63e7c3b"
            },
            "outputs": [
                {
                    "output_type": "stream",
                    "name": "stdout",
                    "text": "solution found\n[ 1.22e+02]\n[ 7.80e+01]\n\n"
                }
            ],
            "execution_count": 13
        }
    ]
}