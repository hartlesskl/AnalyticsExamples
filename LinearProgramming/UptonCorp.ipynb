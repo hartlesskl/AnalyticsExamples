{
    "metadata": {
        "kernelspec": {
            "name": "python3",
            "display_name": "Python 3"
        },
        "language_info": {
            "name": "python",
            "version": "3.6.6",
            "mimetype": "text/x-python",
            "codemirror_mode": {
                "name": "ipython",
                "version": 3
            },
            "pygments_lexer": "ipython3",
            "nbconvert_exporter": "python",
            "file_extension": ".py"
        }
    },
    "nbformat_minor": 2,
    "nbformat": 4,
    "cells": [
        {
            "cell_type": "code",
            "source": [
                "import numpy as np \n",
                "import pandas as pd \n",
                "from pulp import LpMinimize, LpProblem, LpStatus, lpSum, LpVariable\n",
                "from pulp import GLPK"
            ],
            "metadata": {
                "azdata_cell_guid": "ac6cc909-a903-42a1-aae0-3aa55873ed3f",
                "tags": []
            },
            "outputs": [],
            "execution_count": 17
        },
        {
            "cell_type": "markdown",
            "source": [
                "### Minimize the total cost of production over the 6 month time span where total cost of production is equal to:\n",
                "### sum(Units Produced * Unit Production Cost) + sum(Holding Cost * Unit Production Cost * Average Inventory)"
            ],
            "metadata": {
                "azdata_cell_guid": "661302c2-65fd-486f-beb8-93eb42da5809"
            }
        },
        {
            "cell_type": "code",
            "source": [
                "huge_number = float(\"inf\")\n",
                "\n",
                "months = 6\n",
                "start_inventory = 2750\n",
                "inventory_capacity = 6000\n",
                "safety_stock = 1500\n",
                "production_capacity_max = np.array([4000, 3500, 4000, 4500, 4000, 3500])\n",
                "production_capacity_min = np.array([2000, 1750, 2000, 2250, 2000, 1750])\n",
                "\n",
                "#setup_cost = 3.\n",
                "unit_production_cost = np.array([240, 250, 265, 285, 280, 260])\n",
                "holding_cost = 0.015\n",
                "\n",
                "demand = np.array([1000, 4500, 6000, 5500, 3500, 4000])"
            ],
            "metadata": {
                "azdata_cell_guid": "d8ae7ba7-b476-40e7-ab1d-75e1de50756b",
                "tags": []
            },
            "outputs": [],
            "execution_count": 224
        },
        {
            "cell_type": "code",
            "source": [
                "\n",
                "start_values = []\n",
                "final_production_cost = huge_number\n",
                "for m in range(months): #Iterate over each month in the production plan\n",
                "    for i in range(production_capacity_min[m], production_capacity_max[m]+1): \n",
                "        #iterate over possible production values between minimum production and max production\n",
                "        units_produced = production_capacity_max.copy() #set the starting production values to the maximum values\n",
                "        units_produced[m] = i #replace the production value with the value for the month being evaluated\n",
                "        initial_inventory = [start_inventory]\n",
                "        #calculate the final ending inventory with the given values\n",
                "        final_ending_inventory = sum(units_produced) \\\n",
                "                                + start_inventory \\\n",
                "                                - sum(demand)\n",
                "\n",
                "        #if the final ending inventory meets the minimum safety stock value then determine the total cost\n",
                "        if final_ending_inventory >= safety_stock:\n",
                "            ending_inventory = []\n",
                "            average_inventory = []\n",
                "            for k in range(stages):\n",
                "                #determine the inventory values for each month\n",
                "                ending_inventory.append(initial_inventory[k]+units_produced[k]-demand[k])\n",
                "                average_inventory.append((initial_inventory[k]+ending_inventory[k])/2)\n",
                "                if k< stages-1:\n",
                "                    initial_inventory.append(ending_inventory[k])\n",
                "            production_cost = units_produced * unit_production_cost + (holding_cost*unit_production_cost*average_inventory)\n",
                "            #if the production cost is less than any previous production cost, then record the value as the lowest cost\n",
                "            if sum(production_cost) < final_production_cost:\n",
                "                final_production_cost = sum(production_cost)\n",
                "                start_values = ([units_produced, final_production_cost])\n",
                "\n",
                ""
            ],
            "metadata": {
                "azdata_cell_guid": "8a455d30-b8cc-4916-ba0e-15f92d0d67ec",
                "tags": []
            },
            "outputs": [],
            "execution_count": 225
        },
        {
            "cell_type": "code",
            "source": [
                "print(f'Initial Inventory Values: {start_values[0]}')\n",
                "print(f'Total Cost: ${start_values[1]:,.0f}')\n",
                ""
            ],
            "metadata": {
                "azdata_cell_guid": "48bfb5df-5d81-4d42-8f7b-aae7c7d6abf4",
                "tags": [
                    "hide_input"
                ]
            },
            "outputs": [],
            "execution_count": null
        },
        {
            "cell_type": "code",
            "source": [
                "production_constraints = pd.read_excel('/Volumes/Elements/khartless/Projects/Data/Upton.xlsx',\n",
                "                        sheet_name = 'Production',\n",
                "                        index_col = [0])\n",
                "\n",
                ""
            ],
            "metadata": {
                "azdata_cell_guid": "30560130-5829-4fe8-8f7f-317d41cdaecf"
            },
            "outputs": [],
            "execution_count": 19
        },
        {
            "cell_type": "code",
            "source": [
                "safety_stock = 1500\n",
                "unit_carrying_cost = .015\n",
                "warehouse_capacity = 6000\n",
                "initial_inventory = 2750"
            ],
            "metadata": {
                "azdata_cell_guid": "59c13d12-fdae-4389-91a5-34ba5d3a71eb"
            },
            "outputs": [],
            "execution_count": 31
        },
        {
            "cell_type": "code",
            "source": [
                "production_constraints"
            ],
            "metadata": {
                "azdata_cell_guid": "562b9be2-042d-4913-9d14-fa357cb32eb2"
            },
            "outputs": [
                {
                    "data": {
                        "text/plain": "       Min_Production  Max_Production  Unit_Production_Cost  \\\nMonth                                                         \n1                2000            4000                   240   \n2                1750            3500                   250   \n3                2000            4000                   265   \n4                2250            4500                   285   \n5                2000            4000                   280   \n6                1750            3500                   260   \n\n       Unit_Carrying_Cost  \nMonth                      \n1                   0.015  \n2                   0.015  \n3                   0.015  \n4                   0.015  \n5                   0.015  \n6                   0.015  ",
                        "text/html": "<div>\n<style scoped>\n    .dataframe tbody tr th:only-of-type {\n        vertical-align: middle;\n    }\n\n    .dataframe tbody tr th {\n        vertical-align: top;\n    }\n\n    .dataframe thead th {\n        text-align: right;\n    }\n</style>\n<table border=\"1\" class=\"dataframe\">\n  <thead>\n    <tr style=\"text-align: right;\">\n      <th></th>\n      <th>Min_Production</th>\n      <th>Max_Production</th>\n      <th>Unit_Production_Cost</th>\n      <th>Unit_Carrying_Cost</th>\n    </tr>\n    <tr>\n      <th>Month</th>\n      <th></th>\n      <th></th>\n      <th></th>\n      <th></th>\n    </tr>\n  </thead>\n  <tbody>\n    <tr>\n      <th>1</th>\n      <td>2000</td>\n      <td>4000</td>\n      <td>240</td>\n      <td>0.015</td>\n    </tr>\n    <tr>\n      <th>2</th>\n      <td>1750</td>\n      <td>3500</td>\n      <td>250</td>\n      <td>0.015</td>\n    </tr>\n    <tr>\n      <th>3</th>\n      <td>2000</td>\n      <td>4000</td>\n      <td>265</td>\n      <td>0.015</td>\n    </tr>\n    <tr>\n      <th>4</th>\n      <td>2250</td>\n      <td>4500</td>\n      <td>285</td>\n      <td>0.015</td>\n    </tr>\n    <tr>\n      <th>5</th>\n      <td>2000</td>\n      <td>4000</td>\n      <td>280</td>\n      <td>0.015</td>\n    </tr>\n    <tr>\n      <th>6</th>\n      <td>1750</td>\n      <td>3500</td>\n      <td>260</td>\n      <td>0.015</td>\n    </tr>\n  </tbody>\n</table>\n</div>"
                    },
                    "metadata": {},
                    "execution_count": 20,
                    "output_type": "execute_result"
                }
            ],
            "execution_count": 20
        },
        {
            "cell_type": "code",
            "source": [
                "demand = pd.read_excel('/Volumes/Elements/khartless/Projects/Data/Upton.xlsx',\n",
                "        sheet_name = 'Demand',\n",
                "        index_col = [0])"
            ],
            "metadata": {
                "azdata_cell_guid": "16cd2915-242b-4e01-bf21-7c1b6412c091"
            },
            "outputs": [],
            "execution_count": 22
        },
        {
            "cell_type": "code",
            "source": [
                "demand"
            ],
            "metadata": {
                "azdata_cell_guid": "c476a989-fb17-4bff-bffe-95bc280892aa"
            },
            "outputs": [
                {
                    "data": {
                        "text/plain": "       Demand\nMonth        \n1        1000\n2        4500\n3        6000\n4        5500\n5        3500\n6        4000",
                        "text/html": "<div>\n<style scoped>\n    .dataframe tbody tr th:only-of-type {\n        vertical-align: middle;\n    }\n\n    .dataframe tbody tr th {\n        vertical-align: top;\n    }\n\n    .dataframe thead th {\n        text-align: right;\n    }\n</style>\n<table border=\"1\" class=\"dataframe\">\n  <thead>\n    <tr style=\"text-align: right;\">\n      <th></th>\n      <th>Demand</th>\n    </tr>\n    <tr>\n      <th>Month</th>\n      <th></th>\n    </tr>\n  </thead>\n  <tbody>\n    <tr>\n      <th>1</th>\n      <td>1000</td>\n    </tr>\n    <tr>\n      <th>2</th>\n      <td>4500</td>\n    </tr>\n    <tr>\n      <th>3</th>\n      <td>6000</td>\n    </tr>\n    <tr>\n      <th>4</th>\n      <td>5500</td>\n    </tr>\n    <tr>\n      <th>5</th>\n      <td>3500</td>\n    </tr>\n    <tr>\n      <th>6</th>\n      <td>4000</td>\n    </tr>\n  </tbody>\n</table>\n</div>"
                    },
                    "metadata": {},
                    "execution_count": 23,
                    "output_type": "execute_result"
                }
            ],
            "execution_count": 23
        },
        {
            "cell_type": "code",
            "source": [
                "production = LpVariable.dicts(\"production\",\n",
                "                            (list(production_constraints.index)),\n",
                "                            lowBound=0,\n",
                "                            cat='Integer')"
            ],
            "metadata": {
                "azdata_cell_guid": "95e4374a-d17d-48df-9abc-47869a9c7950"
            },
            "outputs": [],
            "execution_count": 29
        },
        {
            "cell_type": "code",
            "source": [
                "model = LpProblem(\"Upton_cost_minimizing\", LpMinimize)"
            ],
            "metadata": {
                "azdata_cell_guid": "a9c9fd11-af9d-4f10-bb21-1c86aa1da76c"
            },
            "outputs": [],
            "execution_count": 30
        },
        {
            "cell_type": "code",
            "source": [
                "model += lpSum([production[month] * production_constraints.loc[month, 'Unit_Production_Cost'] for month in production_constraints.index]\n",
                "        + [.5*unit_carrying_cost*production_constraints.loc[month, 'Unit_Production_Cost']*((2*production[month]))])"
            ],
            "metadata": {
                "azdata_cell_guid": "0558e373-7be1-4d58-b83e-ae89f6175ae0"
            },
            "outputs": [],
            "execution_count": null
        },
        {
            "cell_type": "code",
            "source": [
                ""
            ],
            "metadata": {
                "azdata_cell_guid": "99df4bc9-4c8d-49d5-8dd3-61f841ff0e88"
            },
            "outputs": [],
            "execution_count": null
        }
    ]
}