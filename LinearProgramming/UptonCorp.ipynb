{
    "metadata": {
        "kernelspec": {
            "name": "python3",
            "display_name": "Python 3"
        },
        "language_info": {
            "name": "python",
            "version": "3.6.6",
            "mimetype": "text/x-python",
            "codemirror_mode": {
                "name": "ipython",
                "version": 3
            },
            "pygments_lexer": "ipython3",
            "nbconvert_exporter": "python",
            "file_extension": ".py"
        }
    },
    "nbformat_minor": 2,
    "nbformat": 4,
    "cells": [
        {
            "cell_type": "code",
            "source": [
                "import numpy as np "
            ],
            "metadata": {
                "azdata_cell_guid": "ac6cc909-a903-42a1-aae0-3aa55873ed3f",
                "tags": []
            },
            "outputs": [],
            "execution_count": 223
        },
        {
            "cell_type": "markdown",
            "source": [
                "### Minimize the total cost of production over the 6 month time span where total cost of production is equal to:\n",
                "### sum(Units Produced * Unit Production Cost) + sum(Holding Cost * Unit Production Cost * Average Inventory)"
            ],
            "metadata": {
                "azdata_cell_guid": "661302c2-65fd-486f-beb8-93eb42da5809"
            }
        },
        {
            "cell_type": "code",
            "source": [
                "huge_number = float(\"inf\")\n",
                "\n",
                "months = 6\n",
                "start_inventory = 2750\n",
                "inventory_capacity = 6000\n",
                "safety_stock = 1500\n",
                "production_capacity_max = np.array([4000, 3500, 4000, 4500, 4000, 3500])\n",
                "production_capacity_min = np.array([2000, 1750, 2000, 2250, 2000, 1750])\n",
                "\n",
                "#setup_cost = 3.\n",
                "unit_production_cost = np.array([240, 250, 265, 285, 280, 260])\n",
                "holding_cost = 0.015\n",
                "\n",
                "demand = np.array([1000, 4500, 6000, 5500, 3500, 4000])"
            ],
            "metadata": {
                "azdata_cell_guid": "d8ae7ba7-b476-40e7-ab1d-75e1de50756b",
                "tags": []
            },
            "outputs": [],
            "execution_count": 224
        },
        {
            "cell_type": "code",
            "source": [
                "\n",
                "start_values = []\n",
                "final_production_cost = huge_number\n",
                "for m in range(months): #Iterate over each month in the production plan\n",
                "    for i in range(production_capacity_min[m], production_capacity_max[m]+1): \n",
                "        #iterate over possible production values between minimum production and max production\n",
                "        units_produced = production_capacity_max.copy() #set the starting production values to the maximum values\n",
                "        units_produced[m] = i #replace the production value with the value for the month being evaluated\n",
                "        initial_inventory = [start_inventory]\n",
                "        #calculate the final ending inventory with the given values\n",
                "        final_ending_inventory = sum(units_produced) \\\n",
                "                                + start_inventory \\\n",
                "                                - sum(demand)\n",
                "\n",
                "        #if the final ending inventory meets the minimum safety stock value then determine the total cost\n",
                "        if final_ending_inventory >= safety_stock:\n",
                "            ending_inventory = []\n",
                "            average_inventory = []\n",
                "            for k in range(stages):\n",
                "                #determine the inventory values for each month\n",
                "                ending_inventory.append(initial_inventory[k]+units_produced[k]-demand[k])\n",
                "                average_inventory.append((initial_inventory[k]+ending_inventory[k])/2)\n",
                "                if k< stages-1:\n",
                "                    initial_inventory.append(ending_inventory[k])\n",
                "            production_cost = units_produced * unit_production_cost + (holding_cost*unit_production_cost*average_inventory)\n",
                "            #if the production cost is less than any previous production cost, then record the value as the lowest cost\n",
                "            if sum(production_cost) < final_production_cost:\n",
                "                final_production_cost = sum(production_cost)\n",
                "                start_values = ([units_produced, final_production_cost])\n",
                "\n",
                ""
            ],
            "metadata": {
                "azdata_cell_guid": "8a455d30-b8cc-4916-ba0e-15f92d0d67ec",
                "tags": []
            },
            "outputs": [],
            "execution_count": 225
        },
        {
            "cell_type": "code",
            "source": [
                "print(f'Initial Inventory Values: {start_values[0]}')\n",
                "print(f'Total Cost: ${start_values[1]:,.0f}')\n",
                ""
            ],
            "metadata": {
                "azdata_cell_guid": "48bfb5df-5d81-4d42-8f7b-aae7c7d6abf4"
            },
            "outputs": [
                {
                    "name": "stdout",
                    "text": "Initial Inventory Values: [4000 3500 4000 4250 4000 3500]\nTotal Cost: $6,209,403\n",
                    "output_type": "stream"
                }
            ],
            "execution_count": 226
        }
    ]
}