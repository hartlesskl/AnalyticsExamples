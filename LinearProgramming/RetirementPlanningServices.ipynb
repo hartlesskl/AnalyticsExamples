{
    "metadata": {
        "kernelspec": {
            "name": "python3",
            "display_name": "Python 3"
        },
        "language_info": {
            "name": "python",
            "version": "3.6.6",
            "mimetype": "text/x-python",
            "codemirror_mode": {
                "name": "ipython",
                "version": 3
            },
            "pygments_lexer": "ipython3",
            "nbconvert_exporter": "python",
            "file_extension": ".py"
        }
    },
    "nbformat_minor": 2,
    "nbformat": 4,
    "cells": [
        {
            "cell_type": "code",
            "source": [
                "import numpy as np \n",
                "from scipy.optimize import linprog\n",
                "from cvxopt import matrix\n",
                "from cvxopt import glpk"
            ],
            "metadata": {
                "azdata_cell_guid": "7c9962cf-9ba1-4917-b90d-8ac9bf93f03e"
            },
            "outputs": [],
            "execution_count": 1
        },
        {
            "cell_type": "code",
            "source": [
                "var_list = ['Acme Chemical', 'DynaStar', 'Eagle Vision', 'Micro Modeling', 'OptiPro', 'Sabre Systems']\n",
                "\n",
                "#equations to solve\n",
                "# ac + ds + ev + mm + op + ss <= 750,000\n",
                "# -ac - ds - mm - ss <= -375000 * multiply by -1 to change direction of inequality. companies with maturity greater than 10\n",
                "# ds + ev + op <= 262500 companies with rating less than very good\n",
                "\n",
                "#upper bounds\n",
                "# ac <= 187500\n",
                "# ds <= 187500\n",
                "# ev <= 187500\n",
                "# mm <= 187500\n",
                "# op <= 187500\n",
                "# ss <= 187500\n",
                "\n",
                "total_investment = 750000.\n",
                "per_investment_limit = .25*total_investment\n",
                "min_long_term_investments = -.5*total_investment\n",
                "risky_investment_limit = .35*total_investment\n",
                "\n",
                "# Inequality equations, LHS\n",
                "A_ineq = [[1., 1., 1., 1., 1., 1.],[-1., -1., 0., -1., 0., -1.], [0., 1., 1., 0., 1., 0.]]\n",
                "\n",
                "# Inequality equations, RHS\n",
                "B_ineq = [total_investment, min_long_term_investments, risky_investment_limit]\n",
                "\n",
                "#bounds\n",
                "ac_b = [0,per_investment_limit]\n",
                "ds_b = [0,per_investment_limit]\n",
                "ev_b = [0,per_investment_limit]\n",
                "mm_b = [0,per_investment_limit]\n",
                "op_b = [0,per_investment_limit]\n",
                "ss_b = [0,per_investment_limit]\n",
                "bounds = (ac_b, ds_b, ev_b, mm_b, op_b, ss_b)\n",
                "\n",
                "#cost function (maximize)\n",
                "c = [-.0865, -.095, -.1, -.0875, -.0925, -.09] #values are negative to represent a maximization problem\n",
                "\n",
                "res_bounds = linprog(c, A_ub=A_ineq, b_ub=B_ineq, bounds=bounds, method='simplex')\n",
                "\n",
                "annual_return = -sum(c * res_bounds.x)\n",
                "\n",
                "\n",
                "print(f'Annual Return: ${annual_return:,.0f} \\n')\n",
                "\n",
                "print(f'Investment Amounts: ')\n",
                "for v, var in enumerate(var_list):\n",
                "    print(f'{var}: ${res_bounds.x[v]:,.0f}')\n",
                ""
            ],
            "metadata": {
                "azdata_cell_guid": "551a786c-3d07-4186-9d94-c75b557b873e"
            },
            "outputs": [
                {
                    "name": "stdout",
                    "text": "Annual Return: $68,888 \n\nInvestment Amounts: \nAcme Chemical: $112,500\nDynaStar: $75,000\nEagle Vision: $187,500\nMicro Modeling: $187,500\nOptiPro: $0\nSabre Systems: $187,500\n",
                    "output_type": "stream"
                }
            ],
            "execution_count": 11
        }
    ]
}