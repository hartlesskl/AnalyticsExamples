{
    "metadata": {
        "kernelspec": {
            "name": "python3",
            "display_name": "Python 3"
        },
        "language_info": {
            "name": "python",
            "version": "3.6.6",
            "mimetype": "text/x-python",
            "codemirror_mode": {
                "name": "ipython",
                "version": 3
            },
            "pygments_lexer": "ipython3",
            "nbconvert_exporter": "python",
            "file_extension": ".py"
        }
    },
    "nbformat_minor": 2,
    "nbformat": 4,
    "cells": [
        {
            "cell_type": "code",
            "source": [
                "import numpy as np \n",
                "import pandas as pd\n",
                "import pulp"
            ],
            "metadata": {
                "azdata_cell_guid": "60c28509-205b-46b0-b167-c7321e06ad0a"
            },
            "outputs": [],
            "execution_count": 49
        },
        {
            "cell_type": "code",
            "source": [
                "\"\"\"\n",
                "Parameters:\n",
                "safety stock, maximum warehouse capacity\n",
                "h: unit holding cost\n",
                "max_p: production max per month\n",
                "min_p = production min per month\n",
                "wc = max inventory capacity per month\n",
                "ss = min inventory capacity per month\n",
                "I_0: initial_inventory\n",
                "c_t: unit production cost in month t\n",
                "d_t: demand of month t\n",
                "\n",
                "Variables:\n",
                "P_t: Amount produced in month t\n",
                "I_t: Inventory at the end of period t\n",
                "\n",
                "Constraints:\n",
                "Inventory Constraints: I_{t-1} + X_t - d_t = I_t (Beginning Inventory)\n",
                "                    I_t + P_t - d_t >= ss\n",
                "                    I_t + P_t - d_t <= wc\n",
                "Capacity Constraints: P_t <= max_p\n",
                "                      P_t >= min_p\n",
                "\n",
                "Objective: Min Sum(((2*I_t)+P_t - d_t).5*h*c_t + c_t*P_t)\n",
                "\n",
                "\n",
                "\"\"\""
            ],
            "metadata": {
                "azdata_cell_guid": "45e0b0ca-09f6-4ac2-b78e-472863e313c3"
            },
            "outputs": [],
            "execution_count": null
        },
        {
            "cell_type": "code",
            "source": [
                "filepath = '/Volumes/Elements/khartless/Projects/Data/'\n",
                "parameters_name = 'Upton.xlsx'\n",
                "\n",
                "input_data = pd.read_excel(filepath+parameters_name, sheet_name= 'Production', index_col=[0])\n",
                ""
            ],
            "metadata": {
                "azdata_cell_guid": "d7963ba2-4203-4857-8b1c-c3a6c9ced21d"
            },
            "outputs": [],
            "execution_count": 50
        },
        {
            "cell_type": "code",
            "source": [
                "initial_inventory = 2750\n",
                "safety_stock = 1500\n",
                "max_capacity = 6000\n",
                "carrying_cost = .015"
            ],
            "metadata": {
                "azdata_cell_guid": "0a120729-c564-437e-9d5b-18013a3aa0e0"
            },
            "outputs": [],
            "execution_count": 51
        },
        {
            "cell_type": "code",
            "source": [
                "model = pulp.LpProblem(name='prod_planning_upton', sense=pulp.LpMinimize)"
            ],
            "metadata": {
                "azdata_cell_guid": "04ff25c2-1c1c-4c6f-a13f-346752a1f212"
            },
            "outputs": [],
            "execution_count": 52
        },
        {
            "cell_type": "code",
            "source": [
                "production_variables = pulp.LpVariable.dicts(name='P', indexs=input_data.index,\n",
                "                                             lowBound=0, cat=pulp.LpContinuous)\n",
                "\n",
                "inventory_variables = pulp.LpVariable.dicts(name='I', indexs=input_data.index,\n",
                "                                            lowBound=0, cat=pulp.LpContinuous)"
            ],
            "metadata": {
                "azdata_cell_guid": "fd2c3bb8-43f6-489f-b898-48f7fda681f0"
            },
            "outputs": [],
            "execution_count": 53
        },
        {
            "cell_type": "code",
            "source": [
                "for period, value in input_data.iloc[1:].iterrows():\n",
                "    model.addConstraint(pulp.LpConstraint(\n",
                "        e=inventory_variables[period - 1] + production_variables[period] - inventory_variables[period],\n",
                "        sense=pulp.LpConstraintEQ,\n",
                "        name='inv_balance' + str(period),\n",
                "        rhs=value.Demand))"
            ],
            "metadata": {
                "azdata_cell_guid": "6ce9e878-a509-4814-8c58-5070946c573b"
            },
            "outputs": [],
            "execution_count": 54
        },
        {
            "cell_type": "code",
            "source": [
                "# inv balance for first period\n",
                "model.addConstraint(pulp.LpConstraint(\n",
                "    e=production_variables[1] - inventory_variables[2],\n",
                "    sense=pulp.LpConstraintEQ,\n",
                "    name='inv_balance1',\n",
                "    rhs=input_data.iloc[1].Demand - initial_inventory))"
            ],
            "metadata": {
                "azdata_cell_guid": "3f2ee7a0-dc9d-4a2b-9eb4-c8212901c6e6"
            },
            "outputs": [],
            "execution_count": 55
        },
        {
            "cell_type": "code",
            "source": [
                "for index, value in production_variables.items():\n",
                "    model.addConstraint(pulp.LpConstraint(\n",
                "        e=value,\n",
                "        sense=pulp.LpConstraintLE,\n",
                "        name='prod_cap_month_' + str(index),\n",
                "        rhs=input_data.loc[index].Max_Production))"
            ],
            "metadata": {
                "azdata_cell_guid": "239b6fce-cfb6-4a90-9133-a7276fd4cfe6"
            },
            "outputs": [],
            "execution_count": 56
        },
        {
            "cell_type": "code",
            "source": [
                "for index, value in production_variables.items():\n",
                "    model.addConstraint(pulp.LpConstraint(\n",
                "        e=value,\n",
                "        sense=pulp.LpConstraintGE,\n",
                "        name='prod_min_month_' + str(index),\n",
                "        rhs=input_data.loc[index].Min_Production))\n",
                ""
            ],
            "metadata": {
                "azdata_cell_guid": "109af181-9629-4d57-b044-9b00a687236e"
            },
            "outputs": [],
            "execution_count": 57
        },
        {
            "cell_type": "code",
            "source": [
                "for index, value in inventory_variables.items():\n",
                "    model.addConstraint(pulp.LpConstraint(\n",
                "        e=value,\n",
                "        sense=pulp.LpConstraintLE,\n",
                "        name='inventory_cap_month_' + str(index),\n",
                "        rhs=max_capacity))\n",
                "\n",
                "for index, value in inventory_variables.items():\n",
                "    model.addConstraint(pulp.LpConstraint(\n",
                "        e=value,\n",
                "        sense=pulp.LpConstraintGE,\n",
                "        name='inventory_min_month_' + str(index),\n",
                "        rhs=safety_stock))"
            ],
            "metadata": {
                "azdata_cell_guid": "cf5dc4a4-12f8-48e3-bc95-65e535049674"
            },
            "outputs": [],
            "execution_count": 60
        },
        {
            "cell_type": "code",
            "source": [
                "#Objective: Min Sum(((2*I_t)+P_t - d_t).5*h*c_t + c_t*P_t)\n",
                "\n",
                "total_holding_cost = pulp.lpSum(((2*inventory_variables[index])+production_variables[index] - row['Demand'])*.5 * carrying_cost * row['Unit_Production_Cost']\n",
                "                                for index, row in input_data.iterrows())\n",
                "total_production_cost = pulp.lpSum(row['Unit_Production_Cost'] * production_variables[index]\n",
                "                                   for index, row in input_data.iterrows())\n",
                "\n",
                "objective = total_holding_cost + total_production_cost\n",
                "\n",
                "model.setObjective(objective)"
            ],
            "metadata": {
                "azdata_cell_guid": "32a0577e-a384-49af-a856-a93b9d88b448"
            },
            "outputs": [],
            "execution_count": 68
        },
        {
            "cell_type": "code",
            "source": [
                "pulp.value(model.objective)"
            ],
            "metadata": {
                "azdata_cell_guid": "ec1053ec-92e6-41bd-be50-419a8e99eb58"
            },
            "outputs": [
                {
                    "data": {
                        "text/plain": "6446184.375"
                    },
                    "metadata": {},
                    "execution_count": 73,
                    "output_type": "execute_result"
                }
            ],
            "execution_count": 73
        }
    ]
}