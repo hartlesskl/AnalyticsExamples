{
    "metadata": {
        "kernelspec": {
            "name": "python3",
            "display_name": "Python 3"
        },
        "language_info": {
            "name": "python",
            "version": "3.6.6",
            "mimetype": "text/x-python",
            "codemirror_mode": {
                "name": "ipython",
                "version": 3
            },
            "pygments_lexer": "ipython3",
            "nbconvert_exporter": "python",
            "file_extension": ".py"
        }
    },
    "nbformat_minor": 2,
    "nbformat": 4,
    "cells": [
        {
            "cell_type": "code",
            "source": [
                "import numpy as np \n",
                "import pandas as pd\n",
                "import pulp"
            ],
            "metadata": {
                "azdata_cell_guid": "60c28509-205b-46b0-b167-c7321e06ad0a"
            },
            "outputs": [],
            "execution_count": 139
        },
        {
            "cell_type": "code",
            "source": [
                "\"\"\"\n",
                "Parameters:\n",
                "safety stock, maximum warehouse capacity\n",
                "h: unit holding cost\n",
                "max_p: production max per month\n",
                "min_p = production min per month\n",
                "wc = max inventory capacity per month\n",
                "ss = min inventory capacity per month\n",
                "I_0: initial_inventory\n",
                "c_t: unit production cost in month t\n",
                "d_t: demand of month t\n",
                "\n",
                "Variables:\n",
                "P_t: Amount produced in month t\n",
                "I_t: Inventory at the end of period t\n",
                "\n",
                "Constraints:\n",
                "Inventory Constraints: I_{t-1} + X_t - d_t = I_t (Beginning Inventory)\n",
                "                    I_t + P_t - d_t >= ss\n",
                "                    I_t + P_t - d_t <= wc\n",
                "Capacity Constraints: P_t <= max_p\n",
                "                      P_t >= min_p\n",
                "\n",
                "Objective: Min Sum(((2*I_t)+P_t - d_t).5*h*c_t + c_t*P_t)\n",
                "\n",
                "I_t - I_{t-1}+P{t-1}-D{t-1}=0\n",
                "\n",
                "\n",
                "\"\"\""
            ],
            "metadata": {
                "azdata_cell_guid": "45e0b0ca-09f6-4ac2-b78e-472863e313c3"
            },
            "outputs": [],
            "execution_count": null
        },
        {
            "cell_type": "code",
            "source": [
                "filepath = '/Volumes/Elements/khartless/Projects/Data/'\n",
                "parameters_name = 'Upton.xlsx'\n",
                "\n",
                "input_data = pd.read_excel(filepath+parameters_name, sheet_name= 'Production', index_col=[0])\n",
                ""
            ],
            "metadata": {
                "azdata_cell_guid": "d7963ba2-4203-4857-8b1c-c3a6c9ced21d"
            },
            "outputs": [],
            "execution_count": 140
        },
        {
            "cell_type": "code",
            "source": [
                "initial_inventory = 2750\n",
                "safety_stock = 1500\n",
                "max_capacity = 6000\n",
                "carrying_cost = .015"
            ],
            "metadata": {
                "azdata_cell_guid": "0a120729-c564-437e-9d5b-18013a3aa0e0"
            },
            "outputs": [],
            "execution_count": 141
        },
        {
            "cell_type": "code",
            "source": [
                "model = pulp.LpProblem(name='prod_planning_upton', sense=pulp.LpMinimize)\n",
                "\n",
                "production_variables = pulp.LpVariable.dicts(name='P', indexs=input_data.index,\n",
                "                                             lowBound=0, cat=pulp.LpContinuous)\n",
                "\n",
                "inventory_variables = pulp.LpVariable.dicts(name='I', indexs=input_data.index,\n",
                "                                            lowBound=0, cat=pulp.LpContinuous)\n",
                "\n",
                "#beginning inventory constraint\n",
                "for period, value in input_data.iloc[1:].iterrows():\n",
                "    model.addConstraint(pulp.LpConstraint(\n",
                "        e=inventory_variables[period-1] + production_variables[period-1] - inventory_variables[period],\n",
                "        sense=pulp.LpConstraintEQ,\n",
                "        name='inv_balance' + str(period),\n",
                "        rhs=input_data.Demand[period-1]))\n",
                "\n",
                "# set beginning inventory\n",
                "model += inventory_variables[1] == initial_inventory\n",
                "\n",
                "for index, value in production_variables.items():\n",
                "    model.addConstraint(pulp.LpConstraint(\n",
                "        e=value,\n",
                "        sense=pulp.LpConstraintLE,\n",
                "        name='prod_cap_month_' + str(index),\n",
                "        rhs=input_data.loc[index].Max_Production))\n",
                "\n",
                "#minimum ending inventory\n",
                "for period, value in input_data.iterrows():\n",
                "    model.addConstraint(pulp.LpConstraint(\n",
                "        e=inventory_variables[period] + production_variables[period],\n",
                "        sense=pulp.LpConstraintGE,\n",
                "        name='inv_min_month' + str(period),\n",
                "        rhs= safety_stock + value.Demand))\n",
                "\n",
                "#maximum ending inventory\n",
                "for period, value in input_data.iterrows():\n",
                "    model.addConstraint(pulp.LpConstraint(\n",
                "        e=inventory_variables[period] + production_variables[period],\n",
                "        sense=pulp.LpConstraintLE,\n",
                "        name='inv_cap_month' + str(period),\n",
                "        rhs= max_capacity + value.Demand))\n",
                "\n",
                "#Objective: Min Sum(((2*I_t)+P_t - d_t).5*h*c_t + c_t*P_t)\n",
                "\n",
                "total_holding_cost = pulp.lpSum(((2*inventory_variables[index])+production_variables[index] - row['Demand'])*.5 * carrying_cost * row['Unit_Production_Cost']\n",
                "                                for index, row in input_data.iterrows())\n",
                "total_production_cost = pulp.lpSum(row['Unit_Production_Cost'] * production_variables[index]\n",
                "                                   for index, row in input_data.iterrows())\n",
                "\n",
                "objective = total_holding_cost + total_production_cost\n",
                "\n",
                "model.setObjective(objective)"
            ],
            "metadata": {
                "azdata_cell_guid": "04ff25c2-1c1c-4c6f-a13f-346752a1f212"
            },
            "outputs": [],
            "execution_count": 169
        },
        {
            "cell_type": "code",
            "source": [
                "model.solve()\n",
                "print(f'status: {model.status}, {pulp.LpStatus[model.status]}')\n",
                ""
            ],
            "metadata": {
                "azdata_cell_guid": "ec1053ec-92e6-41bd-be50-419a8e99eb58"
            },
            "outputs": [
                {
                    "name": "stdout",
                    "text": "status: 1, Optimal\n",
                    "output_type": "stream"
                }
            ],
            "execution_count": 170
        },
        {
            "cell_type": "code",
            "source": [
                "print(f'objective: ${model.objective.value():,.0f}')\n",
                "\n",
                "for var in model.variables():\n",
                "    print(f'{var.name}: {var.value():,.0f}')\n",
                "\n",
                "for name, constraint in model.constraints.items():\n",
                "    print(f'{name}: {constraint.value():,.2f}')"
            ],
            "metadata": {
                "azdata_cell_guid": "89d399d6-6167-44e8-b99a-f9f7a18f22d8"
            },
            "outputs": [
                {
                    "name": "stdout",
                    "text": "objective: $6,209,403\nI_1: 2,750\nI_2: 5,750\nI_3: 4,750\nI_4: 2,750\nI_5: 1,500\nI_6: 2,000\nP_1: 4,000\nP_2: 3,500\nP_3: 4,000\nP_4: 4,250\nP_5: 4,000\nP_6: 3,500\ninv_balance2: 0.00\ninv_balance3: 0.00\ninv_balance4: 0.00\ninv_balance5: 0.00\ninv_balance6: 0.00\n_C1: 0.00\nprod_cap_month_1: 0.00\nprod_cap_month_2: 0.00\nprod_cap_month_3: 0.00\nprod_cap_month_4: -250.00\nprod_cap_month_5: 0.00\nprod_cap_month_6: 0.00\ninv_min_month1: 4,250.00\ninv_min_month2: 3,250.00\ninv_min_month3: 1,250.00\ninv_min_month4: 0.00\ninv_min_month5: 500.00\ninv_min_month6: 0.00\ninv_cap_month1: -250.00\ninv_cap_month2: -1,250.00\ninv_cap_month3: -3,250.00\ninv_cap_month4: -4,500.00\ninv_cap_month5: -4,000.00\ninv_cap_month6: -4,500.00\n",
                    "output_type": "stream"
                }
            ],
            "execution_count": 171
        }
    ]
}