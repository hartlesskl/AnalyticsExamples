{
    "metadata": {
        "kernelspec": {
            "name": "python3",
            "display_name": "Python 3"
        },
        "language_info": {
            "name": "python",
            "version": "3.6.6",
            "mimetype": "text/x-python",
            "codemirror_mode": {
                "name": "ipython",
                "version": 3
            },
            "pygments_lexer": "ipython3",
            "nbconvert_exporter": "python",
            "file_extension": ".py"
        }
    },
    "nbformat_minor": 2,
    "nbformat": 4,
    "cells": [
        {
            "cell_type": "markdown",
            "source": [
                "## Problem Description\n",
                "____\n",
                "Determine which cities to purchase a new larger, more fuel efficient truck in to gain full coverage of all cities. The new trucks will also be available to cities within 400 miles of the city with the new truck.\n",
                "\n",
                "Table of distances between cities\n",
                "\n",
                "|Miles        |Boston |New York |Philadelphia |Baltimore |Washington |Richmond |Raleigh |Florence |Savannah |Jacksonville |Tampa  |Miami |\n",
                "|-------------|-------|---------|-------------|----------|-----------|---------|--------|---------|---------|-------------|-------|------|\n",
                "|Boston       |\t -    |\t 211 \t|  320 \t      | 424 \t | 459 \t     | 565 \t   | 713 \t| 884 \t  | 1,056 \t| 1,196 \t  | 1,399 | 1,669| \n",
                "|New York     |\t 211  |\t -   \t|  109 \t      | 213 \t | 248 \t     | 354 \t   | 502 \t| 673 \t  | 845 \t| 985 \t      | 1,188 |\t1,458| \n",
                "|Philadelphia |\t 320  |\t 109 \t|  -   \t      | 104 \t | 139 \t     | 245 \t   | 393 \t| 564 \t  | 736 \t| 876 \t      | 1,079 |\t1,349| \n",
                "|Baltimore    |\t 424  |\t 213 \t|  104 \t      | -   \t | 35 \t     | 141 \t   | 289 \t| 460 \t  | 632 \t| 772 \t      | 975   |\t1,245| \n",
                "|Washington\t  |  459  |  248 \t|  139 \t      | 35 \t     | -   \t     | 106 \t   | 254 \t| 425 \t  | 597 \t| 737 \t      | 940   |\t1,210| \n",
                "|Richmond\t  |  565  |  354    |  245 \t      | 141 \t | 106 \t     | -   \t   | 148 \t| 319 \t  | 491 \t| 631 \t      | 834   |\t1,104| \n",
                "|Raleigh\t  |  713  |  502    |  393 \t      | 289 \t | 254 \t     | 148 \t   | -   \t| 171 \t  | 343 \t| 483 \t      | 686   |\t956  |\n",
                "|Florence\t  |  884  |  673    |  564 \t      | 460 \t | 425 \t     | 319 \t   | 171 \t| -   \t  | 172 \t| 312 \t      | 515   |\t785  | \n",
                "|Savannah\t  | 1,056 |  845    |  736 \t      | 632 \t | 597 \t     | 491 \t   | 343 \t| 172 \t  | -   \t| 140 \t      | 343   |\t613  | \n",
                "|Jacksonville |\t1,196 |  985    |  876 \t      | 772 \t | 737 \t     | 631 \t   | 483 \t| 312 \t  | 140 \t| -   \t      | 203   |\t473  | \n",
                "|Tampa\t      | 1,399 | 1,188   | 1,079 \t  | 975 \t | 940 \t     | 834 \t   | 686 \t| 515 \t  | 343 \t| 203 \t      | -     |\t270  | \n",
                "|Miami        | 1,669 | 1,458   | 1,349 \t  | 1,245 \t | 1,210 \t | 1,104   | 956 \t| 785 \t  | 613 \t| 473 \t      | 270   |\t-    |\n",
                "\n",
                ""
            ],
            "metadata": {
                "azdata_cell_guid": "8cd4dd72-5908-4fcc-b637-d0f4f1a50dee"
            }
        },
        {
            "cell_type": "code",
            "source": [
                "import numpy as np \n",
                "import pandas as pd\n",
                "import pulp"
            ],
            "metadata": {
                "azdata_cell_guid": "3a9f8d05-06c4-491e-b39b-032638153c0d"
            },
            "outputs": [],
            "execution_count": 1
        },
        {
            "cell_type": "code",
            "source": [
                "#fixed variables\n",
                "cities = ['Boston','New York','Philadelphia','Baltimore','Washington','Richmond','Raleigh','Florence','Savannah',\n",
                "            'Jacksonville','Tampa','Miami']\n",
                "max_distance = 400\n",
                "distances = np.array([[0,211,320,424,459,565,713,884,1056,1196,1399,1669],\n",
                "            [211,0,109,213,248,354,502,673,845,985,1188,1458],\n",
                "            [320,109,0,104,139,245,393,564,736,876,1079,1349],\n",
                "            [424,213,104,0,35,141,289,460,632,772,975,1245],\n",
                "            [459,248,139,35,0,106,254,425,597,737,940,1210],\n",
                "            [565,354,245,141,106,0,148,319,491,631,834,1104],\n",
                "            [713,502,393,289,254,148,0,171,343,483,686,956],\n",
                "            [884,673,564,460,425,319,171,0,172,312,515,785],\n",
                "            [1056,845,736,632,597,491,343,172,0,140,343,613],\n",
                "            [1196,985,876,772,737,631,483,312,140,0,203,473],\n",
                "            [1399,1188,1079,975,940,834,686,515,343,203,0,270],\n",
                "            [1669,1458,1349,1245,1210,1104,956,785,613,473,270,0]])\n",
                "\n",
                "n_cities=len(cities)\n",
                "\n",
                "nearby_cities = np.array([1 if distances[i,j]<=max_distance else 0 for i in range(n_cities) for j in range(n_cities)]).reshape(n_cities,n_cities)\n",
                "\n",
                ""
            ],
            "metadata": {
                "azdata_cell_guid": "f9f6c05c-2507-4992-ae60-cc8d58c1fedb"
            },
            "outputs": [],
            "execution_count": 11
        },
        {
            "cell_type": "code",
            "source": [
                "#create the model\n",
                "model = pulp.LpProblem(name='truck_purchase_optimization', sense=pulp.LpMinimize)\n",
                "\n",
                "\n",
                "city_variables = pulp.LpVariable.matrix('C', cities,\n",
                "                                             lowBound=0, cat=pulp.LpBinary)\n",
                "\n",
                "#Sum of each city row must be at least 1\n",
                "for index, city in enumerate(cities):\n",
                "    model.addConstraint(pulp.LpConstraint(\n",
                "        e=pulp.lpSum(nearby_cities[index,:]*city_variables) ,\n",
                "        sense=pulp.LpConstraintGE,\n",
                "        name='min_trucks_'+city,\n",
                "        rhs=1))\n",
                "\n",
                "objective = pulp.lpSum(city_variables)\n",
                "\n",
                "model.setObjective(objective)\n",
                "\n",
                "model.solve()\n",
                "\n",
                "if model.status == 1:\n",
                "    print(f'status: {model.status}, {pulp.LpStatus[model.status]}')\n",
                "    print(f'objective: ${model.objective.value():,.0f}')\n",
                "    for i,var in enumerate(city_variables):\n",
                "        print(f'{var}: {var.value()}')\n",
                "else:\n",
                "    print(f'status: {model.status}, {pulp.LpStatus[model.status]}')"
            ],
            "metadata": {
                "azdata_cell_guid": "42db808d-a34e-4824-b0f3-40c570e1d395"
            },
            "outputs": [
                {
                    "name": "stdout",
                    "text": "status: 1, Optimal\nobjective: $3\nC_Boston: 1.0\nC_New_York: 0.0\nC_Philadelphia: 0.0\nC_Baltimore: 0.0\nC_Washington: 0.0\nC_Richmond: 1.0\nC_Raleigh: 0.0\nC_Florence: 0.0\nC_Savannah: 0.0\nC_Jacksonville: 0.0\nC_Tampa: 1.0\nC_Miami: 0.0\n",
                    "output_type": "stream"
                }
            ],
            "execution_count": 26
        },
        {
            "cell_type": "code",
            "source": [
                "#run a second model to maximize the number of cities that the new trucks will cover, this is essential a second objective function\n",
                "model = pulp.LpProblem(name='round2_optimization', sense=pulp.LpMaximize)\n",
                "\n",
                "city_variables = pulp.LpVariable.matrix('C', cities,\n",
                "                                             lowBound=0, cat=pulp.LpBinary)\n",
                "\n",
                "#Sum of each city row must be at least 1\n",
                "for index, city in enumerate(cities):\n",
                "    model.addConstraint(pulp.LpConstraint(\n",
                "        e=pulp.lpSum(nearby_cities[index,:]*city_variables) ,\n",
                "        sense=pulp.LpConstraintGE,\n",
                "        name='min_trucks_'+city,\n",
                "        rhs=1))\n",
                "\n",
                "#add the constraint from the first model run, sum of city_variables = 3\n",
                "model.addConstraint(pulp.LpConstraint(\n",
                "    e=pulp.lpSum(city_variables) ,\n",
                "    sense=pulp.LpConstraintEQ,\n",
                "    name='obj_1',\n",
                "    rhs=3))\n",
                "\n",
                "objective = pulp.lpSum(city_variables*nearby_cities)\n",
                "\n",
                "model.setObjective(objective)\n",
                "\n",
                "model.solve()\n",
                "\n",
                "if model.status == 1:\n",
                "    print(f'status: {model.status}, {pulp.LpStatus[model.status]}')\n",
                "    print(f'objective: ${model.objective.value():,.0f}')\n",
                "    for i,var in enumerate(city_variables):\n",
                "        print(f'{var}: {var.value()}')\n",
                "else:\n",
                "    print(f'status: {model.status}, {pulp.LpStatus[model.status]}')"
            ],
            "metadata": {
                "azdata_cell_guid": "63a78661-6791-4c68-a1bf-363b5947cb75"
            },
            "outputs": [
                {
                    "name": "stdout",
                    "text": "status: 1, Optimal\nobjective: $18\nC_Boston: 0.0\nC_New_York: 0.0\nC_Philadelphia: 1.0\nC_Baltimore: 0.0\nC_Washington: 0.0\nC_Richmond: 1.0\nC_Raleigh: 0.0\nC_Florence: 0.0\nC_Savannah: 0.0\nC_Jacksonville: 0.0\nC_Tampa: 1.0\nC_Miami: 0.0\n",
                    "output_type": "stream"
                }
            ],
            "execution_count": 28
        },
        {
            "cell_type": "code",
            "source": [
                "model"
            ],
            "metadata": {
                "azdata_cell_guid": "19a2019c-93a1-4971-be80-3586f9e7944a"
            },
            "outputs": [
                {
                    "data": {
                        "text/plain": "round2_optimization:\nMAXIMIZE\n6*C_Baltimore + 3*C_Boston + 5*C_Florence + 4*C_Jacksonville + 2*C_Miami + 6*C_New_York + 7*C_Philadelphia + 7*C_Raleigh + 7*C_Richmond + 5*C_Savannah + 4*C_Tampa + 6*C_Washington + 0\nSUBJECT TO\nmin_trucks_Boston: C_Boston + C_New_York + C_Philadelphia >= 1\n\nmin_trucks_New_York: C_Baltimore + C_Boston + C_New_York + C_Philadelphia\n + C_Richmond + C_Washington >= 1\n\nmin_trucks_Philadelphia: C_Baltimore + C_Boston + C_New_York + C_Philadelphia\n + C_Raleigh + C_Richmond + C_Washington >= 1\n\nmin_trucks_Baltimore: C_Baltimore + C_New_York + C_Philadelphia + C_Raleigh\n + C_Richmond + C_Washington >= 1\n\nmin_trucks_Washington: C_Baltimore + C_New_York + C_Philadelphia + C_Raleigh\n + C_Richmond + C_Washington >= 1\n\nmin_trucks_Richmond: C_Baltimore + C_Florence + C_New_York + C_Philadelphia\n + C_Raleigh + C_Richmond + C_Washington >= 1\n\nmin_trucks_Raleigh: C_Baltimore + C_Florence + C_Philadelphia + C_Raleigh\n + C_Richmond + C_Savannah + C_Washington >= 1\n\nmin_trucks_Florence: C_Florence + C_Jacksonville + C_Raleigh + C_Richmond\n + C_Savannah >= 1\n\nmin_trucks_Savannah: C_Florence + C_Jacksonville + C_Raleigh + C_Savannah\n + C_Tampa >= 1\n\nmin_trucks_Jacksonville: C_Florence + C_Jacksonville + C_Savannah + C_Tampa\n >= 1\n\nmin_trucks_Tampa: C_Jacksonville + C_Miami + C_Savannah + C_Tampa >= 1\n\nmin_trucks_Miami: C_Miami + C_Tampa >= 1\n\nobj_1: C_Baltimore + C_Boston + C_Florence + C_Jacksonville + C_Miami\n + C_New_York + C_Philadelphia + C_Raleigh + C_Richmond + C_Savannah + C_Tampa\n + C_Washington = 3\n\nVARIABLES\n0 <= C_Baltimore <= 1 Integer\n0 <= C_Boston <= 1 Integer\n0 <= C_Florence <= 1 Integer\n0 <= C_Jacksonville <= 1 Integer\n0 <= C_Miami <= 1 Integer\n0 <= C_New_York <= 1 Integer\n0 <= C_Philadelphia <= 1 Integer\n0 <= C_Raleigh <= 1 Integer\n0 <= C_Richmond <= 1 Integer\n0 <= C_Savannah <= 1 Integer\n0 <= C_Tampa <= 1 Integer\n0 <= C_Washington <= 1 Integer"
                    },
                    "metadata": {},
                    "execution_count": 29,
                    "output_type": "execute_result"
                }
            ],
            "execution_count": 29
        }
    ]
}