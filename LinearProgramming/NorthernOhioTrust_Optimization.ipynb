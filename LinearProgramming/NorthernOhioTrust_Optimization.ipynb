{
    "metadata": {
        "kernelspec": {
            "name": "python3",
            "display_name": "Python 3"
        },
        "language_info": {
            "name": "python",
            "version": "3.6.6",
            "mimetype": "text/x-python",
            "codemirror_mode": {
                "name": "ipython",
                "version": 3
            },
            "pygments_lexer": "ipython3",
            "nbconvert_exporter": "python",
            "file_extension": ".py"
        }
    },
    "nbformat_minor": 2,
    "nbformat": 4,
    "cells": [
        {
            "cell_type": "markdown",
            "source": [
                "## Problem Description\n",
                "___\n",
                "Determine a plan to minimize the cost of building bank branches in all counties where all counties with a branch must be adjacent to at least one county with principle place of business (PPB). Assume that none of the counties or any of their bordering counties currently has a PPB.\n",
                "\n",
                "### Annualized Costs by county ($1,000's)\n",
                "\n",
                "|County| Athens | Deleware | Fairfield | Fayette | Franklin | Gallia | Hocking | Jackson |  Knox | Licking |\n",
                "|------|--------|----------|-----------|---------|----------|-------|---------|---------|-------|---------|  \n",
                "| Cost | 1070   | 1420     | 1250      | 1300    | 1420     | 1310   | 1280    | 1140    | 1300  | 1310    |\n",
                "\n",
                "|County| Logan | Madison | Meigs | Morrow | Pickaway | Pike | Ross | Union |  Vinton |\n",
                "|------|-------|---------|-------|--------|----------|------|----- |-------|---------| \n",
                "| Cost | 1180  | 1310    | 1110  | 1180   | 1150     | 1110 | 1240 | 1230  | 1030    |\n",
                "\n",
                ""
            ],
            "metadata": {
                "azdata_cell_guid": "593b9ccf-f711-498c-b86d-269e75a8f46b"
            }
        },
        {
            "cell_type": "code",
            "source": [
                "import numpy as np \n",
                "import pandas as pd\n",
                "import pulp\n",
                "import json"
            ],
            "metadata": {
                "azdata_cell_guid": "dbd645bf-9229-43d3-bfa2-bd1bd6834388"
            },
            "outputs": [],
            "execution_count": 2
        },
        {
            "cell_type": "code",
            "source": [
                "#fixed variables\n",
                "counties = ['Athens','Delaware','Fairfield','Fayette', 'Franklin', 'Gallia', 'Hocking', 'Jackson', 'Knox', 'Licking', 'Logan', 'Madison',\n",
                "            'Meigs', 'Morrow', 'Pickaway', 'Pike',\t'Ross',\t'Union', 'Vinton']\n",
                "\n",
                "annualized_costs = [1070, 1420, 1250, 1300, 1420, 1310, 1280, 1140, 1300, 1310, 1180, 1310, 1110, 1180, 1150, 1110, 1240,\n",
                "                    1230, 1030]\n",
                "\n",
                "n_counties = len(counties)\n",
                "\n",
                "file_name = 'county_adjacencies.csv'\n",
                "adjacencies = pd.read_csv(file_name, index_col=[0])\n",
                "adjacencies = adjacencies.fillna(0)\n",
                "\n",
                "adjacencies.loc['Athens'].values"
            ],
            "metadata": {
                "azdata_cell_guid": "3eafb3eb-6ce8-439a-803c-92b908e86f98"
            },
            "outputs": [
                {
                    "data": {
                        "text/plain": "array([1., 0., 0., 0., 0., 0., 1., 0., 0., 0., 0., 0., 1., 0., 0., 0., 0.,\n       0., 1.])"
                    },
                    "metadata": {},
                    "execution_count": 3,
                    "output_type": "execute_result"
                }
            ],
            "execution_count": 3
        },
        {
            "cell_type": "code",
            "source": [
                "#create the model\n",
                "model = pulp.LpProblem(name='shift_planning', sense=pulp.LpMinimize)\n",
                "\n",
                "\n",
                "county_variables = pulp.LpVariable.matrix('C', counties,\n",
                "                                             lowBound=0, cat=pulp.LpBinary)\n",
                "\n",
                "#Every county must have at least one adjacent county or itself with a PPB\n",
                "for county in counties:\n",
                "    model.addConstraint(pulp.LpConstraint(\n",
                "        e=pulp.lpSum([adjacencies.loc[county][i]*county_variables[i] for i in range(n_counties)]) ,\n",
                "        sense=pulp.LpConstraintGE,\n",
                "        name='min_adj' + county,\n",
                "        rhs=1))\n",
                "\n",
                "objective = pulp.lpSum([county_variables[i]*annualized_costs[i] for i in range(n_counties)])\n",
                "\n",
                "model.setObjective(objective)\n",
                "\n",
                "model.solve()\n",
                "\n",
                "if model.status == 1:\n",
                "    print(f'status: {model.status}, {pulp.LpStatus[model.status]}')\n",
                "    print(f'objective: ${model.objective.value():,.0f}')\n",
                "    output = []\n",
                "    for i,var in enumerate(model.variables()):\n",
                "        output.append(var.value())\n",
                "\n",
                "    print(pd.DataFrame(np.array(output).reshape(1,19), columns=counties))\n",
                "else:\n",
                "    print(f'status: {model.status}, {pulp.LpStatus[model.status]}')"
            ],
            "metadata": {
                "azdata_cell_guid": "d183e3f3-125f-4426-b535-48fe6ebcb967"
            },
            "outputs": [
                {
                    "name": "stdout",
                    "text": "status: 1, Optimal\nobjective: $5,770\n   Athens  Delaware  Fairfield  Fayette  Franklin  Gallia  Hocking  Jackson  \\\n0     0.0       0.0        0.0      0.0       0.0     0.0      0.0      0.0   \n\n   Knox  Licking  Logan  Madison  Meigs  Morrow  Pickaway  Pike  Ross  Union  \\\n0   1.0      0.0    1.0      0.0    0.0     0.0       1.0   1.0   0.0    0.0   \n\n   Vinton  \n0     1.0  \n",
                    "output_type": "stream"
                }
            ],
            "execution_count": 10
        }
    ]
}