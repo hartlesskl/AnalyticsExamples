{
    "metadata": {
        "kernelspec": {
            "name": "python3",
            "display_name": "Python 3"
        },
        "language_info": {
            "name": "python",
            "version": "3.7.6",
            "mimetype": "text/x-python",
            "codemirror_mode": {
                "name": "ipython",
                "version": 3
            },
            "pygments_lexer": "ipython3",
            "nbconvert_exporter": "python",
            "file_extension": ".py"
        }
    },
    "nbformat_minor": 2,
    "nbformat": 4,
    "cells": [
        {
            "cell_type": "markdown",
            "source": [
                "An example to create a sqLite database in python and store data in the database"
            ],
            "metadata": {
                "azdata_cell_guid": "7838ce12-39f7-4950-ba60-e5b1d31310b4"
            }
        },
        {
            "cell_type": "code",
            "source": [
                "import sqlite3 \n",
                "import numpy as np \n",
                "import pandas as pd \n",
                ""
            ],
            "metadata": {
                "azdata_cell_guid": "6f95cc52-dafe-45ac-9f9b-80d67b4ae7fb"
            },
            "outputs": [],
            "execution_count": 1
        },
        {
            "cell_type": "code",
            "source": [
                "\n",
                "conn = sqlite3.connect('movies.db') \n",
                "c = conn.cursor()"
            ],
            "metadata": {
                "azdata_cell_guid": "2062858c-b257-4de8-be17-78c280a63a1d"
            },
            "outputs": [],
            "execution_count": 2
        },
        {
            "cell_type": "markdown",
            "source": [
                "Create functions to create and update database"
            ],
            "metadata": {
                "azdata_cell_guid": "ed385843-e642-44cb-b85a-37c173e8eb1a"
            }
        },
        {
            "cell_type": "code",
            "source": [
                "def table_exists(table_name): \n",
                "    c.execute('''SELECT count(name) FROM sqlite_master WHERE TYPE = 'table' AND name = '{}' '''.format(table_name)) \n",
                "    if c.fetchone()[0] == 1: \n",
                "        return True \n",
                "    return False\n",
                "\n",
                "if not table_exists('movies'): \n",
                "    c.execute(''' \n",
                "        CREATE TABLE movies( \n",
                "            movie_id INTEGER, \n",
                "            name TEXT, \n",
                "            release_year INTEGER, \n",
                "            genre TEXT, \n",
                "            rating REAL \n",
                "        ) \n",
                "    ''')"
            ],
            "metadata": {
                "azdata_cell_guid": "add80a58-93cd-4711-93cf-b5a2ac477cb3"
            },
            "outputs": [],
            "execution_count": 3
        },
        {
            "cell_type": "code",
            "source": [
                "def insert_movie(movie_id, name, release_year, genre, rating): \n",
                "    c.execute(''' INSERT INTO movies (movie_id, name, release_year, genre, rating) VALUES(?, ?, ?, ?, ?) ''', (movie_id, name, release_year, genre, rating)) \n",
                "    conn.commit()\n",
                "\n",
                "def get_movies(): \n",
                "    c.execute('''SELECT * FROM movies''') \n",
                "    data = [] \n",
                "    for row in c.fetchall(): \n",
                "        data.append(row) \n",
                "    return data\n",
                "\n",
                "def get_movie(movie_id): \n",
                "    c.execute('''SELECT * FROM movies WHERE movie_id = {}'''.format(movie_id)) \n",
                "    data = [] \n",
                "    for row in c.fetchall():  \n",
                "        data.append(row) \n",
                "    return data\n",
                "\n",
                "def update_movie(movie_id, update_dict): \n",
                "    valid_keys = ['name', 'release_year', 'genre', 'rating'] \n",
                "    for key in update_dict.keys():  \n",
                "        if key not in valid_keys: \n",
                "            raise Exception('Invalid field name!')     \n",
                "    for key in update_dict.keys(): \n",
                "        if type(update_dict[key]) == str: \n",
                "            stmt = '''UPDATE movies SET {} = '{}' WHERE movie_id = {}'''.format(key, update_dict[key], movie_id) \n",
                "        else: \n",
                "            stmt = '''UPDATE movies SET {} = '{}' WHERE movie_id = {}'''.format(key, update_dict[key], movie_id)         \n",
                "        c.execute(stmt) \n",
                "    conn.commit()\n",
                "\n",
                "def delete_movie(movie_id): \n",
                "    c.execute('''DELETE FROM movies WHERE movie_id = {}'''.format(movie_id)) \n",
                "    conn.commit()"
            ],
            "metadata": {
                "azdata_cell_guid": "e4da1095-f9b8-418d-9c76-e8cb8bf9366c"
            },
            "outputs": [],
            "execution_count": 3
        },
        {
            "cell_type": "code",
            "source": [
                "insert_movie(1, 'Titanic', 1997, 'Drama', 7.8) \n",
                "insert_movie(2, 'The Day After Tomorrow', 2004, 'Action', 6.4) \n",
                "insert_movie(3, '2012', 2009, 'Action', 5.8) \n",
                "insert_movie(4, 'Men in Black', 1997, 'Action', 7.3) \n",
                "insert_movie(5, 'World War Z', 2013, 'Romance', 10)"
            ],
            "metadata": {
                "azdata_cell_guid": "6e78b52c-faf4-4943-bdb5-aad21fb27fcb"
            },
            "outputs": [],
            "execution_count": 7
        },
        {
            "cell_type": "code",
            "source": [
                "get_movies()"
            ],
            "metadata": {
                "azdata_cell_guid": "8e102fab-e266-4a3c-85f3-3a7188be2c06"
            },
            "outputs": [
                {
                    "data": {
                        "text/plain": "[(1, 'Titanic', 1997, 'Drama', 7.8),\n (2, 'The Day After Tomorrow', 2004, 'Action', 6.4),\n (4, 'Men in Black', 1997, 'Action', 7.3),\n (5, 'World War Z', 2013, 'Horror', 7.0)]"
                    },
                    "metadata": {},
                    "execution_count": 4,
                    "output_type": "execute_result"
                }
            ],
            "execution_count": 4
        },
        {
            "cell_type": "code",
            "source": [
                "get_movie(2)"
            ],
            "metadata": {
                "azdata_cell_guid": "3481d7ed-5ac6-4557-bb15-43db6b7db844"
            },
            "outputs": [
                {
                    "output_type": "execute_result",
                    "execution_count": 9,
                    "data": {
                        "text/plain": "[(2, 'The Day After Tomorrow', 2004, 'Action', 6.4)]"
                    },
                    "metadata": {}
                }
            ],
            "execution_count": 9
        },
        {
            "cell_type": "code",
            "source": [
                "update_movie(5, {'genre': 'Horror', 'rating': 7.0})"
            ],
            "metadata": {
                "azdata_cell_guid": "ed3307ee-97c2-4f1b-8748-186a132e802a"
            },
            "outputs": [],
            "execution_count": 10
        },
        {
            "cell_type": "code",
            "source": [
                "delete_movie(3)"
            ],
            "metadata": {
                "azdata_cell_guid": "4df485f6-1473-496a-8a81-5b0496e74dda"
            },
            "outputs": [],
            "execution_count": 11
        },
        {
            "cell_type": "code",
            "source": [
                "get_movies()"
            ],
            "metadata": {
                "azdata_cell_guid": "0e829665-651a-4a0b-ba26-044511c4135c"
            },
            "outputs": [
                {
                    "output_type": "execute_result",
                    "execution_count": 12,
                    "data": {
                        "text/plain": "[(1, 'Titanic', 1997, 'Drama', 7.8),\n (2, 'The Day After Tomorrow', 2004, 'Action', 6.4),\n (4, 'Men in Black', 1997, 'Action', 7.3),\n (5, 'World War Z', 2013, 'Horror', 7.0)]"
                    },
                    "metadata": {}
                }
            ],
            "execution_count": 12
        }
    ]
}